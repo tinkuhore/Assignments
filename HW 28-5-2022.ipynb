{
 "cells": [
  {
   "cell_type": "code",
   "execution_count": 1,
   "id": "fb24c257",
   "metadata": {},
   "outputs": [
    {
     "name": "stdout",
     "output_type": "stream",
     "text": [
      "Q1\n",
      "\n",
      "ineuron \n",
      "ineuron ineuron \n",
      "ineuron ineuron ineuron \n",
      "ineuron ineuron ineuron ineuron \n"
     ]
    }
   ],
   "source": [
    "print('Q1')\n",
    "n=5\n",
    "\n",
    "for i in range(n):\n",
    "    for j in range(1,i+1):\n",
    "        print('ineuron', end=' ')\n",
    "    print()"
   ]
  },
  {
   "cell_type": "code",
   "execution_count": 2,
   "id": "7402cf74",
   "metadata": {},
   "outputs": [
    {
     "name": "stdout",
     "output_type": "stream",
     "text": [
      "Q2\n",
      "                    ineuron \n",
      "                ineuron ineuron \n",
      "            ineuron ineuron ineuron \n",
      "        ineuron ineuron ineuron ineuron \n",
      "    ineuron ineuron ineuron ineuron ineuron \n",
      "        ineuron ineuron ineuron ineuron \n",
      "            ineuron ineuron ineuron \n",
      "                ineuron ineuron \n",
      "                    ineuron \n",
      "                        \n"
     ]
    }
   ],
   "source": [
    "print('Q2')\n",
    "n=5\n",
    "\n",
    "for i in range(n) :\n",
    "    for j in range(i,n):\n",
    "        print('   ',end=' ')\n",
    "    for j in range(0,i+1):\n",
    "        print('ineuron', end=' ')\n",
    "    print()\n",
    "\n",
    "for i in range(n) :\n",
    "    for j in range(0,i+2) :\n",
    "        print('   ',end=' ')\n",
    "    for j in range(i,n-1):\n",
    "        print('ineuron',end=' ')\n",
    "    print()\n",
    "    "
   ]
  },
  {
   "cell_type": "code",
   "execution_count": 1,
   "id": "33d06e7f",
   "metadata": {},
   "outputs": [
    {
     "name": "stdout",
     "output_type": "stream",
     "text": [
      "Q3. List extraction :\n",
      "index=  0 ; Element=  [1, 2, 3, 4]\n",
      "index=  5 ; Element=  ['ineuron', 'data science ']\n"
     ]
    }
   ],
   "source": [
    "l = [[1,2,3,4] , (2,3,4,5,6) , (3,4,5,6,7) , set([23,4,5,45,4,4,5,45,45,4,5]) , {'k1' :\"sudh\" , \"k2\" : \"ineuron\",\"k3\":\n",
    "            \"kumar\" , 3:6 , 7:8} , [\"ineuron\" , \"data science \"]]\n",
    "\n",
    "#q3 : Try to extract all the list entity \n",
    "print('Q3. List extraction :')\n",
    "for i in l :\n",
    "    if type(i) == list :\n",
    "        print('index= ',l.index(i),'; Element= ',i)\n",
    "        "
   ]
  },
  {
   "cell_type": "code",
   "execution_count": 2,
   "id": "c04f48ac",
   "metadata": {},
   "outputs": [
    {
     "name": "stdout",
     "output_type": "stream",
     "text": [
      "\n",
      " Q4. Dictionary extraction\n",
      "index=  4 ; Element=  {'k1': 'sudh', 'k2': 'ineuron', 'k3': 'kumar', 3: 6, 7: 8}\n"
     ]
    }
   ],
   "source": [
    "# q4 : Try to extract all the dict enteties       \n",
    "print('\\n','Q4. Dictionary extraction')\n",
    "for i in l :\n",
    "    if type(i)==dict :\n",
    "        print('index= ',l.index(i),'; Element= ',i)\n",
    "        \n",
    "        \n"
   ]
  },
  {
   "cell_type": "code",
   "execution_count": 3,
   "id": "a47f70f3",
   "metadata": {},
   "outputs": [
    {
     "name": "stdout",
     "output_type": "stream",
     "text": [
      "\n",
      " Q5. Tuple extraction :\n",
      "index=  0 ; Element=  [1, 2, 3, 4]\n",
      "index=  5 ; Element=  ['ineuron', 'data science ']\n"
     ]
    }
   ],
   "source": [
    "#q5 : Try to extract all the tuples entities\n",
    "\n",
    "print('\\n','Q5. Tuple extraction :')\n",
    "for i in l :\n",
    "    if type(i) == list :\n",
    "        print('index= ',l.index(i),'; Element= ',i)\n",
    "        \n"
   ]
  },
  {
   "cell_type": "code",
   "execution_count": 4,
   "id": "03b9b557",
   "metadata": {},
   "outputs": [
    {
     "name": "stdout",
     "output_type": "stream",
     "text": [
      "\n",
      " Q6. Numerical data extraction :\n",
      "[1, 2, 3, 4, 2, 3, 4, 5, 6, 3, 4, 5, 6, 7, 45, 4, 5, 23, 3, 6, 7, 8]\n"
     ]
    }
   ],
   "source": [
    "#q6 : Try to extract all the numerical data it may be a part of dict key and values \n",
    "print('\\n','Q6. Numerical data extraction :')\n",
    "l_num=[]\n",
    "for i in l :\n",
    "    if type(i) == list or type(i)==tuple or type(i) == set :\n",
    "        for j in i :\n",
    "            if type(j)==int :\n",
    "                l_num.append(j)\n",
    "                    \n",
    "    if type(i) == dict :\n",
    "        for j,k in i.items() :\n",
    "            if type(j) == int :\n",
    "                l_num.append(j)\n",
    "            if type(k) == int :\n",
    "                l_num.append(k)\n",
    "            \n",
    "print(l_num)\n",
    "\n"
   ]
  },
  {
   "cell_type": "code",
   "execution_count": 5,
   "id": "26eff4dc",
   "metadata": {},
   "outputs": [
    {
     "name": "stdout",
     "output_type": "stream",
     "text": [
      "\n",
      " Q7. Sum of all numeric data :\n",
      "Sum =  156\n"
     ]
    }
   ],
   "source": [
    "#q7 : Try to give summation of all the numeric data \n",
    "print('\\n','Q7. Sum of all numeric data :')\n",
    "\n",
    "s=0\n",
    "for i in l_num :\n",
    "    s += i\n",
    "    \n",
    "print('Sum = ', s)\n",
    "\n"
   ]
  },
  {
   "cell_type": "code",
   "execution_count": 6,
   "id": "dfaa2a8c",
   "metadata": {},
   "outputs": [
    {
     "name": "stdout",
     "output_type": "stream",
     "text": [
      "\n",
      " Q8. Sort Odd numeric data :\n",
      "[1, 3, 3, 5, 3, 5, 7, 45, 5, 23, 3, 7]\n"
     ]
    }
   ],
   "source": [
    "#q8 : Try to filter out all the odd values out all numeric data which is a part of a list \n",
    "print('\\n','Q8. Sort Odd numeric data :')\n",
    "l_odd=[]\n",
    "for i in l_num :\n",
    "    if i % 2 != 0 :\n",
    "        l_odd.append(i)\n",
    "        \n",
    "print(l_odd)\n",
    "\n",
    "\n"
   ]
  },
  {
   "cell_type": "code",
   "execution_count": 7,
   "id": "65c42baf",
   "metadata": {},
   "outputs": [
    {
     "name": "stdout",
     "output_type": "stream",
     "text": [
      "\n",
      " Q9. extract \"ineruon\" :\n"
     ]
    }
   ],
   "source": [
    "#q9 : Try to extract \"ineruon\" out of this data\n",
    "print('\\n','Q9. extract \"ineruon\" :')\n",
    "\n",
    "for i in l :\n",
    "    if type(i) == list or type(i)==tuple or type(i) == set :\n",
    "        for j in i :\n",
    "            \n",
    "            if j == \"ineruon\" :\n",
    "                \n",
    "                print(i,'\\n','Index - ', i.index(j),';',j)\n",
    "                    \n",
    "    if type(i) == dict :\n",
    "        for j,k in i.items() :\n",
    "            if j == \"ineruon\" :\n",
    "                print(i,'\\n',j)\n",
    "            if k == \"ineruon\" :\n",
    "                print(i,'\\n',k)\n",
    "                \n",
    "#unable to track the problem with this code"
   ]
  },
  {
   "cell_type": "code",
   "execution_count": 8,
   "id": "918b930f",
   "metadata": {},
   "outputs": [
    {
     "name": "stdout",
     "output_type": "stream",
     "text": [
      "\n",
      " Q15. to unwrape all the collection inside collection and create a flat list :\n",
      "[1, 2, 3, 4, 2, 3, 4, 5, 6, 3, 4, 5, 6, 7, 45, 4, 5, 23, 'k1', 'sudh', 'k2', 'ineuron', 'k3', 'kumar', 3, 6, 7, 8, 'ineuron', 'data science ']\n"
     ]
    }
   ],
   "source": [
    " #q15 : Try to unwrape all the collection inside collection and create a flat list\n",
    "print('\\n','Q15. to unwrape all the collection inside collection and create a flat list :')\n",
    "l_all=[]\n",
    "for i in l :\n",
    "    if type(i) == list or type(i)==tuple or type(i) == set :\n",
    "        for j in i :\n",
    "            l_all.append(j)\n",
    "                    \n",
    "    elif type(i) == dict :\n",
    "        for j,k in i.items() :\n",
    "            l_all.append(j)\n",
    "            l_all.append(k)\n",
    "    else :\n",
    "        l_all.append(i)\n",
    "print(l_all)\n",
    "        \n"
   ]
  },
  {
   "cell_type": "code",
   "execution_count": 9,
   "id": "d4210f41",
   "metadata": {},
   "outputs": [
    {
     "name": "stdout",
     "output_type": "stream",
     "text": [
      "\n",
      " Q10. number of occurances of all the data :\n",
      "Element : 1 ; frequency : 1\n",
      "Element : 2 ; frequency : 2\n",
      "Element : 3 ; frequency : 4\n",
      "Element : 4 ; frequency : 4\n",
      "Element : 5 ; frequency : 3\n",
      "Element : 6 ; frequency : 3\n",
      "Element : 7 ; frequency : 2\n",
      "Element : k3 ; frequency : 1\n",
      "Element : 8 ; frequency : 1\n",
      "Element : sudh ; frequency : 1\n",
      "Element : 45 ; frequency : 1\n",
      "Element : k1 ; frequency : 1\n",
      "Element : data science  ; frequency : 1\n",
      "Element : ineuron ; frequency : 2\n",
      "Element : k2 ; frequency : 1\n",
      "Element : kumar ; frequency : 1\n",
      "Element : 23 ; frequency : 1\n"
     ]
    }
   ],
   "source": [
    "#q10 :Try to find out a number of occurances of all the data\n",
    "print('\\n','Q10. number of occurances of all the data :')\n",
    "\n",
    "s_all=set(l_all)\n",
    "for i in s_all:\n",
    "    print('Element :',i,'; frequency :', l_all.count(i))\n",
    "    \n",
    "    \n"
   ]
  },
  {
   "cell_type": "code",
   "execution_count": 10,
   "id": "043d9dd9",
   "metadata": {},
   "outputs": [
    {
     "name": "stdout",
     "output_type": "stream",
     "text": [
      "\n",
      " Q11. number of keys in dict element :\n",
      "['k1', 'k2', 'k3', 3, 7] \n",
      " total no of keys = 5\n"
     ]
    }
   ],
   "source": [
    "#q11 : Try to find out number of keys in dict element\n",
    "print('\\n','Q11. number of keys in dict element :')\n",
    "l_dict=[]\n",
    "count=0\n",
    "for i in l :\n",
    "    if type(i)== dict :\n",
    "        for j in i:\n",
    "            l_dict.append(j)\n",
    "            count+=1\n",
    "print(l_dict,'\\n','total no of keys =',count)\n",
    "        \n",
    "    \n"
   ]
  },
  {
   "cell_type": "code",
   "execution_count": 11,
   "id": "e313ce37",
   "metadata": {},
   "outputs": [
    {
     "name": "stdout",
     "output_type": "stream",
     "text": [
      "\n",
      " Q12. filter out all the string data :\n",
      "['k1', 'sudh', 'k2', 'ineuron', 'k3', 'kumar', 'ineuron', 'data science ']\n"
     ]
    }
   ],
   "source": [
    "#q12 : Try to filter out all the string data \n",
    "print('\\n','Q12. filter out all the string data :')\n",
    "l_str=[]\n",
    "for i in l :\n",
    "    if type(i) == list or type(i)==tuple or type(i) == set :\n",
    "        for j in i :\n",
    "            if type(j)==str :\n",
    "                l_str.append(j)\n",
    "                    \n",
    "    if type(i) == dict :\n",
    "        for j,k in i.items() :\n",
    "            if type(j) == str :\n",
    "                l_str.append(j)\n",
    "            if type(k) == str :\n",
    "                l_str.append(k)\n",
    "            \n",
    "print(l_str)\n",
    "\n",
    "\n"
   ]
  },
  {
   "cell_type": "code",
   "execution_count": 12,
   "id": "ded39eb2",
   "metadata": {},
   "outputs": [],
   "source": [
    "#q13 : Try to Find  out alphanum in data\n",
    "#Question not clear\n",
    "\n",
    "\n"
   ]
  },
  {
   "cell_type": "code",
   "execution_count": 13,
   "id": "dce6f1cd",
   "metadata": {},
   "outputs": [
    {
     "name": "stdout",
     "output_type": "stream",
     "text": [
      "\n",
      " Q14. find out multiplication of all numeric value in  the individual collection :\n",
      "[1, 2, 3, 4] \n",
      " Product = 24\n",
      "(2, 3, 4, 5, 6) \n",
      " Product = 720\n",
      "(3, 4, 5, 6, 7) \n",
      " Product = 2520\n",
      "{45, 4, 5, 23} \n",
      " Product = 20700\n",
      "{'k1': 'sudh', 'k2': 'ineuron', 'k3': 'kumar', 3: 6, 7: 8} \n",
      " Product = 1008\n",
      "['ineuron', 'data science '] \n",
      " Product = 1\n"
     ]
    }
   ],
   "source": [
    "#q14 : Try to find out multiplication of all numeric value in  the individual collection inside dataset\n",
    "print('\\n','Q14. find out multiplication of all numeric value in  the individual collection :')\n",
    "\n",
    "for i in l :\n",
    "    product=1\n",
    "    if type(i) == list or type(i)==tuple or type(i) == set :\n",
    "        for j in i :\n",
    "            if type(j)==int :\n",
    "                product*=j\n",
    "        print(i,'\\n','Product =',product)\n",
    "                    \n",
    "    if type(i) == dict :\n",
    "        for j,k in i.items() :\n",
    "            if type(j) == int :\n",
    "                product*=j\n",
    "            if type(k) == int :\n",
    "                product*=k\n",
    "        print(i,'\\n','Product =',product)"
   ]
  },
  {
   "cell_type": "code",
   "execution_count": null,
   "id": "1a9efe44",
   "metadata": {},
   "outputs": [],
   "source": []
  }
 ],
 "metadata": {
  "kernelspec": {
   "display_name": "Python 3 (ipykernel)",
   "language": "python",
   "name": "python3"
  },
  "language_info": {
   "codemirror_mode": {
    "name": "ipython",
    "version": 3
   },
   "file_extension": ".py",
   "mimetype": "text/x-python",
   "name": "python",
   "nbconvert_exporter": "python",
   "pygments_lexer": "ipython3",
   "version": "3.9.12"
  }
 },
 "nbformat": 4,
 "nbformat_minor": 5
}
