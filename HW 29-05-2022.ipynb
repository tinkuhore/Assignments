{
 "cells": [
  {
   "cell_type": "code",
   "execution_count": 1,
   "id": "e6bccd67",
   "metadata": {},
   "outputs": [
    {
     "name": "stdout",
     "output_type": "stream",
     "text": [
      "*  \n",
      "* *  \n",
      "* * *  \n",
      "* * * *  \n",
      "* * * * *  \n",
      "* * * * * *  \n",
      "* * * * * * *  \n",
      "* * * * * * * *  \n",
      "* * * * * * * * *  \n"
     ]
    }
   ],
   "source": [
    "#Your First Challenge : \n",
    "\n",
    "#q1 : Try to print this by using while loop \n",
    "#* \n",
    "#* * \n",
    "#* * * \n",
    "#* * * * \n",
    "#* * * * * \n",
    "#* * * * * * \n",
    "#* * * * * * * \n",
    "#* * * * * * * * \n",
    "#* * * * * * * * * \n",
    "\n",
    "n=9\n",
    "a=1\n",
    "\n",
    "\n",
    "while a<=n :\n",
    "    print('* '*a,end=' ')\n",
    "    print()\n",
    "    a+=1"
   ]
  },
  {
   "cell_type": "code",
   "execution_count": 2,
   "id": "5cf3f5f3",
   "metadata": {},
   "outputs": [
    {
     "name": "stdout",
     "output_type": "stream",
     "text": [
      "A \n",
      "B H \n",
      "C I N \n",
      "D J O S \n",
      "E K P T W \n",
      "F L Q U X Z \n",
      "G M R V Y \n"
     ]
    }
   ],
   "source": [
    "#q2 : try to print below by using while loop : \n",
    "        \n",
    "#A\n",
    "#B H \n",
    "#C I N\n",
    "#D J o S\n",
    "#E K p T W\n",
    "#F L Q U X z\n",
    "#G M R V Y \n",
    "\n",
    "l=[['A','B','C','D','E','F','G'],['H','I','J','K','L','M'],['N','O','P','Q','R'],['S','T','U','V'],['W','X','Y'],['Z']]\n",
    "\n",
    "a=0\n",
    "count=0\n",
    "\n",
    "while a <= 6 :\n",
    "    \n",
    "    b=0\n",
    "    while b <= a :\n",
    "        \n",
    "        x=l[b]\n",
    "        print(x[a-b],end=' ')\n",
    "        count+=1\n",
    "        if count == 26 :\n",
    "            break\n",
    "        b+=1\n",
    "    print()\n",
    "    a+=1"
   ]
  },
  {
   "cell_type": "code",
   "execution_count": 3,
   "id": "82bcf0fe",
   "metadata": {},
   "outputs": [
    {
     "name": "stdout",
     "output_type": "stream",
     "text": [
      "List of numbers divisible by 3 in between 40 - 400 : \n",
      " [42, 45, 48, 51, 54, 57, 60, 63, 66, 69, 72, 75, 78, 81, 84, 87, 90, 93, 96, 99, 102, 105, 108, 111, 114, 117, 120, 123, 126, 129, 132, 135, 138, 141, 144, 147, 150, 153, 156, 159, 162, 165, 168, 171, 174, 177, 180, 183, 186, 189, 192, 195, 198, 201, 204, 207, 210, 213, 216, 219, 222, 225, 228, 231, 234, 237, 240, 243, 246, 249, 252, 255, 258, 261, 264, 267, 270, 273, 276, 279, 282, 285, 288, 291, 294, 297, 300, 303, 306, 309, 312, 315, 318, 321, 324, 327, 330, 333, 336, 339, 342, 345, 348, 351, 354, 357, 360, 363, 366, 369, 372, 375, 378, 381, 384, 387, 390, 393, 396, 399]\n"
     ]
    }
   ],
   "source": [
    "#q3 : Try to print all the number divisible by 3 in between a range of 40 - 400\n",
    "    \n",
    "a=40\n",
    "b=400\n",
    "l=[]\n",
    "while a<=b :\n",
    "    if a % 3 == 0 :\n",
    "        l.append(a)\n",
    "    a+=1\n",
    "        \n",
    "print('List of numbers divisible by 3 in between 40 - 400 :','\\n',l)"
   ]
  },
  {
   "cell_type": "code",
   "execution_count": 4,
   "id": "2e380da8",
   "metadata": {},
   "outputs": [
    {
     "name": "stdout",
     "output_type": "stream",
     "text": [
      "Total vowels found = 298 \n",
      " Here is your list : \n",
      " ['o', 'i', 'a', 'i', 'e', 'e', 'i', 'e', 'e', 'e', 'e', 'e', 'a', 'u', 'o', 'e', 'o', 'a', 'i', 'a', 'u', 'a', 'e', 'I', 'e', 'i', 'i', 'o', 'o', 'e', 'a', 'i', 'e', 'o', 'e', 'e', 'a', 'a', 'i', 'i', 'i', 'e', 'u', 'e', 'o', 'i', 'i', 'i', 'a', 'i', 'e', 'a', 'i', 'o', 'o', 'i', 'a', 'i', 'a', 'e', 'a', 'a', 'a', 'e', 'o', 'e', 'e', 'I', 'u', 'o', 'u', 'i', 'e', 'o', 'a', 'i', 'a', 'a', 'i', 'i', 'u', 'i', 'u', 'u', 'e', 'a', 'i', 'u', 'a', 'o', 'e', 'u', 'a', 'o', 'e', 'o', 'i', 'e', 'e', 'a', 'u', 'i', 'o', 'a', 'o', 'a', 'i', 'I', 'i', 'o', 'e', 'e', 'i', 'e', 'a', 'a', 'a', 'e', 'i', 'e', 'i', 'u', 'e', 'a', 'u', 'a', 'e', 'u', 'e', 'o', 'i', 'o', 'e', 'e', 'i', 'e', 'a', 'a', 'i', 'a', 'u', 'i', 'o', 'a', 'o', 'u', 'e', 'a', 'o', 'i', 'o', 'o', 'i', 'e', 'a', 'e', 'a', 'a', 'u', 'e', 'o', 'o', 'e', 'A', 'o', 'a', 'i', 'a', 'u', 'a', 'e', 'a', 'i', 'e', 'e', 'a', 'e', 'i', 'i', 'a', 'o', 'o', 'a', 'e', 'e', 'a', 'e', 'i', 'a', 'i', 'o', 'u', 'e', 'e', 'e', 'a', 'u', 'e', 'u', 'a', 'i', 'o', 'e', 'e', 'i', 'o', 'e', 'e', 'e', 'i', 'a', 'a', 'e', 'o', 'e', 'i', 'o', 'e', 'e', 'e', 'e', 'o', 'u', 'i', 'a', 'U', 'i', 'o', 'e', 'u', 'o', 'o', 'e', 'e', 'a', 'e', 'i', 'a', 'a', 'a', 'o', 'e', 'i', 'i', 'o', 'a', 'i', 'o', 'o', 'e', 'e', 'a', 'a', 'o', 'a', 'i', 'e', 'i', 'e', 'a', 'i', 'e', 'e', 'i', 'o', 'o', 'a', 'i', 'o', 'i', 'u', 'e', 'i', 'e', 'i', 'o', 'i', 'o', 'o', 'i', 'e', 'a', 'a', 'o', 'e', 'o', 'e', 'o', 'o', 'u', 'a', 'o', 'a', 'i', 'a', 'u', 'a', 'e']\n"
     ]
    }
   ],
   "source": [
    "#q4 : Try to filter out all the vowels form below text by using while loop : \n",
    "# \"\"\"Python is a high-level, interpreted, general-purpose programming language. Its design philosophy emphasizes code readability with the use of significant indentation.[32]\n",
    "\n",
    "#Python is dynamically-typed and garbage-collected. It supports multiple programming paradigms, including structured (particularly procedural), object-oriented and functional programming. It is often described as a \"batteries included\" language due to its comprehensive standard library.[33][34]\n",
    "\n",
    "#Guido van Rossum began working on Python in the late 1980s as a successor to the ABC programming language and first released it in 1991 as Python 0.9.0.[35] Python 2.0 was released in 2000 and introduced new features such as list comprehensions, cycle-detecting garbage collection, reference counting, and Unicode support. Python 3.0, released in 2008, was a major revision that is not completely backward-compatible with earlier versions. Python 2 was discontinued with version 2.7.18 in 2020.[36]\n",
    "\n",
    "#Python consistently ranks as one of the most popular programming languagesc\"\"\" \n",
    "#\n",
    "\n",
    "s=\"\"\"Python is a high-level, interpreted, general-purpose programming language. Its design philosophy emphasizes code readability with the use of significant indentation.[32]\n",
    "\n",
    "Python is dynamically-typed and garbage-collected. It supports multiple programming paradigms, including structured (particularly procedural), object-oriented and functional programming. It is often described as a \"batteries included\" language due to its comprehensive standard library.[33][34]\n",
    "\n",
    "Guido van Rossum began working on Python in the late 1980s as a successor to the ABC programming language and first released it in 1991 as Python 0.9.0.[35] Python 2.0 was released in 2000 and introduced new features such as list comprehensions, cycle-detecting garbage collection, reference counting, and Unicode support. Python 3.0, released in 2008, was a major revision that is not completely backward-compatible with earlier versions. Python 2 was discontinued with version 2.7.18 in 2020.[36]\n",
    "\n",
    "Python consistently ranks as one of the most popular programming languagesc\"\"\" \n",
    "\n",
    "v=['A','E','I','O','U','a','e','i','o','u']\n",
    "l_vol=[]\n",
    "a=0\n",
    "count=0\n",
    "\n",
    "while a< len(s):\n",
    "    b=0\n",
    "    while b < len(v):\n",
    "        if s[a] == v[b] :\n",
    "            l_vol.append(s[a])\n",
    "            count+=1\n",
    "        b+=1\n",
    "    a+=1\n",
    "    \n",
    "print('Total vowels found =',count,'\\n','Here is your list :','\\n',l_vol)"
   ]
  },
  {
   "cell_type": "code",
   "execution_count": 5,
   "id": "35496903",
   "metadata": {},
   "outputs": [
    {
     "name": "stdout",
     "output_type": "stream",
     "text": [
      "List of all even numbers in between 1-1000 : \n",
      " [2, 4, 6, 8, 10, 12, 14, 16, 18, 20, 22, 24, 26, 28, 30, 32, 34, 36, 38, 40, 42, 44, 46, 48, 50, 52, 54, 56, 58, 60, 62, 64, 66, 68, 70, 72, 74, 76, 78, 80, 82, 84, 86, 88, 90, 92, 94, 96, 98, 100, 102, 104, 106, 108, 110, 112, 114, 116, 118, 120, 122, 124, 126, 128, 130, 132, 134, 136, 138, 140, 142, 144, 146, 148, 150, 152, 154, 156, 158, 160, 162, 164, 166, 168, 170, 172, 174, 176, 178, 180, 182, 184, 186, 188, 190, 192, 194, 196, 198, 200, 202, 204, 206, 208, 210, 212, 214, 216, 218, 220, 222, 224, 226, 228, 230, 232, 234, 236, 238, 240, 242, 244, 246, 248, 250, 252, 254, 256, 258, 260, 262, 264, 266, 268, 270, 272, 274, 276, 278, 280, 282, 284, 286, 288, 290, 292, 294, 296, 298, 300, 302, 304, 306, 308, 310, 312, 314, 316, 318, 320, 322, 324, 326, 328, 330, 332, 334, 336, 338, 340, 342, 344, 346, 348, 350, 352, 354, 356, 358, 360, 362, 364, 366, 368, 370, 372, 374, 376, 378, 380, 382, 384, 386, 388, 390, 392, 394, 396, 398, 400, 402, 404, 406, 408, 410, 412, 414, 416, 418, 420, 422, 424, 426, 428, 430, 432, 434, 436, 438, 440, 442, 444, 446, 448, 450, 452, 454, 456, 458, 460, 462, 464, 466, 468, 470, 472, 474, 476, 478, 480, 482, 484, 486, 488, 490, 492, 494, 496, 498, 500, 502, 504, 506, 508, 510, 512, 514, 516, 518, 520, 522, 524, 526, 528, 530, 532, 534, 536, 538, 540, 542, 544, 546, 548, 550, 552, 554, 556, 558, 560, 562, 564, 566, 568, 570, 572, 574, 576, 578, 580, 582, 584, 586, 588, 590, 592, 594, 596, 598, 600, 602, 604, 606, 608, 610, 612, 614, 616, 618, 620, 622, 624, 626, 628, 630, 632, 634, 636, 638, 640, 642, 644, 646, 648, 650, 652, 654, 656, 658, 660, 662, 664, 666, 668, 670, 672, 674, 676, 678, 680, 682, 684, 686, 688, 690, 692, 694, 696, 698, 700, 702, 704, 706, 708, 710, 712, 714, 716, 718, 720, 722, 724, 726, 728, 730, 732, 734, 736, 738, 740, 742, 744, 746, 748, 750, 752, 754, 756, 758, 760, 762, 764, 766, 768, 770, 772, 774, 776, 778, 780, 782, 784, 786, 788, 790, 792, 794, 796, 798, 800, 802, 804, 806, 808, 810, 812, 814, 816, 818, 820, 822, 824, 826, 828, 830, 832, 834, 836, 838, 840, 842, 844, 846, 848, 850, 852, 854, 856, 858, 860, 862, 864, 866, 868, 870, 872, 874, 876, 878, 880, 882, 884, 886, 888, 890, 892, 894, 896, 898, 900, 902, 904, 906, 908, 910, 912, 914, 916, 918, 920, 922, 924, 926, 928, 930, 932, 934, 936, 938, 940, 942, 944, 946, 948, 950, 952, 954, 956, 958, 960, 962, 964, 966, 968, 970, 972, 974, 976, 978, 980, 982, 984, 986, 988, 990, 992, 994, 996, 998, 1000]\n"
     ]
    }
   ],
   "source": [
    "#q5 : Try to generate all the even number between 1- 1000\n",
    "\n",
    "l_even=[]\n",
    "a=1\n",
    "b=1000\n",
    "\n",
    "while a<=b :\n",
    "    if a%2 == 0 :\n",
    "        l_even.append(a)\n",
    "    a+=1\n",
    "        \n",
    "print('List of all even numbers in between 1-1000 :','\\n',l_even)"
   ]
  },
  {
   "cell_type": "code",
   "execution_count": 6,
   "id": "d93187e3",
   "metadata": {},
   "outputs": [
    {
     "name": "stdout",
     "output_type": "stream",
     "text": [
      "*  \n",
      "* *  \n",
      "* * *  \n",
      "* * * *  \n",
      "* * * * *  \n",
      "* * * * * *  \n",
      "* * * * * * *  \n",
      "* * * * * * * *  \n",
      "* * * * * * * * *  \n"
     ]
    }
   ],
   "source": [
    "#q6 : Define a function for all the above problem statememnt  . \n",
    "    \n",
    "\n",
    "def tri_pattern() :\n",
    "    n=9\n",
    "    a=1\n",
    "\n",
    "\n",
    "    while a<=n :\n",
    "        print('* '*a,end=' ')\n",
    "        print()\n",
    "        a+=1\n",
    "tri_pattern()"
   ]
  },
  {
   "cell_type": "code",
   "execution_count": 7,
   "id": "1c370063",
   "metadata": {},
   "outputs": [
    {
     "name": "stdout",
     "output_type": "stream",
     "text": [
      "List of numbers divisible by 3 in between  40  -  400  : \n",
      " [42, 45, 48, 51, 54, 57, 60, 63, 66, 69, 72, 75, 78, 81, 84, 87, 90, 93, 96, 99, 102, 105, 108, 111, 114, 117, 120, 123, 126, 129, 132, 135, 138, 141, 144, 147, 150, 153, 156, 159, 162, 165, 168, 171, 174, 177, 180, 183, 186, 189, 192, 195, 198, 201, 204, 207, 210, 213, 216, 219, 222, 225, 228, 231, 234, 237, 240, 243, 246, 249, 252, 255, 258, 261, 264, 267, 270, 273, 276, 279, 282, 285, 288, 291, 294, 297, 300, 303, 306, 309, 312, 315, 318, 321, 324, 327, 330, 333, 336, 339, 342, 345, 348, 351, 354, 357, 360, 363, 366, 369, 372, 375, 378, 381, 384, 387, 390, 393, 396, 399]\n"
     ]
    }
   ],
   "source": [
    "def div_by_3(a,b) :\n",
    "    l=[]\n",
    "    x=a\n",
    "    while a<=b :\n",
    "        if a % 3 == 0 :\n",
    "            l.append(a)\n",
    "        a+=1\n",
    "        \n",
    "    print('List of numbers divisible by 3 in between ',x,' - ',b,' :','\\n',l)\n",
    "div_by_3(40,400)"
   ]
  },
  {
   "cell_type": "code",
   "execution_count": 8,
   "id": "7a9644c5",
   "metadata": {},
   "outputs": [
    {
     "name": "stdout",
     "output_type": "stream",
     "text": [
      "Enter a text to extract vowels :ineuron\n",
      "\n",
      " Total vowels found = 4 \n",
      " Here is your list : \n",
      " ['i', 'e', 'u', 'o']\n"
     ]
    }
   ],
   "source": [
    "def extract_vowels(s):\n",
    "    \n",
    "\n",
    "    v=['A','E','I','O','U','a','e','i','o','u']\n",
    "    l_vol=[]\n",
    "    a=0\n",
    "    count=0\n",
    "\n",
    "    while a< len(s):\n",
    "        b=0\n",
    "        while b < len(v):\n",
    "            if s[a] == v[b] :\n",
    "                l_vol.append(s[a])\n",
    "                count+=1\n",
    "            b+=1\n",
    "        a+=1\n",
    "    \n",
    "    print('\\n','Total vowels found =',count,'\\n','Here is your list :','\\n',l_vol)\n",
    "\n",
    "#s=\"\"\"Python is a high-level, interpreted, general-purpose programming language. Its design philosophy emphasizes code readability with the use of significant indentation.[32]\n",
    "\n",
    "#    Python is dynamically-typed and garbage-collected. It supports multiple programming paradigms, including structured (particularly procedural), object-oriented and functional programming. It is often described as a \"batteries included\" language due to its comprehensive standard library.[33][34]\n",
    "\n",
    "#    Guido van Rossum began working on Python in the late 1980s as a successor to the ABC programming language and first released it in 1991 as Python 0.9.0.[35] Python 2.0 was released in 2000 and introduced new features such as list comprehensions, cycle-detecting garbage collection, reference counting, and Unicode support. Python 3.0, released in 2008, was a major revision that is not completely backward-compatible with earlier versions. Python 2 was discontinued with version 2.7.18 in 2020.[36]\n",
    "\n",
    "#    Python consistently ranks as one of the most popular programming languagesc\"\"\" \n",
    "\n",
    "s=str(input(\"Enter a text to extract vowels :\"))\n",
    "extract_vowels(s)"
   ]
  },
  {
   "cell_type": "code",
   "execution_count": 10,
   "id": "93ae5173",
   "metadata": {},
   "outputs": [
    {
     "name": "stdout",
     "output_type": "stream",
     "text": [
      "Enter the range separated by ',' :1,500\n",
      "List of all even numbers in between  1 - 500  : \n",
      " [2, 4, 6, 8, 10, 12, 14, 16, 18, 20, 22, 24, 26, 28, 30, 32, 34, 36, 38, 40, 42, 44, 46, 48, 50, 52, 54, 56, 58, 60, 62, 64, 66, 68, 70, 72, 74, 76, 78, 80, 82, 84, 86, 88, 90, 92, 94, 96, 98, 100, 102, 104, 106, 108, 110, 112, 114, 116, 118, 120, 122, 124, 126, 128, 130, 132, 134, 136, 138, 140, 142, 144, 146, 148, 150, 152, 154, 156, 158, 160, 162, 164, 166, 168, 170, 172, 174, 176, 178, 180, 182, 184, 186, 188, 190, 192, 194, 196, 198, 200, 202, 204, 206, 208, 210, 212, 214, 216, 218, 220, 222, 224, 226, 228, 230, 232, 234, 236, 238, 240, 242, 244, 246, 248, 250, 252, 254, 256, 258, 260, 262, 264, 266, 268, 270, 272, 274, 276, 278, 280, 282, 284, 286, 288, 290, 292, 294, 296, 298, 300, 302, 304, 306, 308, 310, 312, 314, 316, 318, 320, 322, 324, 326, 328, 330, 332, 334, 336, 338, 340, 342, 344, 346, 348, 350, 352, 354, 356, 358, 360, 362, 364, 366, 368, 370, 372, 374, 376, 378, 380, 382, 384, 386, 388, 390, 392, 394, 396, 398, 400, 402, 404, 406, 408, 410, 412, 414, 416, 418, 420, 422, 424, 426, 428, 430, 432, 434, 436, 438, 440, 442, 444, 446, 448, 450, 452, 454, 456, 458, 460, 462, 464, 466, 468, 470, 472, 474, 476, 478, 480, 482, 484, 486, 488, 490, 492, 494, 496, 498, 500]\n"
     ]
    }
   ],
   "source": [
    "def generate_even_nos(a,b) :\n",
    "    l_even=[]\n",
    "    a=int(a)\n",
    "    b=int(b)\n",
    "    \n",
    "    while a<=b :\n",
    "        if a%2 == 0 :\n",
    "            l_even.append(a)\n",
    "        a+=1\n",
    "        \n",
    "    print('List of all even numbers in between ',a-b,'-',b,' :','\\n',l_even)\n",
    "\n",
    "a,b=input(\"Enter the range separated by ',' :\").split(',')\n",
    "generate_even_nos(a,b)"
   ]
  },
  {
   "cell_type": "code",
   "execution_count": 11,
   "id": "36905e7e",
   "metadata": {},
   "outputs": [
    {
     "name": "stdout",
     "output_type": "stream",
     "text": [
      "Current time :  10:32 PM\n"
     ]
    }
   ],
   "source": [
    "#q7 : write a code to get a time of your system \n",
    "\n",
    "import time\n",
    "\n",
    "t = time.localtime()\n",
    "current_time = time.strftime(\"%I:%M %p\", t)\n",
    "print('Current time : ',current_time)"
   ]
  },
  {
   "cell_type": "code",
   "execution_count": 12,
   "id": "4493d5d8",
   "metadata": {},
   "outputs": [
    {
     "name": "stdout",
     "output_type": "stream",
     "text": [
      "2022-06-03\n"
     ]
    }
   ],
   "source": [
    "#q8 : Write a code to fetch date form your system \n",
    "\n",
    "from datetime import date\n",
    "\n",
    "d=date.today()\n",
    "\n",
    "print(d)"
   ]
  },
  {
   "cell_type": "code",
   "execution_count": 13,
   "id": "1fab3298",
   "metadata": {},
   "outputs": [
    {
     "ename": "SMTPAuthenticationError",
     "evalue": "(535, b'5.7.8 Username and Password not accepted. Learn more at\\n5.7.8  https://support.google.com/mail/?p=BadCredentials e14-20020a170902ed8e00b0015edfccfdb5sm5715507plj.50 - gsmtp')",
     "output_type": "error",
     "traceback": [
      "\u001b[0;31m---------------------------------------------------------------------------\u001b[0m",
      "\u001b[0;31mSMTPAuthenticationError\u001b[0m                   Traceback (most recent call last)",
      "Input \u001b[0;32mIn [13]\u001b[0m, in \u001b[0;36m<cell line: 8>\u001b[0;34m()\u001b[0m\n\u001b[1;32m      5\u001b[0m m\u001b[38;5;241m=\u001b[39msmtplib\u001b[38;5;241m.\u001b[39mSMTP_SSL(\u001b[38;5;124m'\u001b[39m\u001b[38;5;124msmtp.gmail.com\u001b[39m\u001b[38;5;124m'\u001b[39m, \u001b[38;5;241m465\u001b[39m)\n\u001b[1;32m      7\u001b[0m \u001b[38;5;66;03m#m.starttls()\u001b[39;00m\n\u001b[0;32m----> 8\u001b[0m \u001b[43mm\u001b[49m\u001b[38;5;241;43m.\u001b[39;49m\u001b[43mlogin\u001b[49m\u001b[43m(\u001b[49m\u001b[38;5;124;43m'\u001b[39;49m\u001b[38;5;124;43mtinku.doitnow@gmail.com\u001b[39;49m\u001b[38;5;124;43m'\u001b[39;49m\u001b[43m,\u001b[49m\u001b[38;5;124;43m'\u001b[39;49m\u001b[38;5;124;43mBolbokeno@1994\u001b[39;49m\u001b[38;5;124;43m'\u001b[39;49m\u001b[43m)\u001b[49m\n\u001b[1;32m     10\u001b[0m msg\u001b[38;5;241m=\u001b[39m\u001b[38;5;124m\"\u001b[39m\u001b[38;5;124mHI dear \u001b[39m\u001b[38;5;130;01m\\n\u001b[39;00m\u001b[38;5;124m I\u001b[39m\u001b[38;5;124m'\u001b[39m\u001b[38;5;124mm sending this mail using my python code\u001b[39m\u001b[38;5;124m\"\u001b[39m\n\u001b[1;32m     12\u001b[0m \u001b[38;5;66;03m#l=['priyanka2016hore@gmail.com','amitchakraborty053@gmail.com','rajatbachhawat@gmail.com','tinku.doitnow@gmail.com']\u001b[39;00m\n",
      "File \u001b[0;32m~/anaconda3/lib/python3.9/smtplib.py:750\u001b[0m, in \u001b[0;36mSMTP.login\u001b[0;34m(self, user, password, initial_response_ok)\u001b[0m\n\u001b[1;32m    747\u001b[0m         last_exception \u001b[38;5;241m=\u001b[39m e\n\u001b[1;32m    749\u001b[0m \u001b[38;5;66;03m# We could not login successfully.  Return result of last attempt.\u001b[39;00m\n\u001b[0;32m--> 750\u001b[0m \u001b[38;5;28;01mraise\u001b[39;00m last_exception\n",
      "File \u001b[0;32m~/anaconda3/lib/python3.9/smtplib.py:739\u001b[0m, in \u001b[0;36mSMTP.login\u001b[0;34m(self, user, password, initial_response_ok)\u001b[0m\n\u001b[1;32m    737\u001b[0m method_name \u001b[38;5;241m=\u001b[39m \u001b[38;5;124m'\u001b[39m\u001b[38;5;124mauth_\u001b[39m\u001b[38;5;124m'\u001b[39m \u001b[38;5;241m+\u001b[39m authmethod\u001b[38;5;241m.\u001b[39mlower()\u001b[38;5;241m.\u001b[39mreplace(\u001b[38;5;124m'\u001b[39m\u001b[38;5;124m-\u001b[39m\u001b[38;5;124m'\u001b[39m, \u001b[38;5;124m'\u001b[39m\u001b[38;5;124m_\u001b[39m\u001b[38;5;124m'\u001b[39m)\n\u001b[1;32m    738\u001b[0m \u001b[38;5;28;01mtry\u001b[39;00m:\n\u001b[0;32m--> 739\u001b[0m     (code, resp) \u001b[38;5;241m=\u001b[39m \u001b[38;5;28;43mself\u001b[39;49m\u001b[38;5;241;43m.\u001b[39;49m\u001b[43mauth\u001b[49m\u001b[43m(\u001b[49m\n\u001b[1;32m    740\u001b[0m \u001b[43m        \u001b[49m\u001b[43mauthmethod\u001b[49m\u001b[43m,\u001b[49m\u001b[43m \u001b[49m\u001b[38;5;28;43mgetattr\u001b[39;49m\u001b[43m(\u001b[49m\u001b[38;5;28;43mself\u001b[39;49m\u001b[43m,\u001b[49m\u001b[43m \u001b[49m\u001b[43mmethod_name\u001b[49m\u001b[43m)\u001b[49m\u001b[43m,\u001b[49m\n\u001b[1;32m    741\u001b[0m \u001b[43m        \u001b[49m\u001b[43minitial_response_ok\u001b[49m\u001b[38;5;241;43m=\u001b[39;49m\u001b[43minitial_response_ok\u001b[49m\u001b[43m)\u001b[49m\n\u001b[1;32m    742\u001b[0m     \u001b[38;5;66;03m# 235 == 'Authentication successful'\u001b[39;00m\n\u001b[1;32m    743\u001b[0m     \u001b[38;5;66;03m# 503 == 'Error: already authenticated'\u001b[39;00m\n\u001b[1;32m    744\u001b[0m     \u001b[38;5;28;01mif\u001b[39;00m code \u001b[38;5;129;01min\u001b[39;00m (\u001b[38;5;241m235\u001b[39m, \u001b[38;5;241m503\u001b[39m):\n",
      "File \u001b[0;32m~/anaconda3/lib/python3.9/smtplib.py:662\u001b[0m, in \u001b[0;36mSMTP.auth\u001b[0;34m(self, mechanism, authobject, initial_response_ok)\u001b[0m\n\u001b[1;32m    660\u001b[0m \u001b[38;5;28;01mif\u001b[39;00m code \u001b[38;5;129;01min\u001b[39;00m (\u001b[38;5;241m235\u001b[39m, \u001b[38;5;241m503\u001b[39m):\n\u001b[1;32m    661\u001b[0m     \u001b[38;5;28;01mreturn\u001b[39;00m (code, resp)\n\u001b[0;32m--> 662\u001b[0m \u001b[38;5;28;01mraise\u001b[39;00m SMTPAuthenticationError(code, resp)\n",
      "\u001b[0;31mSMTPAuthenticationError\u001b[0m: (535, b'5.7.8 Username and Password not accepted. Learn more at\\n5.7.8  https://support.google.com/mail/?p=BadCredentials e14-20020a170902ed8e00b0015edfccfdb5sm5715507plj.50 - gsmtp')"
     ]
    }
   ],
   "source": [
    "#q9 : Write a code to send a mail to your friend \n",
    "\n",
    "import smtplib\n",
    "\n",
    "m=smtplib.SMTP_SSL('smtp.gmail.com', 465)\n",
    "\n",
    "#m.starttls()\n",
    "m.login('tinku.doitnow@gmail.com','Bolbokeno@1994')\n",
    "\n",
    "msg=\"HI dear \\n I'm sending this mail using my python code\"\n",
    "\n",
    "#l=['priyanka2016hore@gmail.com','amitchakraborty053@gmail.com','rajatbachhawat@gmail.com','tinku.doitnow@gmail.com']\n",
    "\n",
    "for i in l :\n",
    "    m.sendmail('tinku.doitnow@gmail.com','tinku.doitnow@gmail.com',msg)\n",
    "    \n",
    "s.quit()"
   ]
  },
  {
   "cell_type": "code",
   "execution_count": 14,
   "id": "e219d6b6",
   "metadata": {},
   "outputs": [
    {
     "ename": "KeyError",
     "evalue": "'AC99dcfea64c8f6df5d596e18b36dad0d3'",
     "output_type": "error",
     "traceback": [
      "\u001b[0;31m---------------------------------------------------------------------------\u001b[0m",
      "\u001b[0;31mKeyError\u001b[0m                                  Traceback (most recent call last)",
      "Input \u001b[0;32mIn [14]\u001b[0m, in \u001b[0;36m<cell line: 12>\u001b[0;34m()\u001b[0m\n\u001b[1;32m      7\u001b[0m \u001b[38;5;28;01mfrom\u001b[39;00m \u001b[38;5;21;01mtwilio\u001b[39;00m\u001b[38;5;21;01m.\u001b[39;00m\u001b[38;5;21;01mrest\u001b[39;00m \u001b[38;5;28;01mimport\u001b[39;00m Client\n\u001b[1;32m     10\u001b[0m \u001b[38;5;66;03m# Find your Account SID and Auth Token at twilio.com/console\u001b[39;00m\n\u001b[1;32m     11\u001b[0m \u001b[38;5;66;03m# and set the environment variables. See http://twil.io/secure\u001b[39;00m\n\u001b[0;32m---> 12\u001b[0m account_sid \u001b[38;5;241m=\u001b[39m \u001b[43mos\u001b[49m\u001b[38;5;241;43m.\u001b[39;49m\u001b[43menviron\u001b[49m\u001b[43m[\u001b[49m\u001b[38;5;124;43m'\u001b[39;49m\u001b[38;5;124;43mAC99dcfea64c8f6df5d596e18b36dad0d3\u001b[39;49m\u001b[38;5;124;43m'\u001b[39;49m\u001b[43m]\u001b[49m\n\u001b[1;32m     13\u001b[0m auth_token \u001b[38;5;241m=\u001b[39m os\u001b[38;5;241m.\u001b[39menviron[\u001b[38;5;124m'\u001b[39m\u001b[38;5;124m12437f7ee204922106c460301c150846\u001b[39m\u001b[38;5;124m'\u001b[39m]\n\u001b[1;32m     14\u001b[0m client \u001b[38;5;241m=\u001b[39m Client(account_sid, auth_token)\n",
      "File \u001b[0;32m~/anaconda3/lib/python3.9/os.py:679\u001b[0m, in \u001b[0;36m_Environ.__getitem__\u001b[0;34m(self, key)\u001b[0m\n\u001b[1;32m    676\u001b[0m     value \u001b[38;5;241m=\u001b[39m \u001b[38;5;28mself\u001b[39m\u001b[38;5;241m.\u001b[39m_data[\u001b[38;5;28mself\u001b[39m\u001b[38;5;241m.\u001b[39mencodekey(key)]\n\u001b[1;32m    677\u001b[0m \u001b[38;5;28;01mexcept\u001b[39;00m \u001b[38;5;167;01mKeyError\u001b[39;00m:\n\u001b[1;32m    678\u001b[0m     \u001b[38;5;66;03m# raise KeyError with the original key value\u001b[39;00m\n\u001b[0;32m--> 679\u001b[0m     \u001b[38;5;28;01mraise\u001b[39;00m \u001b[38;5;167;01mKeyError\u001b[39;00m(key) \u001b[38;5;28;01mfrom\u001b[39;00m \u001b[38;5;28mNone\u001b[39m\n\u001b[1;32m    680\u001b[0m \u001b[38;5;28;01mreturn\u001b[39;00m \u001b[38;5;28mself\u001b[39m\u001b[38;5;241m.\u001b[39mdecodevalue(value)\n",
      "\u001b[0;31mKeyError\u001b[0m: 'AC99dcfea64c8f6df5d596e18b36dad0d3'"
     ]
    }
   ],
   "source": [
    "#q10 : write a code to trigger alarm for you at scheduled time \n",
    "\n",
    "# python script for sending message update\n",
    "\n",
    "\n",
    "import os\n",
    "from twilio.rest import Client\n",
    "\n",
    "\n",
    "# Find your Account SID and Auth Token at twilio.com/console\n",
    "# and set the environment variables. See http://twil.io/secure\n",
    "account_sid = os.environ['AC99dcfea64c8f6df5d596e18b36dad0d3']\n",
    "auth_token = os.environ['12437f7ee204922106c460301c150846']\n",
    "client = Client(account_sid, auth_token)\n",
    "msg=client.message.create()\n",
    "message = client.messages \\\n",
    "                .create(\n",
    "                     body=\"Join Earth's mightiest heroes. Like Kevin Bacon.\",\n",
    "                     from_='+19379321725',\n",
    "                     to='+1919614929765'\n",
    "                 )\n",
    "\n",
    "print(message.sid)"
   ]
  },
  {
   "cell_type": "code",
   "execution_count": 15,
   "id": "5355605a",
   "metadata": {},
   "outputs": [
    {
     "name": "stdout",
     "output_type": "stream",
     "text": [
      "Your Computer Name is:neelneera-VirtualBox\n",
      "Your Computer IP Address is:127.0.1.1\n"
     ]
    }
   ],
   "source": [
    "#q11 : write a code to check ip address of your system \n",
    "\n",
    "import socket   \n",
    "hostname = socket.gethostname()   \n",
    "IPAddr = socket.gethostbyname(hostname)   \n",
    "print(\"Your Computer Name is:\" + hostname)   \n",
    "print(\"Your Computer IP Address is:\" + IPAddr)"
   ]
  },
  {
   "cell_type": "code",
   "execution_count": null,
   "id": "27bc89b9",
   "metadata": {},
   "outputs": [],
   "source": [
    "#q12 : Write a code to check a perticular installation in your system\n",
    "\n"
   ]
  },
  {
   "cell_type": "code",
   "execution_count": null,
   "id": "67f2709a",
   "metadata": {},
   "outputs": [],
   "source": [
    "#q13 : Write a code to convert any text in to voice "
   ]
  },
  {
   "cell_type": "code",
   "execution_count": 16,
   "id": "ab9425ed",
   "metadata": {},
   "outputs": [
    {
     "name": "stdout",
     "output_type": "stream",
     "text": [
      "Enter any string to find its lenght :i love my INDIA\n",
      "Length of the text  i love my INDIA  is  15\n"
     ]
    }
   ],
   "source": [
    "#q14 : you have to write a fun which will take string and return a len of \n",
    "#it without using a inbuilt fun len\n",
    "\n",
    "def count_length(s) :\n",
    "    count=0\n",
    "\n",
    "    for i in s :\n",
    "        count+=1\n",
    "    \n",
    "    print('Length of the text ',s,' is ',count)\n",
    "    \n",
    "s=input('Enter any string to find its lenght :')\n",
    "\n",
    "count_length(s)"
   ]
  },
  {
   "cell_type": "code",
   "execution_count": null,
   "id": "59a1c760",
   "metadata": {},
   "outputs": [],
   "source": [
    "#q15 :write a fun which will be able to print an index of all premitive element which you will pass "
   ]
  },
  {
   "cell_type": "code",
   "execution_count": 17,
   "id": "a53badf4",
   "metadata": {},
   "outputs": [
    {
     "name": "stdout",
     "output_type": "stream",
     "text": [
      "['Vill', 'P.O.', 'Dist', 'PIN']\n",
      "['insta', 'facebook']\n",
      "['mail']\n",
      "[]\n",
      "['Phone']\n",
      "['Name', 'Surname', 'DOB']\n"
     ]
    }
   ],
   "source": [
    "#q16 : Write a fun which will take input as a dict and give me out as a list of all the values \n",
    "#even in case of 2 level nesting it should work . \n",
    "\n",
    "\n",
    "\n",
    "def ext_dict(d) :\n",
    "    l=[]\n",
    "    for j in d.values() :\n",
    "        \n",
    "        if type(j)== dict :\n",
    "            ext_dict(j)\n",
    "        else :\n",
    "            l.append(j)\n",
    "    print(l)\n",
    "\n",
    "d={'k1':'Name', 'k2':'Surname','k10':{'k3':'Vill','k4':'P.O.','k5':'Dist','k6':'PIN'},'k11':{'k7':'Phone','k12':{'k8':{'k16':'mail','k13':{'k14':'insta','k15':'facebook'}}}},'k9':'DOB'}\n",
    "        \n",
    "ext_dict(d)"
   ]
  },
  {
   "cell_type": "code",
   "execution_count": 1,
   "id": "9ab67afe",
   "metadata": {},
   "outputs": [
    {
     "name": "stdout",
     "output_type": "stream",
     "text": [
      "How many list u want to concatenate? 4\n",
      "Enter list :i love\n",
      "['i', 'love'] <class 'list'> \n",
      "\n",
      "Enter list : my \n",
      "['my'] <class 'list'> \n",
      "\n",
      "Enter list :IND\n",
      "['IND'] <class 'list'> \n",
      "\n",
      "Enter list :IA\n",
      "['IA'] <class 'list'> \n",
      "\n",
      "\n",
      " Final result : \n",
      "   i love my IND IA\n"
     ]
    }
   ],
   "source": [
    "#q17 : write a function whihc will take multiple list as a input and give me concatnation of all the element as \n",
    "#and output\n",
    "\n",
    "def concatenate_list() :\n",
    "    n=int(input('How many list u want to concatenate? '))\n",
    "    ans= ' '\n",
    "    for i in range(n):\n",
    "        i=input('Enter list :').split()\n",
    "        print(i,type(i),'\\n')\n",
    "        for j in i :\n",
    "            ans= ans + ' ' +j\n",
    "            \n",
    "    print('\\n','Final result :','\\n',ans)\n",
    "    \n",
    "concatenate_list()"
   ]
  },
  {
   "cell_type": "code",
   "execution_count": null,
   "id": "46538d19",
   "metadata": {},
   "outputs": [],
   "source": []
  },
  {
   "cell_type": "code",
   "execution_count": 2,
   "id": "62f9a6aa",
   "metadata": {},
   "outputs": [
    {
     "name": "stdout",
     "output_type": "stream",
     "text": [
      "\n",
      " Files found in current working directory  /home/neelneera  : \n",
      "\n",
      "    1 .  .pki\n",
      "    2 .  .local\n",
      "    3 .  .fontconfig\n",
      "    4 .  .ipython\n",
      "    5 .  .ssh\n",
      "    6 .  .bashrc\n",
      "    7 .  HW 29-05-2022.ipynb\n",
      "    8 .  .gnome\n",
      "    9 .  Programming_Assingment4.ipynb\n",
      "    10 .  .bash_history\n",
      "    11 .  production ID_4114797.mp4\n",
      "    12 .  Programming Assignment_1.ipynb\n",
      "    13 .  .cache\n",
      "    14 .  Desktop\n",
      "    15 .  anaconda3\n",
      "    16 .  .gnupg\n",
      "    17 .  Videos\n",
      "    18 .  .bash_logout\n",
      "    19 .  Downloads\n",
      "    20 .  Programming_Assingment5.ipynb\n",
      "    21 .  Templates\n",
      "    22 .  30.1.jpeg\n",
      "    23 .  .jupyter\n",
      "    24 .  Class 4 worksheet-9.pdf\n",
      "    25 .  file_example_AVI_1920_2_3MG.avi\n",
      "    26 .  .sudo_as_admin_successful\n",
      "    27 .  .profile\n",
      "    28 .  Public\n",
      "    29 .  Documents\n",
      "    30 .  Pictures\n",
      "    31 .  .config\n",
      "    32 .  Class 4 worksheet-8.pdf\n",
      "    33 .  Programming_Assingment3.ipynb\n",
      "    34 .  .condarc\n",
      "    35 .  .anaconda\n",
      "    36 .  .conda\n",
      "    37 .  Programming_Assingment2.ipynb\n",
      "    38 .  Music\n",
      "    39 .  rtc-snapshot-116149384.jpg_1524726475719_2.jpeg\n",
      "    40 .  .hplip\n",
      "    41 .  snap\n",
      "    42 .  .zoom\n",
      "    43 .  .continuum\n",
      "    44 .  .ipynb_checkpoints\n"
     ]
    }
   ],
   "source": [
    "#q18 : Write a function which will whould return list of all the file name from a directory . \n",
    "\n",
    "def files_in_dir() :\n",
    "    import os\n",
    "    #path=input('Enter the path of Directory : ')\n",
    "    path=os.getcwd()\n",
    "    l=os.listdir(path)\n",
    "    print('\\n','Files found in current working directory ',path,' :','\\n')\n",
    "    for i in l :\n",
    "        print('   ',l.index(i)+1,'. ',i)\n",
    "files_in_dir()"
   ]
  },
  {
   "cell_type": "code",
   "execution_count": 3,
   "id": "81ab91b4",
   "metadata": {},
   "outputs": [],
   "source": [
    "#q19 : write a function whihc will be able to read a image file and show it to you .\n",
    "    \n",
    "import imageio as iio\n",
    " \n",
    "# read an image\n",
    "img = iio.imread(\"rtc-snapshot-116149384.jpg_1524726475719_2.jpeg\")\n",
    " \n",
    "# write it in a new format\n",
    "iio.imwrite(\"rtc-snapshot-116149384.jpg_1524726475719_2.jpeg\", img)"
   ]
  },
  {
   "cell_type": "code",
   "execution_count": 4,
   "id": "9b225da2",
   "metadata": {},
   "outputs": [],
   "source": [
    "#q20 : write a function by which you will be able to append two PDF files . \n",
    "\n",
    "from PyPDF2 import PdfMerger\n",
    "\n",
    "pdfs = ['Class 4 worksheet-8.pdf', 'Class 4 worksheet-9.pdf']\n",
    "\n",
    "merger = PdfMerger()\n",
    "\n",
    "for pdf in pdfs:\n",
    "    merger.append(pdf)\n",
    "\n",
    "merger.write(\"result.pdf\")\n",
    "merger.close()"
   ]
  },
  {
   "cell_type": "code",
   "execution_count": null,
   "id": "f02a1b29",
   "metadata": {},
   "outputs": [],
   "source": [
    "#q21 : write a function which can help you to filter only word file from a directory . \n",
    "    \n",
    "import os\n",
    "    #path=input('Enter the path of Directory : ')\n",
    "    path=os.getcwd()\n",
    "    l=os.listdir(path)\n",
    "    x=os.walk"
   ]
  },
  {
   "cell_type": "code",
   "execution_count": null,
   "id": "6a2d1b24",
   "metadata": {},
   "outputs": [],
   "source": [
    "import os\n",
    "if __name__ == \"__main__\":\n",
    "    for (root,dirs,files) in os.walk('Test', topdown=True):\n",
    "        print (root)\n",
    "        print (dirs)\n",
    "        print (files)\n",
    "        print ('--------------------------------')"
   ]
  },
  {
   "cell_type": "code",
   "execution_count": null,
   "id": "ef83a5cc",
   "metadata": {},
   "outputs": [],
   "source": [
    "#q22 : write a function which can read video file and play for you . \n",
    "    \n",
    "import cv2\n",
    "\n",
    "cap=cv2.VideoCapture(\"production ID_4114797.mp4\");\n",
    "\n",
    "while(True) :\n",
    "    rat,frame=cap.read()\n",
    "    \n",
    "    cv2.imshow('Frame',frame)\n",
    "\n",
    "    \n",
    "    if cv2.waitKey(1) & 0xFF == ord('q'):\n",
    "        break\n",
    "        \n",
    "cap.release()\n",
    "cv2.destroyAllWindows()\n"
   ]
  },
  {
   "cell_type": "code",
   "execution_count": null,
   "id": "3f9e287a",
   "metadata": {},
   "outputs": [],
   "source": [
    "import cv2\n",
    "\n",
    "cap = cv2.VideoCapture('production ID_4114797.mp4')\n",
    "\n",
    "\n",
    "if (cap.isOpened()== False): \n",
    "  print(\"Error opening video stream or file\")\n",
    "\n",
    "while(cap.isOpened()):\n",
    "    ret, frame = cap.read()\n",
    "    if ret == True:\n",
    "\n",
    "        cv2.imshow('Frame',frame)\n",
    "\n",
    "    if cv2.waitKey(25) & 0xFF == ord('q'):\n",
    "        break\n",
    "\n",
    "    else: \n",
    "        break\n",
    "\n",
    "cap.release()\n",
    "\n",
    "cv2.destroyAllWindows()"
   ]
  },
  {
   "cell_type": "code",
   "execution_count": null,
   "id": "e1698e7f",
   "metadata": {},
   "outputs": [],
   "source": [
    "#q23 : write a function which will be able to shutdonw your system . \n",
    "\n",
    "import os\n",
    "\n",
    "print(\"Enter Number of Seconds to Shutdown System: \")\n",
    "sec = int(input())\n",
    "\n",
    "strOne = \"shutdown /s /t \"\n",
    "strTwo = str(sec)\n",
    "str = strOne+strTwo\n",
    "\n",
    "os.system(str)"
   ]
  },
  {
   "cell_type": "code",
   "execution_count": null,
   "id": "fdea6f7c",
   "metadata": {},
   "outputs": [],
   "source": [
    "#q24 : Write a function which will whould return list of all the file name from a directory . \n",
    "\n",
    "#same as q18"
   ]
  },
  {
   "cell_type": "code",
   "execution_count": null,
   "id": "f0468acd",
   "metadata": {},
   "outputs": [],
   "source": [
    "#q25 : write a function whihc will be able to access your mail . \n",
    "\n"
   ]
  }
 ],
 "metadata": {
  "kernelspec": {
   "display_name": "Python 3 (ipykernel)",
   "language": "python",
   "name": "python3"
  },
  "language_info": {
   "codemirror_mode": {
    "name": "ipython",
    "version": 3
   },
   "file_extension": ".py",
   "mimetype": "text/x-python",
   "name": "python",
   "nbconvert_exporter": "python",
   "pygments_lexer": "ipython3",
   "version": "3.9.12"
  }
 },
 "nbformat": 4,
 "nbformat_minor": 5
}
