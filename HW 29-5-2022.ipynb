{
 "cells": [
  {
   "cell_type": "code",
   "execution_count": 6,
   "id": "194366d0",
   "metadata": {},
   "outputs": [
    {
     "name": "stdout",
     "output_type": "stream",
     "text": [
      "*  \n",
      "* *  \n",
      "* * *  \n",
      "* * * *  \n",
      "* * * * *  \n",
      "* * * * * *  \n",
      "* * * * * * *  \n",
      "* * * * * * * *  \n",
      "* * * * * * * * *  \n"
     ]
    }
   ],
   "source": [
    "#Your First Challenge : \n",
    "\n",
    "#q1 : Try to print this by using while loop \n",
    "#* \n",
    "#* * \n",
    "#* * * \n",
    "#* * * * \n",
    "#* * * * * \n",
    "#* * * * * * \n",
    "#* * * * * * * \n",
    "#* * * * * * * * \n",
    "#* * * * * * * * * \n",
    "\n",
    "n=9\n",
    "a=1\n",
    "\n",
    "\n",
    "while a<=n :\n",
    "    print('* '*a,end=' ')\n",
    "    print()\n",
    "    a+=1"
   ]
  },
  {
   "cell_type": "code",
   "execution_count": 12,
   "id": "e4df516c",
   "metadata": {},
   "outputs": [
    {
     "name": "stdout",
     "output_type": "stream",
     "text": [
      "A \n",
      "B H \n",
      "C I N \n",
      "D J O S \n",
      "E K P T W \n",
      "F L Q U X Z \n",
      "G M R V Y \n"
     ]
    }
   ],
   "source": [
    "#q2 : try to print below by using while loop : \n",
    "        \n",
    "#A\n",
    "#B H \n",
    "#C I N\n",
    "#D J o S\n",
    "#E K p T W\n",
    "#F L Q U X z\n",
    "#G M R V Y \n",
    "\n",
    "l=[['A','B','C','D','E','F','G'],['H','I','J','K','L','M'],['N','O','P','Q','R'],['S','T','U','V'],['W','X','Y'],['Z']]\n",
    "\n",
    "a=0\n",
    "count=0\n",
    "\n",
    "while a <= 6 :\n",
    "    \n",
    "    b=0\n",
    "    while b <= a :\n",
    "        \n",
    "        x=l[b]\n",
    "        print(x[a-b],end=' ')\n",
    "        count+=1\n",
    "        if count == 26 :\n",
    "            break\n",
    "        b+=1\n",
    "    print()\n",
    "    a+=1\n"
   ]
  },
  {
   "cell_type": "code",
   "execution_count": 1,
   "id": "b0b16f25",
   "metadata": {},
   "outputs": [
    {
     "name": "stdout",
     "output_type": "stream",
     "text": [
      "List of numbers divisible by 3 in between 40 - 400 : \n",
      " [42, 45, 48, 51, 54, 57, 60, 63, 66, 69, 72, 75, 78, 81, 84, 87, 90, 93, 96, 99, 102, 105, 108, 111, 114, 117, 120, 123, 126, 129, 132, 135, 138, 141, 144, 147, 150, 153, 156, 159, 162, 165, 168, 171, 174, 177, 180, 183, 186, 189, 192, 195, 198, 201, 204, 207, 210, 213, 216, 219, 222, 225, 228, 231, 234, 237, 240, 243, 246, 249, 252, 255, 258, 261, 264, 267, 270, 273, 276, 279, 282, 285, 288, 291, 294, 297, 300, 303, 306, 309, 312, 315, 318, 321, 324, 327, 330, 333, 336, 339, 342, 345, 348, 351, 354, 357, 360, 363, 366, 369, 372, 375, 378, 381, 384, 387, 390, 393, 396, 399]\n"
     ]
    }
   ],
   "source": [
    "#q3 : Try to print all the number divisible by 3 in between a range of 40 - 400\n",
    "    \n",
    "a=40\n",
    "b=400\n",
    "l=[]\n",
    "while a<=b :\n",
    "    if a % 3 == 0 :\n",
    "        l.append(a)\n",
    "    a+=1\n",
    "        \n",
    "print('List of numbers divisible by 3 in between 40 - 400 :','\\n',l)"
   ]
  },
  {
   "cell_type": "code",
   "execution_count": 7,
   "id": "7aae0706",
   "metadata": {},
   "outputs": [
    {
     "name": "stdout",
     "output_type": "stream",
     "text": [
      "Total vowels found = 298 \n",
      " Here is your list : \n",
      " ['o', 'i', 'a', 'i', 'e', 'e', 'i', 'e', 'e', 'e', 'e', 'e', 'a', 'u', 'o', 'e', 'o', 'a', 'i', 'a', 'u', 'a', 'e', 'I', 'e', 'i', 'i', 'o', 'o', 'e', 'a', 'i', 'e', 'o', 'e', 'e', 'a', 'a', 'i', 'i', 'i', 'e', 'u', 'e', 'o', 'i', 'i', 'i', 'a', 'i', 'e', 'a', 'i', 'o', 'o', 'i', 'a', 'i', 'a', 'e', 'a', 'a', 'a', 'e', 'o', 'e', 'e', 'I', 'u', 'o', 'u', 'i', 'e', 'o', 'a', 'i', 'a', 'a', 'i', 'i', 'u', 'i', 'u', 'u', 'e', 'a', 'i', 'u', 'a', 'o', 'e', 'u', 'a', 'o', 'e', 'o', 'i', 'e', 'e', 'a', 'u', 'i', 'o', 'a', 'o', 'a', 'i', 'I', 'i', 'o', 'e', 'e', 'i', 'e', 'a', 'a', 'a', 'e', 'i', 'e', 'i', 'u', 'e', 'a', 'u', 'a', 'e', 'u', 'e', 'o', 'i', 'o', 'e', 'e', 'i', 'e', 'a', 'a', 'i', 'a', 'u', 'i', 'o', 'a', 'o', 'u', 'e', 'a', 'o', 'i', 'o', 'o', 'i', 'e', 'a', 'e', 'a', 'a', 'u', 'e', 'o', 'o', 'e', 'A', 'o', 'a', 'i', 'a', 'u', 'a', 'e', 'a', 'i', 'e', 'e', 'a', 'e', 'i', 'i', 'a', 'o', 'o', 'a', 'e', 'e', 'a', 'e', 'i', 'a', 'i', 'o', 'u', 'e', 'e', 'e', 'a', 'u', 'e', 'u', 'a', 'i', 'o', 'e', 'e', 'i', 'o', 'e', 'e', 'e', 'i', 'a', 'a', 'e', 'o', 'e', 'i', 'o', 'e', 'e', 'e', 'e', 'o', 'u', 'i', 'a', 'U', 'i', 'o', 'e', 'u', 'o', 'o', 'e', 'e', 'a', 'e', 'i', 'a', 'a', 'a', 'o', 'e', 'i', 'i', 'o', 'a', 'i', 'o', 'o', 'e', 'e', 'a', 'a', 'o', 'a', 'i', 'e', 'i', 'e', 'a', 'i', 'e', 'e', 'i', 'o', 'o', 'a', 'i', 'o', 'i', 'u', 'e', 'i', 'e', 'i', 'o', 'i', 'o', 'o', 'i', 'e', 'a', 'a', 'o', 'e', 'o', 'e', 'o', 'o', 'u', 'a', 'o', 'a', 'i', 'a', 'u', 'a', 'e']\n"
     ]
    }
   ],
   "source": [
    "#q4 : Try to filter out all the vowels form below text by using while loop : \n",
    "# \"\"\"Python is a high-level, interpreted, general-purpose programming language. Its design philosophy emphasizes code readability with the use of significant indentation.[32]\n",
    "\n",
    "#Python is dynamically-typed and garbage-collected. It supports multiple programming paradigms, including structured (particularly procedural), object-oriented and functional programming. It is often described as a \"batteries included\" language due to its comprehensive standard library.[33][34]\n",
    "\n",
    "#Guido van Rossum began working on Python in the late 1980s as a successor to the ABC programming language and first released it in 1991 as Python 0.9.0.[35] Python 2.0 was released in 2000 and introduced new features such as list comprehensions, cycle-detecting garbage collection, reference counting, and Unicode support. Python 3.0, released in 2008, was a major revision that is not completely backward-compatible with earlier versions. Python 2 was discontinued with version 2.7.18 in 2020.[36]\n",
    "\n",
    "#Python consistently ranks as one of the most popular programming languagesc\"\"\" \n",
    "#\n",
    "\n",
    "s=\"\"\"Python is a high-level, interpreted, general-purpose programming language. Its design philosophy emphasizes code readability with the use of significant indentation.[32]\n",
    "\n",
    "Python is dynamically-typed and garbage-collected. It supports multiple programming paradigms, including structured (particularly procedural), object-oriented and functional programming. It is often described as a \"batteries included\" language due to its comprehensive standard library.[33][34]\n",
    "\n",
    "Guido van Rossum began working on Python in the late 1980s as a successor to the ABC programming language and first released it in 1991 as Python 0.9.0.[35] Python 2.0 was released in 2000 and introduced new features such as list comprehensions, cycle-detecting garbage collection, reference counting, and Unicode support. Python 3.0, released in 2008, was a major revision that is not completely backward-compatible with earlier versions. Python 2 was discontinued with version 2.7.18 in 2020.[36]\n",
    "\n",
    "Python consistently ranks as one of the most popular programming languagesc\"\"\" \n",
    "\n",
    "v=['A','E','I','O','U','a','e','i','o','u']\n",
    "l_vol=[]\n",
    "a=0\n",
    "count=0\n",
    "\n",
    "while a< len(s):\n",
    "    b=0\n",
    "    while b < len(v):\n",
    "        if s[a] == v[b] :\n",
    "            l_vol.append(s[a])\n",
    "            count+=1\n",
    "        b+=1\n",
    "    a+=1\n",
    "    \n",
    "print('Total vowels found =',count,'\\n','Here is your list :','\\n',l_vol)"
   ]
  },
  {
   "cell_type": "code",
   "execution_count": 1,
   "id": "06ced41a",
   "metadata": {},
   "outputs": [
    {
     "name": "stdout",
     "output_type": "stream",
     "text": [
      "List of all even numbers in between 1-1000 : \n",
      " [2, 4, 6, 8, 10, 12, 14, 16, 18, 20, 22, 24, 26, 28, 30, 32, 34, 36, 38, 40, 42, 44, 46, 48, 50, 52, 54, 56, 58, 60, 62, 64, 66, 68, 70, 72, 74, 76, 78, 80, 82, 84, 86, 88, 90, 92, 94, 96, 98, 100, 102, 104, 106, 108, 110, 112, 114, 116, 118, 120, 122, 124, 126, 128, 130, 132, 134, 136, 138, 140, 142, 144, 146, 148, 150, 152, 154, 156, 158, 160, 162, 164, 166, 168, 170, 172, 174, 176, 178, 180, 182, 184, 186, 188, 190, 192, 194, 196, 198, 200, 202, 204, 206, 208, 210, 212, 214, 216, 218, 220, 222, 224, 226, 228, 230, 232, 234, 236, 238, 240, 242, 244, 246, 248, 250, 252, 254, 256, 258, 260, 262, 264, 266, 268, 270, 272, 274, 276, 278, 280, 282, 284, 286, 288, 290, 292, 294, 296, 298, 300, 302, 304, 306, 308, 310, 312, 314, 316, 318, 320, 322, 324, 326, 328, 330, 332, 334, 336, 338, 340, 342, 344, 346, 348, 350, 352, 354, 356, 358, 360, 362, 364, 366, 368, 370, 372, 374, 376, 378, 380, 382, 384, 386, 388, 390, 392, 394, 396, 398, 400, 402, 404, 406, 408, 410, 412, 414, 416, 418, 420, 422, 424, 426, 428, 430, 432, 434, 436, 438, 440, 442, 444, 446, 448, 450, 452, 454, 456, 458, 460, 462, 464, 466, 468, 470, 472, 474, 476, 478, 480, 482, 484, 486, 488, 490, 492, 494, 496, 498, 500, 502, 504, 506, 508, 510, 512, 514, 516, 518, 520, 522, 524, 526, 528, 530, 532, 534, 536, 538, 540, 542, 544, 546, 548, 550, 552, 554, 556, 558, 560, 562, 564, 566, 568, 570, 572, 574, 576, 578, 580, 582, 584, 586, 588, 590, 592, 594, 596, 598, 600, 602, 604, 606, 608, 610, 612, 614, 616, 618, 620, 622, 624, 626, 628, 630, 632, 634, 636, 638, 640, 642, 644, 646, 648, 650, 652, 654, 656, 658, 660, 662, 664, 666, 668, 670, 672, 674, 676, 678, 680, 682, 684, 686, 688, 690, 692, 694, 696, 698, 700, 702, 704, 706, 708, 710, 712, 714, 716, 718, 720, 722, 724, 726, 728, 730, 732, 734, 736, 738, 740, 742, 744, 746, 748, 750, 752, 754, 756, 758, 760, 762, 764, 766, 768, 770, 772, 774, 776, 778, 780, 782, 784, 786, 788, 790, 792, 794, 796, 798, 800, 802, 804, 806, 808, 810, 812, 814, 816, 818, 820, 822, 824, 826, 828, 830, 832, 834, 836, 838, 840, 842, 844, 846, 848, 850, 852, 854, 856, 858, 860, 862, 864, 866, 868, 870, 872, 874, 876, 878, 880, 882, 884, 886, 888, 890, 892, 894, 896, 898, 900, 902, 904, 906, 908, 910, 912, 914, 916, 918, 920, 922, 924, 926, 928, 930, 932, 934, 936, 938, 940, 942, 944, 946, 948, 950, 952, 954, 956, 958, 960, 962, 964, 966, 968, 970, 972, 974, 976, 978, 980, 982, 984, 986, 988, 990, 992, 994, 996, 998, 1000]\n"
     ]
    }
   ],
   "source": [
    "#q5 : Try to generate all the even number between 1- 1000\n",
    "\n",
    "l_even=[]\n",
    "a=1\n",
    "b=1000\n",
    "\n",
    "while a<=b :\n",
    "    if a%2 == 0 :\n",
    "        l_even.append(a)\n",
    "    a+=1\n",
    "        \n",
    "print('List of all even numbers in between 1-1000 :','\\n',l_even)"
   ]
  },
  {
   "cell_type": "code",
   "execution_count": 2,
   "id": "fa2aa6b4",
   "metadata": {},
   "outputs": [],
   "source": [
    "#q6 : Define a function for all the above problem statememnt  . \n",
    "    \n",
    "\n",
    "def tri_pattern() :\n",
    "    n=9\n",
    "    a=1\n",
    "\n",
    "\n",
    "    while a<=n :\n",
    "        print('* '*a,end=' ')\n",
    "        print()\n",
    "        a+=1"
   ]
  },
  {
   "cell_type": "code",
   "execution_count": 3,
   "id": "68ead196",
   "metadata": {},
   "outputs": [
    {
     "name": "stdout",
     "output_type": "stream",
     "text": [
      "*  \n",
      "* *  \n",
      "* * *  \n",
      "* * * *  \n",
      "* * * * *  \n",
      "* * * * * *  \n",
      "* * * * * * *  \n",
      "* * * * * * * *  \n",
      "* * * * * * * * *  \n"
     ]
    }
   ],
   "source": [
    "tri_pattern()"
   ]
  },
  {
   "cell_type": "code",
   "execution_count": 9,
   "id": "51338310",
   "metadata": {},
   "outputs": [],
   "source": [
    "def div_by_3(a,b) :\n",
    "    l=[]\n",
    "    x=a\n",
    "    while a<=b :\n",
    "        if a % 3 == 0 :\n",
    "            l.append(a)\n",
    "        a+=1\n",
    "        \n",
    "    print('List of numbers divisible by 3 in between ',x,' - ',b,' :','\\n',l)"
   ]
  },
  {
   "cell_type": "code",
   "execution_count": 12,
   "id": "0d6162d3",
   "metadata": {},
   "outputs": [
    {
     "name": "stdout",
     "output_type": "stream",
     "text": [
      "List of numbers divisible by 3 in between  40  -  400  : \n",
      " [42, 45, 48, 51, 54, 57, 60, 63, 66, 69, 72, 75, 78, 81, 84, 87, 90, 93, 96, 99, 102, 105, 108, 111, 114, 117, 120, 123, 126, 129, 132, 135, 138, 141, 144, 147, 150, 153, 156, 159, 162, 165, 168, 171, 174, 177, 180, 183, 186, 189, 192, 195, 198, 201, 204, 207, 210, 213, 216, 219, 222, 225, 228, 231, 234, 237, 240, 243, 246, 249, 252, 255, 258, 261, 264, 267, 270, 273, 276, 279, 282, 285, 288, 291, 294, 297, 300, 303, 306, 309, 312, 315, 318, 321, 324, 327, 330, 333, 336, 339, 342, 345, 348, 351, 354, 357, 360, 363, 366, 369, 372, 375, 378, 381, 384, 387, 390, 393, 396, 399]\n"
     ]
    }
   ],
   "source": [
    "div_by_3(40,400)"
   ]
  },
  {
   "cell_type": "code",
   "execution_count": 19,
   "id": "52473ca1",
   "metadata": {},
   "outputs": [],
   "source": [
    "def extract_vowels(s):\n",
    "    \n",
    "\n",
    "    v=['A','E','I','O','U','a','e','i','o','u']\n",
    "    l_vol=[]\n",
    "    a=0\n",
    "    count=0\n",
    "\n",
    "    while a< len(s):\n",
    "        b=0\n",
    "        while b < len(v):\n",
    "            if s[a] == v[b] :\n",
    "                l_vol.append(s[a])\n",
    "                count+=1\n",
    "            b+=1\n",
    "        a+=1\n",
    "    \n",
    "    print('\\n','Total vowels found =',count,'\\n','Here is your list :','\\n',l_vol)"
   ]
  },
  {
   "cell_type": "code",
   "execution_count": null,
   "id": "a9fd66e7",
   "metadata": {},
   "outputs": [],
   "source": [
    "#s=\"\"\"Python is a high-level, interpreted, general-purpose programming language. Its design philosophy emphasizes code readability with the use of significant indentation.[32]\n",
    "\n",
    "#    Python is dynamically-typed and garbage-collected. It supports multiple programming paradigms, including structured (particularly procedural), object-oriented and functional programming. It is often described as a \"batteries included\" language due to its comprehensive standard library.[33][34]\n",
    "\n",
    "#    Guido van Rossum began working on Python in the late 1980s as a successor to the ABC programming language and first released it in 1991 as Python 0.9.0.[35] Python 2.0 was released in 2000 and introduced new features such as list comprehensions, cycle-detecting garbage collection, reference counting, and Unicode support. Python 3.0, released in 2008, was a major revision that is not completely backward-compatible with earlier versions. Python 2 was discontinued with version 2.7.18 in 2020.[36]\n",
    "\n",
    "#    Python consistently ranks as one of the most popular programming languagesc\"\"\" "
   ]
  },
  {
   "cell_type": "code",
   "execution_count": 20,
   "id": "d099e3a9",
   "metadata": {},
   "outputs": [
    {
     "name": "stdout",
     "output_type": "stream",
     "text": [
      "Enter a text to extract vowels :I am studying full stack data science course in ineuron\n",
      "\n",
      " Total vowels found = 19 \n",
      " Here is your list : \n",
      " ['I', 'a', 'u', 'i', 'u', 'a', 'a', 'a', 'i', 'e', 'e', 'o', 'u', 'e', 'i', 'i', 'e', 'u', 'o']\n"
     ]
    }
   ],
   "source": [
    "s=str(input(\"Enter a text to extract vowels :\"))\n",
    "extract_vowels(s)"
   ]
  },
  {
   "cell_type": "code",
   "execution_count": 3,
   "id": "a5108f44",
   "metadata": {},
   "outputs": [],
   "source": [
    "def generate_even_nos(a,b) :\n",
    "    l_even=[]\n",
    "    a=int(a)\n",
    "    b=int(b)\n",
    "    \n",
    "    while a<=b :\n",
    "        if a%2 == 0 :\n",
    "            l_even.append(a)\n",
    "        a+=1\n",
    "        \n",
    "    print('List of all even numbers in between ',a-b,'-',b,' :','\\n',l_even)"
   ]
  },
  {
   "cell_type": "code",
   "execution_count": 4,
   "id": "bbfaa173",
   "metadata": {},
   "outputs": [
    {
     "name": "stdout",
     "output_type": "stream",
     "text": [
      "Enter the range separated by ',' :1,100\n",
      "List of all even numbers in between  1 - 100  : \n",
      " [2, 4, 6, 8, 10, 12, 14, 16, 18, 20, 22, 24, 26, 28, 30, 32, 34, 36, 38, 40, 42, 44, 46, 48, 50, 52, 54, 56, 58, 60, 62, 64, 66, 68, 70, 72, 74, 76, 78, 80, 82, 84, 86, 88, 90, 92, 94, 96, 98, 100]\n"
     ]
    }
   ],
   "source": [
    "a,b=input(\"Enter the range separated by ',' :\").split(',')\n",
    "generate_even_nos(a,b)\n"
   ]
  },
  {
   "cell_type": "code",
   "execution_count": 9,
   "id": "f50a12ab",
   "metadata": {},
   "outputs": [
    {
     "name": "stdout",
     "output_type": "stream",
     "text": [
      "Current time :  11:13 PM\n"
     ]
    }
   ],
   "source": [
    "#q7 : write a code to get a time of your system \n",
    "\n",
    "import time\n",
    "\n",
    "t = time.localtime()\n",
    "current_time = time.strftime(\"%I:%M %p\", t)\n",
    "print('Current time : ',current_time)"
   ]
  },
  {
   "cell_type": "code",
   "execution_count": 18,
   "id": "412f87c2",
   "metadata": {},
   "outputs": [
    {
     "name": "stdout",
     "output_type": "stream",
     "text": [
      "2022-05-31\n"
     ]
    }
   ],
   "source": [
    "#q8 : Write a code to fetch date form your system \n",
    "\n",
    "from datetime import date\n",
    "\n",
    "d=date.today()\n",
    "\n",
    "print(d)"
   ]
  },
  {
   "cell_type": "code",
   "execution_count": 25,
   "id": "5d53f4aa",
   "metadata": {},
   "outputs": [
    {
     "ename": "SMTPAuthenticationError",
     "evalue": "(535, b'5.7.8 Username and Password not accepted. Learn more at\\n5.7.8  https://support.google.com/mail/?p=BadCredentials bh4-20020a170902a98400b00163e0699260sm3392098plb.291 - gsmtp')",
     "output_type": "error",
     "traceback": [
      "\u001b[1;31m---------------------------------------------------------------------------\u001b[0m",
      "\u001b[1;31mSMTPAuthenticationError\u001b[0m                   Traceback (most recent call last)",
      "Input \u001b[1;32mIn [25]\u001b[0m, in \u001b[0;36m<cell line: 8>\u001b[1;34m()\u001b[0m\n\u001b[0;32m      5\u001b[0m m\u001b[38;5;241m=\u001b[39msmtplib\u001b[38;5;241m.\u001b[39mSMTP(\u001b[38;5;124m'\u001b[39m\u001b[38;5;124msmtp.gmail.com\u001b[39m\u001b[38;5;124m'\u001b[39m, \u001b[38;5;241m587\u001b[39m)\n\u001b[0;32m      7\u001b[0m m\u001b[38;5;241m.\u001b[39mstarttls()\n\u001b[1;32m----> 8\u001b[0m \u001b[43mm\u001b[49m\u001b[38;5;241;43m.\u001b[39;49m\u001b[43mlogin\u001b[49m\u001b[43m(\u001b[49m\u001b[38;5;124;43m'\u001b[39;49m\u001b[38;5;124;43myour_mail_id\u001b[39;49m\u001b[38;5;124;43m'\u001b[39;49m\u001b[43m,\u001b[49m\u001b[38;5;124;43m'\u001b[39;49m\u001b[38;5;124;43mpassword\u001b[39;49m\u001b[38;5;124;43m'\u001b[39;49m\u001b[43m)\u001b[49m\n\u001b[0;32m     10\u001b[0m msg\u001b[38;5;241m=\u001b[39m\u001b[38;5;124m\"\u001b[39m\u001b[38;5;124mHI dear \u001b[39m\u001b[38;5;130;01m\\n\u001b[39;00m\u001b[38;5;124m I\u001b[39m\u001b[38;5;124m'\u001b[39m\u001b[38;5;124mm sending this mail using my python code\u001b[39m\u001b[38;5;124m\"\u001b[39m\n\u001b[0;32m     12\u001b[0m l\u001b[38;5;241m=\u001b[39m[\u001b[38;5;124m'\u001b[39m\u001b[38;5;124mpriyanka2016hore@gmail.com\u001b[39m\u001b[38;5;124m'\u001b[39m,\u001b[38;5;124m'\u001b[39m\u001b[38;5;124mamitchakraborty053@gmail.com\u001b[39m\u001b[38;5;124m'\u001b[39m,\u001b[38;5;124m'\u001b[39m\u001b[38;5;124mrajatbachhawat@gmail.com\u001b[39m\u001b[38;5;124m'\u001b[39m,\u001b[38;5;124m'\u001b[39m\u001b[38;5;124mtinku.doitnow@gmail.com\u001b[39m\u001b[38;5;124m'\u001b[39m]\n",
      "File \u001b[1;32mC:\\ProgramData\\Anaconda3\\lib\\smtplib.py:750\u001b[0m, in \u001b[0;36mSMTP.login\u001b[1;34m(self, user, password, initial_response_ok)\u001b[0m\n\u001b[0;32m    747\u001b[0m         last_exception \u001b[38;5;241m=\u001b[39m e\n\u001b[0;32m    749\u001b[0m \u001b[38;5;66;03m# We could not login successfully.  Return result of last attempt.\u001b[39;00m\n\u001b[1;32m--> 750\u001b[0m \u001b[38;5;28;01mraise\u001b[39;00m last_exception\n",
      "File \u001b[1;32mC:\\ProgramData\\Anaconda3\\lib\\smtplib.py:739\u001b[0m, in \u001b[0;36mSMTP.login\u001b[1;34m(self, user, password, initial_response_ok)\u001b[0m\n\u001b[0;32m    737\u001b[0m method_name \u001b[38;5;241m=\u001b[39m \u001b[38;5;124m'\u001b[39m\u001b[38;5;124mauth_\u001b[39m\u001b[38;5;124m'\u001b[39m \u001b[38;5;241m+\u001b[39m authmethod\u001b[38;5;241m.\u001b[39mlower()\u001b[38;5;241m.\u001b[39mreplace(\u001b[38;5;124m'\u001b[39m\u001b[38;5;124m-\u001b[39m\u001b[38;5;124m'\u001b[39m, \u001b[38;5;124m'\u001b[39m\u001b[38;5;124m_\u001b[39m\u001b[38;5;124m'\u001b[39m)\n\u001b[0;32m    738\u001b[0m \u001b[38;5;28;01mtry\u001b[39;00m:\n\u001b[1;32m--> 739\u001b[0m     (code, resp) \u001b[38;5;241m=\u001b[39m \u001b[38;5;28;43mself\u001b[39;49m\u001b[38;5;241;43m.\u001b[39;49m\u001b[43mauth\u001b[49m\u001b[43m(\u001b[49m\n\u001b[0;32m    740\u001b[0m \u001b[43m        \u001b[49m\u001b[43mauthmethod\u001b[49m\u001b[43m,\u001b[49m\u001b[43m \u001b[49m\u001b[38;5;28;43mgetattr\u001b[39;49m\u001b[43m(\u001b[49m\u001b[38;5;28;43mself\u001b[39;49m\u001b[43m,\u001b[49m\u001b[43m \u001b[49m\u001b[43mmethod_name\u001b[49m\u001b[43m)\u001b[49m\u001b[43m,\u001b[49m\n\u001b[0;32m    741\u001b[0m \u001b[43m        \u001b[49m\u001b[43minitial_response_ok\u001b[49m\u001b[38;5;241;43m=\u001b[39;49m\u001b[43minitial_response_ok\u001b[49m\u001b[43m)\u001b[49m\n\u001b[0;32m    742\u001b[0m     \u001b[38;5;66;03m# 235 == 'Authentication successful'\u001b[39;00m\n\u001b[0;32m    743\u001b[0m     \u001b[38;5;66;03m# 503 == 'Error: already authenticated'\u001b[39;00m\n\u001b[0;32m    744\u001b[0m     \u001b[38;5;28;01mif\u001b[39;00m code \u001b[38;5;129;01min\u001b[39;00m (\u001b[38;5;241m235\u001b[39m, \u001b[38;5;241m503\u001b[39m):\n",
      "File \u001b[1;32mC:\\ProgramData\\Anaconda3\\lib\\smtplib.py:662\u001b[0m, in \u001b[0;36mSMTP.auth\u001b[1;34m(self, mechanism, authobject, initial_response_ok)\u001b[0m\n\u001b[0;32m    660\u001b[0m \u001b[38;5;28;01mif\u001b[39;00m code \u001b[38;5;129;01min\u001b[39;00m (\u001b[38;5;241m235\u001b[39m, \u001b[38;5;241m503\u001b[39m):\n\u001b[0;32m    661\u001b[0m     \u001b[38;5;28;01mreturn\u001b[39;00m (code, resp)\n\u001b[1;32m--> 662\u001b[0m \u001b[38;5;28;01mraise\u001b[39;00m SMTPAuthenticationError(code, resp)\n",
      "\u001b[1;31mSMTPAuthenticationError\u001b[0m: (535, b'5.7.8 Username and Password not accepted. Learn more at\\n5.7.8  https://support.google.com/mail/?p=BadCredentials bh4-20020a170902a98400b00163e0699260sm3392098plb.291 - gsmtp')"
     ]
    }
   ],
   "source": [
    "#q9 : Write a code to send a mail to your friend \n",
    "\n",
    "import smtplib\n",
    "\n",
    "m=smtplib.SMTP('smtp.gmail.com', 587)\n",
    "\n",
    "m.starttls()\n",
    "m.login('your_mail_id','password')\n",
    "\n",
    "msg=\"HI dear \\n I'm sending this mail using my python code\"\n",
    "\n",
    "l=['priyanka2016hore@gmail.com','amitchakraborty053@gmail.com','rajatbachhawat@gmail.com','tinku.doitnow@gmail.com']\n",
    "\n",
    "for i in l :\n",
    "    m.sendmail('tinku.doitnow@gmail.com',i,msg)\n",
    "    \n",
    "s.quit()"
   ]
  },
  {
   "cell_type": "code",
   "execution_count": 1,
   "id": "79ed9d78",
   "metadata": {},
   "outputs": [
    {
     "ename": "ModuleNotFoundError",
     "evalue": "No module named 'twilio'",
     "output_type": "error",
     "traceback": [
      "\u001b[1;31m---------------------------------------------------------------------------\u001b[0m",
      "\u001b[1;31mModuleNotFoundError\u001b[0m                       Traceback (most recent call last)",
      "Input \u001b[1;32mIn [1]\u001b[0m, in \u001b[0;36m<cell line: 7>\u001b[1;34m()\u001b[0m\n\u001b[0;32m      1\u001b[0m \u001b[38;5;66;03m#q10 : write a code to trigger alarm for you at scheduled time \u001b[39;00m\n\u001b[0;32m      2\u001b[0m \n\u001b[0;32m      3\u001b[0m \u001b[38;5;66;03m# python script for sending message update\u001b[39;00m\n\u001b[0;32m      6\u001b[0m \u001b[38;5;28;01mimport\u001b[39;00m \u001b[38;5;21;01mos\u001b[39;00m\n\u001b[1;32m----> 7\u001b[0m \u001b[38;5;28;01mfrom\u001b[39;00m \u001b[38;5;21;01mtwilio\u001b[39;00m\u001b[38;5;21;01m.\u001b[39;00m\u001b[38;5;21;01mrest\u001b[39;00m \u001b[38;5;28;01mimport\u001b[39;00m Client\n\u001b[0;32m     10\u001b[0m \u001b[38;5;66;03m# Find your Account SID and Auth Token at twilio.com/console\u001b[39;00m\n\u001b[0;32m     11\u001b[0m \u001b[38;5;66;03m# and set the environment variables. See http://twil.io/secure\u001b[39;00m\n\u001b[0;32m     12\u001b[0m account_sid \u001b[38;5;241m=\u001b[39m os\u001b[38;5;241m.\u001b[39menviron[\u001b[38;5;124m'\u001b[39m\u001b[38;5;124mAC99dcfea64c8f6df5d596e18b36dad0d3\u001b[39m\u001b[38;5;124m'\u001b[39m]\n",
      "\u001b[1;31mModuleNotFoundError\u001b[0m: No module named 'twilio'"
     ]
    }
   ],
   "source": [
    "#q10 : write a code to trigger alarm for you at scheduled time \n",
    "\n",
    "# python script for sending message update\n",
    "\n",
    "\n",
    "import os\n",
    "from twilio.rest import Client\n",
    "\n",
    "\n",
    "# Find your Account SID and Auth Token at twilio.com/console\n",
    "# and set the environment variables. See http://twil.io/secure\n",
    "account_sid = os.environ['AC99dcfea64c8f6df5d596e18b36dad0d3']\n",
    "auth_token = os.environ['12437f7ee204922106c460301c150846']\n",
    "client = Client(account_sid, auth_token)\n",
    "msg=client.message.create()\n",
    "message = client.messages \\\n",
    "                .create(\n",
    "                     body=\"Join Earth's mightiest heroes. Like Kevin Bacon.\",\n",
    "                     from_='+19379321725',\n",
    "                     to='+1919614929765'\n",
    "                 )\n",
    "\n",
    "print(message.sid)"
   ]
  },
  {
   "cell_type": "code",
   "execution_count": 1,
   "id": "6b57e284",
   "metadata": {},
   "outputs": [
    {
     "name": "stdout",
     "output_type": "stream",
     "text": [
      "Your Computer Name is:DESKTOP-5RBOPIH\n",
      "Your Computer IP Address is:192.168.0.101\n"
     ]
    }
   ],
   "source": [
    "#q11 : write a code to check ip address of your system \n",
    "\n",
    "import socket   \n",
    "hostname = socket.gethostname()   \n",
    "IPAddr = socket.gethostbyname(hostname)   \n",
    "print(\"Your Computer Name is:\" + hostname)   \n",
    "print(\"Your Computer IP Address is:\" + IPAddr)"
   ]
  },
  {
   "cell_type": "code",
   "execution_count": 9,
   "id": "10382f33",
   "metadata": {},
   "outputs": [],
   "source": [
    "#q12 : Write a code to check a perticular installation in your system\n",
    "\n",
    "\n"
   ]
  },
  {
   "cell_type": "code",
   "execution_count": null,
   "id": "1005e4d0",
   "metadata": {},
   "outputs": [],
   "source": [
    "#q13 : Write a code to convert any text in to voice \n",
    "\n",
    "\n"
   ]
  },
  {
   "cell_type": "code",
   "execution_count": 13,
   "id": "2bc7826f",
   "metadata": {},
   "outputs": [
    {
     "name": "stdout",
     "output_type": "stream",
     "text": [
      "Enter any string to find its lenght :ineuron\n",
      "Length of the text  ineuron  is  7\n"
     ]
    }
   ],
   "source": [
    "#q14 : you have to write a fun which will take string and return a len of \n",
    "#it without using a inbuilt fun len\n",
    "\n",
    "def count_length(s) :\n",
    "    count=0\n",
    "\n",
    "    for i in s :\n",
    "        count+=1\n",
    "    \n",
    "    print('Length of the text ',s,' is ',count)\n",
    "    \n",
    "s=input('Enter any string to find its lenght :')\n",
    "\n",
    "count_length(s)"
   ]
  },
  {
   "cell_type": "code",
   "execution_count": null,
   "id": "03d056b0",
   "metadata": {},
   "outputs": [],
   "source": [
    "#q15 :write a fun which will be able to print an index of all premitive element which you will pass \n",
    "\n"
   ]
  },
  {
   "cell_type": "code",
   "execution_count": 23,
   "id": "fdb5876a",
   "metadata": {},
   "outputs": [
    {
     "name": "stdout",
     "output_type": "stream",
     "text": [
      "['Vill', 'P.O.', 'Dist', 'PIN']\n",
      "['insta', 'facebook']\n",
      "['mail']\n",
      "[]\n",
      "['Phone']\n",
      "['Name', 'Surname', 'DOB']\n"
     ]
    }
   ],
   "source": [
    "#q16 : Write a fun which will take input as a dict and give me out as a list of all the values \n",
    "#even in case of 2 level nesting it should work . \n",
    "\n",
    "\n",
    "\n",
    "def ext_dict(d) :\n",
    "    l=[]\n",
    "    for j in d.items() :\n",
    "        \n",
    "        if type(j)== dict :\n",
    "            ext_dict(j)\n",
    "        else :\n",
    "            l.append(j)\n",
    "    print(l)\n",
    "\n",
    "d={'k1':'Name', 'k2':'Surname','k10':{'k3':'Vill','k4':'P.O.','k5':'Dist','k6':'PIN'},'k11':{'k7':'Phone','k12':{'k8':{'k16':'mail','k13':{'k14':'insta','k15':'facebook'}}}},'k9':'DOB'}\n",
    "        \n",
    "ext_dict(d)\n"
   ]
  },
  {
   "cell_type": "code",
   "execution_count": 29,
   "id": "b88c5e78",
   "metadata": {},
   "outputs": [
    {
     "name": "stdout",
     "output_type": "stream",
     "text": [
      "How many list u want to concatenate? 2\n",
      "Enter list :i love\n",
      "['i', 'love'] <class 'list'> \n",
      "\n",
      "Enter list :my INDIA.\n",
      "['my', 'INDIA.'] <class 'list'> \n",
      "\n",
      "\n",
      " Final result : \n",
      "   i love my INDIA.\n"
     ]
    }
   ],
   "source": [
    "#q17 : write a function whihc will take multiple list as a input and give me concatnation of all the element as \n",
    "#and output\n",
    "\n",
    "def concatenate_list() :\n",
    "    n=int(input('How many list u want to concatenate? '))\n",
    "    ans= ' '\n",
    "    for i in range(n):\n",
    "        i=input('Enter list :').split()\n",
    "        print(i,type(i),'\\n')\n",
    "        for j in i :\n",
    "            ans= ans + ' ' +j\n",
    "            \n",
    "    print('\\n','Final result :','\\n',ans)\n",
    "    \n",
    "concatenate_list()"
   ]
  },
  {
   "cell_type": "code",
   "execution_count": 1,
   "id": "aa5cf15d",
   "metadata": {},
   "outputs": [
    {
     "name": "stdout",
     "output_type": "stream",
     "text": [
      "\n",
      " Files found in current working directory  C:\\Users\\Tinku  : \n",
      "\n",
      "    1 .  .anaconda\n",
      "    2 .  .android\n",
      "    3 .  .conda\n",
      "    4 .  .condarc\n",
      "    5 .  .condarc.zpps\n",
      "    6 .  .continuum\n",
      "    7 .  .idlerc\n",
      "    8 .  .ipynb_checkpoints\n",
      "    9 .  .ipython\n",
      "    10 .  .jupyter\n",
      "    11 .  .Ld2VirtualBox\n",
      "    12 .  .matplotlib\n",
      "    13 .  .MemuHyperv\n",
      "    14 .  .python_history.zpps\n",
      "    15 .  .spyder-py3\n",
      "    16 .  .VirtualBox\n",
      "    17 .  02 copy.jpg\n",
      "    18 .  17th May 2022.ipynb\n",
      "    19 .  3D Objects\n",
      "    20 .  anaconda3\n",
      "    21 .  AppData\n",
      "    22 .  Application Data\n",
      "    23 .  Contacts\n",
      "    24 .  Cookies\n",
      "    25 .  Desktop\n",
      "    26 .  Documents\n",
      "    27 .  Downloads\n",
      "    28 .  Favorites\n",
      "    29 .  HW 28-5-2022.ipynb\n",
      "    30 .  HW 29-5-2022.ipynb\n",
      "    31 .  Links\n",
      "    32 .  Live class 28thMay.ipynb\n",
      "    33 .  Live class 29th May.ipynb\n",
      "    34 .  Local Settings\n",
      "    35 .  MicrosoftEdgeBackups\n",
      "    36 .  Music\n",
      "    37 .  My Documents\n",
      "    38 .  NetHood\n",
      "    39 .  NTUSER.DAT\n",
      "    40 .  ntuser.dat.LOG1\n",
      "    41 .  ntuser.dat.LOG2\n",
      "    42 .  NTUSER.DAT{9859f3be-dc18-11ec-a759-18c04d9b1878}.TM.blf\n",
      "    43 .  NTUSER.DAT{9859f3be-dc18-11ec-a759-18c04d9b1878}.TMContainer00000000000000000001.regtrans-ms\n",
      "    44 .  NTUSER.DAT{9859f3be-dc18-11ec-a759-18c04d9b1878}.TMContainer00000000000000000002.regtrans-ms\n",
      "    45 .  ntuser.ini\n",
      "    46 .  OneDrive\n",
      "    47 .  Pictures\n",
      "    48 .  PrintHood\n",
      "    49 .  Programming Assignment_1.ipynb\n",
      "    50 .  Programs\n",
      "    51 .  Recent\n",
      "    52 .  Saved Games\n",
      "    53 .  Searches\n",
      "    54 .  SendTo\n",
      "    55 .  Start Menu\n",
      "    56 .  Templates\n",
      "    57 .  Tracing\n",
      "    58 .  Untitled Folder\n",
      "    59 .  Videos\n",
      "    60 .  VirtualBox VMs\n"
     ]
    }
   ],
   "source": [
    "#q18 : Write a function which will whould return list of all the file name from a directory . \n",
    "\n",
    "def files_in_dir() :\n",
    "    import os\n",
    "    #path=input('Enter the path of Directory : ')\n",
    "    path=os.getcwd()\n",
    "    l=os.listdir(path)\n",
    "    print('\\n','Files found in current working directory ',path,' :','\\n')\n",
    "    for i in l :\n",
    "        print('   ',l.index(i)+1,'. ',i)\n",
    "files_in_dir()"
   ]
  },
  {
   "cell_type": "code",
   "execution_count": 45,
   "id": "96c0d53e",
   "metadata": {},
   "outputs": [],
   "source": [
    "#q19 : write a function whihc will be able to read a image file and show it to you .\n",
    "    \n",
    "import imageio as iio\n",
    " \n",
    "# read an image\n",
    "img = iio.imread(\"02 copy.jpg\")\n",
    " \n",
    "# write it in a new format\n",
    "iio.imwrite(\"02 copy.jpg\", img)"
   ]
  },
  {
   "cell_type": "code",
   "execution_count": 2,
   "id": "39a7d0c9",
   "metadata": {},
   "outputs": [
    {
     "ename": "ModuleNotFoundError",
     "evalue": "No module named 'PyPDF2'",
     "output_type": "error",
     "traceback": [
      "\u001b[1;31m---------------------------------------------------------------------------\u001b[0m",
      "\u001b[1;31mModuleNotFoundError\u001b[0m                       Traceback (most recent call last)",
      "Input \u001b[1;32mIn [2]\u001b[0m, in \u001b[0;36m<cell line: 3>\u001b[1;34m()\u001b[0m\n\u001b[0;32m      1\u001b[0m \u001b[38;5;66;03m#q20 : write a function by which you will be able to append two PDF files . \u001b[39;00m\n\u001b[1;32m----> 3\u001b[0m \u001b[38;5;28;01mfrom\u001b[39;00m \u001b[38;5;21;01mPyPDF2\u001b[39;00m \u001b[38;5;28;01mimport\u001b[39;00m PdfMerger\n\u001b[0;32m      5\u001b[0m pdfs \u001b[38;5;241m=\u001b[39m [\u001b[38;5;124m'\u001b[39m\u001b[38;5;124mfile1.pdf\u001b[39m\u001b[38;5;124m'\u001b[39m, \u001b[38;5;124m'\u001b[39m\u001b[38;5;124mfile2.pdf\u001b[39m\u001b[38;5;124m'\u001b[39m, \u001b[38;5;124m'\u001b[39m\u001b[38;5;124mfile3.pdf\u001b[39m\u001b[38;5;124m'\u001b[39m, \u001b[38;5;124m'\u001b[39m\u001b[38;5;124mfile4.pdf\u001b[39m\u001b[38;5;124m'\u001b[39m]\n\u001b[0;32m      7\u001b[0m merger \u001b[38;5;241m=\u001b[39m PdfMerger()\n",
      "\u001b[1;31mModuleNotFoundError\u001b[0m: No module named 'PyPDF2'"
     ]
    }
   ],
   "source": [
    "#q20 : write a function by which you will be able to append two PDF files . \n",
    "\n",
    "from PyPDF2 import PdfMerger\n",
    "\n",
    "pdfs = ['file1.pdf', 'file2.pdf', 'file3.pdf', 'file4.pdf']\n",
    "\n",
    "merger = PdfMerger()\n",
    "\n",
    "for pdf in pdfs:\n",
    "    merger.append(pdf)\n",
    "\n",
    "merger.write(\"result.pdf\")\n",
    "merger.close()\n"
   ]
  },
  {
   "cell_type": "code",
   "execution_count": null,
   "id": "bc04a038",
   "metadata": {},
   "outputs": [],
   "source": [
    "#q21 : write a function which can help you to filter only word file from a directory . \n",
    "    \n"
   ]
  },
  {
   "cell_type": "code",
   "execution_count": null,
   "id": "737afb51",
   "metadata": {},
   "outputs": [],
   "source": [
    "q22 : write a function which can read video file and play for you . \n",
    "    \n",
    "q23 : write a function which will be able to shutdonw your system . \n",
    "\n",
    "q24 : Write a function which will whould return list of all the file name from a directory . \n",
    "\n",
    "q25 : write a function whihc will be able to access your mail . "
   ]
  }
 ],
 "metadata": {
  "kernelspec": {
   "display_name": "Python 3 (ipykernel)",
   "language": "python",
   "name": "python3"
  },
  "language_info": {
   "codemirror_mode": {
    "name": "ipython",
    "version": 3
   },
   "file_extension": ".py",
   "mimetype": "text/x-python",
   "name": "python",
   "nbconvert_exporter": "python",
   "pygments_lexer": "ipython3",
   "version": "3.9.12"
  }
 },
 "nbformat": 4,
 "nbformat_minor": 5
}
