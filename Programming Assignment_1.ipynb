{
 "cells": [
  {
   "cell_type": "code",
   "execution_count": 2,
   "id": "182e5344",
   "metadata": {},
   "outputs": [
    {
     "name": "stdout",
     "output_type": "stream",
     "text": [
      "\"Hello Python\"\n"
     ]
    }
   ],
   "source": [
    "#1. Write a Python program to print \"Hello Python\"?\n",
    "\n",
    "print('\"Hello Python\"')\n",
    "\n"
   ]
  },
  {
   "cell_type": "code",
   "execution_count": 4,
   "id": "0b8a0819",
   "metadata": {},
   "outputs": [
    {
     "data": {
      "text/plain": [
       "-0.2"
      ]
     },
     "execution_count": 4,
     "metadata": {},
     "output_type": "execute_result"
    }
   ],
   "source": [
    "#2. Write a Python program to do arithmetical operations addition and division.?\n",
    "\n",
    "((-7)+5)/10\n"
   ]
  },
  {
   "cell_type": "code",
   "execution_count": 12,
   "id": "6823f62c",
   "metadata": {},
   "outputs": [
    {
     "name": "stdout",
     "output_type": "stream",
     "text": [
      "Enter the dimension of the triangle\n",
      "1st side3\n",
      "2nd side4\n",
      "3rd side5\n",
      "Area of the triangle 6.0\n"
     ]
    }
   ],
   "source": [
    "#3. Write a Python program to find the area of a triangle?\n",
    "print('Enter the dimension of the triangle')\n",
    "a=float(input('1st side- '))\n",
    "b=float(input('2nd side- '))\n",
    "c=float(input('3rd side- '))\n",
    "\n",
    "s=(a+b+c)/2\n",
    "area=(s*(s-a)*(s-b)*(s-c))**(1/2)\n",
    "print('Area of the triangle= ', area)\n"
   ]
  },
  {
   "cell_type": "code",
   "execution_count": 13,
   "id": "d067a598",
   "metadata": {},
   "outputs": [
    {
     "name": "stdout",
     "output_type": "stream",
     "text": [
      "Enter the value of x = 23\n",
      "Enter the value of y = 12\n",
      "Values of x and y after swaping:\n",
      "x =  12 y =  23\n"
     ]
    }
   ],
   "source": [
    "#4. Write a Python program to swap two variables?\n",
    "\n",
    "x=input('Enter the value of x = ')\n",
    "y=input('Enter the value of y = ')\n",
    "\n",
    "z=x\n",
    "x=y\n",
    "y=z\n",
    "\n",
    "print('Values of x and y after swaping:')\n",
    "print('x = ',x, 'y = ', y)"
   ]
  },
  {
   "cell_type": "code",
   "execution_count": null,
   "id": "b21863b6",
   "metadata": {},
   "outputs": [],
   "source": [
    "#5. Write a Python program to generate a random number?\n",
    "\n",
    "#Can't understand the question"
   ]
  }
 ],
 "metadata": {
  "kernelspec": {
   "display_name": "Python 3 (ipykernel)",
   "language": "python",
   "name": "python3"
  },
  "language_info": {
   "codemirror_mode": {
    "name": "ipython",
    "version": 3
   },
   "file_extension": ".py",
   "mimetype": "text/x-python",
   "name": "python",
   "nbconvert_exporter": "python",
   "pygments_lexer": "ipython3",
   "version": "3.9.7"
  }
 },
 "nbformat": 4,
 "nbformat_minor": 5
}
