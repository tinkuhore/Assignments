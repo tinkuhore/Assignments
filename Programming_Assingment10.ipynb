{
 "cells": [
  {
   "cell_type": "markdown",
   "id": "75d8e28e",
   "metadata": {},
   "source": [
    "    1. Write a Python program to find sum of elements in list?\n",
    "    2. Write a Python program to  Multiply all numbers in the list?\n",
    "    3. Write a Python program to find smallest number in a list?\n",
    "    4. Write a Python program to find largest number in a list?\n",
    "    5. Write a Python program to find second largest number in a list?\n",
    "    6. Write a Python program to find N largest elements from a list?\n",
    "    7. Write a Python program to print even numbers in a list?\n",
    "    8. Write a Python program to print odd numbers in a List?\n",
    "    9. Write a Python program to Remove empty List from List?\n",
    "    10. Write a Python program to Cloning or Copying a list?\n",
    "    11. Write a Python program to Count occurrences of an element in a list?"
   ]
  },
  {
   "cell_type": "code",
   "execution_count": 1,
   "id": "c08357a7",
   "metadata": {},
   "outputs": [
    {
     "name": "stdout",
     "output_type": "stream",
     "text": [
      "Enter the elements of the list : 1,2,5,4,3\n",
      "Sum of elements =  15\n"
     ]
    }
   ],
   "source": [
    "#Q1\n",
    "l=list(map(int,input('Enter the elements of the list : ').split(',')))\n",
    "s=0\n",
    "for i in l:\n",
    "    s+=i\n",
    "print('Sum of elements = ',s)"
   ]
  },
  {
   "cell_type": "code",
   "execution_count": 2,
   "id": "9da758e4",
   "metadata": {},
   "outputs": [
    {
     "name": "stdout",
     "output_type": "stream",
     "text": [
      "Enter the elements of the list : 1,2,3,5,10\n",
      "Sum of elements =  300\n"
     ]
    }
   ],
   "source": [
    "#Q2\n",
    "l=list(map(int,input('Enter the elements of the list : ').split(',')))\n",
    "p=1\n",
    "for i in l:\n",
    "    p=p*i\n",
    "print('Sum of elements = ',p)"
   ]
  },
  {
   "cell_type": "code",
   "execution_count": 3,
   "id": "48e96bfe",
   "metadata": {},
   "outputs": [
    {
     "name": "stdout",
     "output_type": "stream",
     "text": [
      "Enter the elements of the list : 1,2,54,-89\n",
      "\n",
      "Smallest element in the list is  -89\n"
     ]
    }
   ],
   "source": [
    "#Q3\n",
    "l=list(map(int,input('Enter the elements of the list : ').split(',')))\n",
    "smallest=l[0]\n",
    "for i in range(1,len(l)):\n",
    "    if l[i]<smallest :\n",
    "        smallest=l[i]\n",
    "print('\\nSmallest element in the list is ',smallest)"
   ]
  },
  {
   "cell_type": "code",
   "execution_count": 5,
   "id": "71fcaa93",
   "metadata": {},
   "outputs": [
    {
     "name": "stdout",
     "output_type": "stream",
     "text": [
      "Enter the elements of the list : 1,2,54,-89\n",
      "\n",
      "Smallest element in the list is  54\n"
     ]
    }
   ],
   "source": [
    "#Q4\n",
    "l=list(map(int,input('Enter the elements of the list : ').split(',')))\n",
    "greatest=l[0]\n",
    "for i in range(1,len(l)):\n",
    "    if l[i]>greatest :\n",
    "        greatest=l[i]\n",
    "print('\\nSmallest element in the list is ',greatest)"
   ]
  },
  {
   "cell_type": "code",
   "execution_count": 13,
   "id": "d4ed7a80",
   "metadata": {},
   "outputs": [
    {
     "name": "stdout",
     "output_type": "stream",
     "text": [
      "Enter the elements of the list : 1,2,54,-89\n",
      "[-89, 1, 2, 54]\n",
      "2nd Largest element in the list is  2\n"
     ]
    }
   ],
   "source": [
    "#Q5\n",
    "l=list(map(int,input('Enter the elements of the list : ').split(',')))\n",
    "l.sort()\n",
    "print(l)\n",
    "print('2nd Largest element in the list is ',l[-2])"
   ]
  },
  {
   "cell_type": "code",
   "execution_count": 14,
   "id": "d6b7592f",
   "metadata": {},
   "outputs": [
    {
     "name": "stdout",
     "output_type": "stream",
     "text": [
      "Enter the elements of the list : 1,02,45,65,85,-78,-12,0,13\n",
      "Enter the value of n : 3\n",
      "[-78, -12, 0, 1, 2, 13, 45, 65, 85]\n",
      "2nd Largest element in the list is  45\n"
     ]
    }
   ],
   "source": [
    "#Q6\n",
    "l=list(map(int,input('Enter the elements of the list : ').split(',')))\n",
    "n=int(input('Enter the value of n : '))\n",
    "l.sort()\n",
    "print(l)\n",
    "print('2nd Largest element in the list is ',l[-n])"
   ]
  },
  {
   "cell_type": "code",
   "execution_count": 16,
   "id": "3a44eafb",
   "metadata": {},
   "outputs": [
    {
     "name": "stdout",
     "output_type": "stream",
     "text": [
      "Enter the elements of the list : 1,02,45,65,85,-78,-12,0,13\n",
      "\n",
      "Given List:  [1, 2, 45, 65, 85, -78, -12, 0, 13] \n",
      "List of all Even elements : [2, -78, -12, 0] \n",
      "List of all Odd elements : [1, 45, 65, 85, 13]\n"
     ]
    }
   ],
   "source": [
    "#Q7&Q8\n",
    "l=list(map(int,input('Enter the elements of the list : ').split(',')))\n",
    "l_even=[]\n",
    "l_odd=[]\n",
    "for i in l:\n",
    "    if i%2==0:\n",
    "        l_even.append(i)\n",
    "    else :\n",
    "        l_odd.append(i)\n",
    "print('\\nGiven List: ',l,'\\nList of all Even elements :',l_even,'\\nList of all Odd elements :',l_odd)"
   ]
  },
  {
   "cell_type": "code",
   "execution_count": 21,
   "id": "dfc73f78",
   "metadata": {},
   "outputs": [
    {
     "name": "stdout",
     "output_type": "stream",
     "text": [
      "\n",
      "Original List :  [1, 2, 3, [], 4, 5, [1, 2, 3], 78, []]\n",
      "\n",
      "List after Emptylist Removal :  [1, 2, 3, 4, 5, [1, 2, 3], 78]\n"
     ]
    }
   ],
   "source": [
    "#Q9\n",
    "l=[1,2,3,[],4,5,[1,2,3],78,[]]\n",
    "print('\\nOriginal List : ',l)\n",
    "for i in l:\n",
    "    if str(i)=='[]':\n",
    "        l.remove(i)\n",
    "print('\\nList after Emptylist Removal : ',l)"
   ]
  },
  {
   "cell_type": "code",
   "execution_count": 22,
   "id": "aa62380e",
   "metadata": {},
   "outputs": [],
   "source": [
    "#Q10\n"
   ]
  },
  {
   "cell_type": "code",
   "execution_count": 30,
   "id": "13e54f4c",
   "metadata": {},
   "outputs": [
    {
     "name": "stdout",
     "output_type": "stream",
     "text": [
      "Enter the elements of the list : 1,1,2,3,43,2,1\n",
      "Count the occurance of : 1\n",
      "1  occured  3  times.\n"
     ]
    }
   ],
   "source": [
    "#Q11\n",
    "def count_occurance(l,n):\n",
    "    count=0\n",
    "    for i in l:\n",
    "        if i==n:\n",
    "            count+=1\n",
    "    return count\n",
    "\n",
    "l=list(map(int,input('Enter the elements of the list : ').split(',')))\n",
    "n=int(input('Count the occurance of : '))\n",
    "count_occurance(l,n)\n",
    "print(n,' occured ',count_occurance(l,n),' times.')"
   ]
  },
  {
   "cell_type": "code",
   "execution_count": null,
   "id": "5eb2dfae",
   "metadata": {},
   "outputs": [],
   "source": []
  }
 ],
 "metadata": {
  "kernelspec": {
   "display_name": "Python 3 (ipykernel)",
   "language": "python",
   "name": "python3"
  },
  "language_info": {
   "codemirror_mode": {
    "name": "ipython",
    "version": 3
   },
   "file_extension": ".py",
   "mimetype": "text/x-python",
   "name": "python",
   "nbconvert_exporter": "python",
   "pygments_lexer": "ipython3",
   "version": "3.9.12"
  }
 },
 "nbformat": 4,
 "nbformat_minor": 5
}
