{
 "cells": [
  {
   "cell_type": "code",
   "execution_count": 5,
   "id": "b67eba91",
   "metadata": {},
   "outputs": [
    {
     "name": "stdout",
     "output_type": "stream",
     "text": [
      "Enter a number to find the factorial3\n",
      "3 ! =  6\n"
     ]
    }
   ],
   "source": [
    "#1. Write a Python Program to Find the Factorial of a Number?\n",
    "\n",
    "a= int(input('Enter a number to find the factorial'))\n",
    "x=a\n",
    "for i in range(1,a):\n",
    "    a= a*i\n",
    "\n",
    "print(x,'! = ',a)"
   ]
  },
  {
   "cell_type": "code",
   "execution_count": 6,
   "id": "9b378691",
   "metadata": {},
   "outputs": [
    {
     "name": "stdout",
     "output_type": "stream",
     "text": [
      "Enter any integer :12\n",
      "Table of  12\n",
      "12 X 1  =  12\n",
      "12 X 2  =  24\n",
      "12 X 3  =  36\n",
      "12 X 4  =  48\n",
      "12 X 5  =  60\n",
      "12 X 6  =  72\n",
      "12 X 7  =  84\n",
      "12 X 8  =  96\n",
      "12 X 9  =  108\n",
      "12 X 10  =  120\n"
     ]
    }
   ],
   "source": [
    "#2. Write a Python Program to Display the multiplication Table?\n",
    "\n",
    "x=int(input('Enter any integer :'))\n",
    "\n",
    "print('Table of ', x)\n",
    "\n",
    "for i in range(1,11):\n",
    "    print(x,'X',i,' = ', x*i)"
   ]
  },
  {
   "cell_type": "code",
   "execution_count": 7,
   "id": "8af53f0f",
   "metadata": {},
   "outputs": [
    {
     "name": "stdout",
     "output_type": "stream",
     "text": [
      "Fibonacci sequence(firse 10 terms) :\n",
      "Term  1 -  1\n",
      "Term  2 -  1\n",
      "Term  3 -  2\n",
      "Term  4 -  3\n",
      "Term  5 -  5\n",
      "Term  6 -  8\n",
      "Term  7 -  13\n",
      "Term  8 -  21\n",
      "Term  9 -  34\n",
      "Term  10 -  55\n"
     ]
    }
   ],
   "source": [
    "#3. Write a Python Program to Print the Fibonacci sequence?\n",
    "\n",
    "t1=1\n",
    "t2=1\n",
    "\n",
    "print('Fibonacci sequence(firse 10 terms) :')\n",
    "\n",
    "for i in range(1,11):\n",
    "    if i <3 :\n",
    "        print('Term ',i,'- ',t1)\n",
    "    else :\n",
    "        p=t1+t2\n",
    "        print('Term ',i,'- ',p)\n",
    "        t1=t2\n",
    "        t2=p\n"
   ]
  },
  {
   "cell_type": "code",
   "execution_count": 10,
   "id": "fa3cca85",
   "metadata": {},
   "outputs": [
    {
     "name": "stdout",
     "output_type": "stream",
     "text": [
      "Enter any positive integer :1253\n",
      "sum of the cubes =  161 \n",
      " original_numbes has  4  digits.\n",
      "1253  is not an Armstrong number\n"
     ]
    }
   ],
   "source": [
    "#4. Write a Python Program to Check Armstrong Number?\n",
    "\n",
    "x=int(input('Enter any positive integer :'))\n",
    "original_number=x  \n",
    "count=0\n",
    "y=0\n",
    "for i in range(1,10)    :\n",
    "    if x>0:\n",
    "        a= x % (10)\n",
    "        \n",
    "        y=y+a**3\n",
    "        x= x// (10)\n",
    "        \n",
    "        count+=1\n",
    "print('sum of the cubes = ',y,'\\n','original_numbes has ',count, ' digits.')    \n",
    "if original_number == y:\n",
    "    print(original_number, ' is an Armstrong number')\n",
    "else :\n",
    "    print(original_number, ' is not an Armstrong number')"
   ]
  },
  {
   "cell_type": "code",
   "execution_count": 5,
   "id": "1748f296",
   "metadata": {},
   "outputs": [
    {
     "name": "stdout",
     "output_type": "stream",
     "text": [
      "Enter the Lower Limit : 10\n",
      "Enter the Upper Limit : 1000\n",
      "Armstrong numbers in the interval [ 10 , 1000 ] are -\n",
      "153\n",
      "370\n",
      "371\n",
      "407\n"
     ]
    }
   ],
   "source": [
    "#5. Write a Python Program to Find Armstrong Number in an Interval?\n",
    "\n",
    "x=int(input('Enter the Lower Limit : '))\n",
    "y=int(input('Enter the Upper Limit : '))\n",
    "\n",
    "print('Armstrong numbers in the interval [',x,',',y,'] are -')\n",
    "\n",
    "for j in range(x,y):\n",
    "    original_number=j\n",
    "    sum=0\n",
    "\n",
    "    for i in range(1,10):\n",
    "        if j>0 :\n",
    "            a= j % 10\n",
    "            sum=sum+a**3\n",
    "            j=j//10\n",
    "            \n",
    "    if sum == original_number :\n",
    "        print(original_number)"
   ]
  },
  {
   "cell_type": "code",
   "execution_count": 9,
   "id": "8b4adc69",
   "metadata": {},
   "outputs": [
    {
     "name": "stdout",
     "output_type": "stream",
     "text": [
      "Find the sum of n Natural numbers:\n",
      "Enter the value of n =10\n",
      "Sum of first  10 natural numbers = 55.0\n"
     ]
    }
   ],
   "source": [
    "#6. Write a Python Program to Find the Sum of Natural Numbers?\n",
    "\n",
    "print('Find the sum of n Natural numbers:')\n",
    "n=int(input('Enter the value of n ='))\n",
    "\n",
    "sum=(n*(n+1))/2\n",
    "\n",
    "print('Sum of first ', n,'natural numbers =',sum)"
   ]
  },
  {
   "cell_type": "code",
   "execution_count": null,
   "id": "dd267534",
   "metadata": {},
   "outputs": [],
   "source": []
  }
 ],
 "metadata": {
  "kernelspec": {
   "display_name": "Python 3 (ipykernel)",
   "language": "python",
   "name": "python3"
  },
  "language_info": {
   "codemirror_mode": {
    "name": "ipython",
    "version": 3
   },
   "file_extension": ".py",
   "mimetype": "text/x-python",
   "name": "python",
   "nbconvert_exporter": "python",
   "pygments_lexer": "ipython3",
   "version": "3.9.7"
  }
 },
 "nbformat": 4,
 "nbformat_minor": 5
}
