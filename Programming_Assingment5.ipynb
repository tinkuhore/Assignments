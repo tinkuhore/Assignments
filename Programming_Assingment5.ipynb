{
 "cells": [
  {
   "cell_type": "code",
   "execution_count": 20,
   "id": "1fb1b715",
   "metadata": {},
   "outputs": [
    {
     "name": "stdout",
     "output_type": "stream",
     "text": [
      "Find the LCM :\n",
      "Enter the numbers : 4 12 15\n",
      "LCM = 60\n"
     ]
    }
   ],
   "source": [
    "#1. Write a Python Program to Find LCM?\n",
    "\n",
    "print('Find the LCM :')\n",
    "l=list(map(int, input('Enter the numbers : ').split()))\n",
    "\n",
    "flag=False\n",
    "largest_number=max(l)\n",
    "\n",
    "for k in range(1,100):\n",
    "    \n",
    "    product=largest_number*k\n",
    "    \n",
    "    for i in range(len(l)):\n",
    "        \n",
    "        if product % int(l[i]) != 0 :\n",
    "            flag=False \n",
    "            break\n",
    "        else:\n",
    "            lcm=product\n",
    "            flag=True\n",
    "   \n",
    "    if flag == True :\n",
    "        break\n",
    "print('LCM =', lcm)            "
   ]
  },
  {
   "cell_type": "code",
   "execution_count": 13,
   "id": "9322cd67",
   "metadata": {},
   "outputs": [
    {
     "name": "stdout",
     "output_type": "stream",
     "text": [
      "Find the HCF :\n",
      "Enter the numbers : 102 256 148 98\n",
      "HCF =  2\n"
     ]
    }
   ],
   "source": [
    "#2. Write a Python Program to Find HCF?\n",
    "\n",
    "print('Find the HCF :')\n",
    "l=list(map(int, input('Enter the numbers : ').split()))\n",
    "\n",
    "m=max(l)\n",
    "\n",
    "for i in range(m,0,-1):\n",
    "    \n",
    "    for j in range(len(l)):\n",
    "        \n",
    "        if int(l[j]) % i != 0 :\n",
    "            flag=False\n",
    "            break\n",
    "        else:\n",
    "            hcf = i\n",
    "            flag=True\n",
    "    \n",
    "    if flag==True :\n",
    "        break\n",
    "print('HCF = ',hcf)"
   ]
  },
  {
   "cell_type": "code",
   "execution_count": 2,
   "id": "8b758264",
   "metadata": {},
   "outputs": [
    {
     "name": "stdout",
     "output_type": "stream",
     "text": [
      "Enter any decimal number : 469\n",
      "1 ) 469 / 2 =  Q=  234 & R =  1\n",
      "2 ) 234 / 2 =  Q=  117 & R =  0\n",
      "3 ) 117 / 2 =  Q=  58 & R =  1\n",
      "4 ) 58 / 2 =  Q=  29 & R =  0\n",
      "5 ) 29 / 2 =  Q=  14 & R =  1\n",
      "6 ) 14 / 2 =  Q=  7 & R =  0\n",
      "7 ) 7 / 2 =  Q=  3 & R =  1\n",
      "8 ) 3 / 2 =  Q=  1 & R =  1\n",
      "9 ) 1 / 2 =  Q=  0 & R =  1\n",
      "Binary equivallent of  469  is  111010101\n",
      "\n",
      "1 ) 469 / 8 =  Q=  58 & R =  5\n",
      "2 ) 58 / 8 =  Q=  7 & R =  2\n",
      "3 ) 7 / 8 =  Q=  0 & R =  7\n",
      "Octal equivallent of  469  is  725\n",
      "\n",
      "1 ) 469 / 16 =  Q=  29 & R =  5\n",
      "2 ) 29 / 16 =  Q=  1 & R =  13\n",
      "3 ) 1 / 16 =  Q=  0 & R =  1\n",
      "Hexadecimal equivallent of  469  is  1D5\n"
     ]
    }
   ],
   "source": [
    "#3. Write a Python Program to Convert Decimal to Binary, Octal and Hexadecimal?\n",
    "\n",
    "n=int(input('Enter any decimal number : '))\n",
    "\n",
    "#Decimal to Binary\n",
    "decimal=n\n",
    "binary=''\n",
    "\n",
    "for i in range(100):\n",
    "    if n != 0 :\n",
    "        q=n//2\n",
    "        r=n%2\n",
    "        print(i+1,')',n,'/ 2 = ','Q= ',q,'& R = ',r)\n",
    "        n=q\n",
    "        binary=str(r)+binary\n",
    "    else:\n",
    "        break\n",
    "print('Binary equivallent of ', decimal,' is ',binary)\n",
    "print()\n",
    "\n",
    "#Decimal to Octal\n",
    "octal=''\n",
    "n=decimal\n",
    "\n",
    "for i in range(100):\n",
    "    if n != 0 :\n",
    "        q=n//8\n",
    "        r=n%8\n",
    "        print(i+1,')',n,'/ 8 = ','Q= ',q,'& R = ',r)\n",
    "        n=q\n",
    "        octal=str(r)+octal\n",
    "    else:\n",
    "        break\n",
    "print('Octal equivallent of ', decimal,' is ',octal)\n",
    "print()\n",
    "\n",
    "#Decimal to Hexadecimal\n",
    "\n",
    "hexa=''\n",
    "n=decimal\n",
    "\n",
    "for i in range(100):\n",
    "    if n != 0 :\n",
    "        q=n//16\n",
    "        r=n%16\n",
    "        print(i+1,')',n,'/ 16 = ','Q= ',q,'& R = ',r)\n",
    "        n=q\n",
    "        if r<=9 :\n",
    "            hexa=str(r)+hexa\n",
    "        elif r==10 :\n",
    "            hexa='A'+hexa\n",
    "        elif r==11 :\n",
    "            hexa='B'+hexa\n",
    "        elif r==12 :\n",
    "            hexa='C'+hexa\n",
    "        elif r==13 :\n",
    "            hexa='D'+hexa\n",
    "        elif r==14 :\n",
    "            hexa='E'+hexa\n",
    "        elif r==15 :\n",
    "            hexa='F'+hexa\n",
    "    else:\n",
    "        break\n",
    "print('Hexadecimal equivallent of ', decimal,' is ',hexa)"
   ]
  },
  {
   "cell_type": "code",
   "execution_count": 16,
   "id": "e7025e91",
   "metadata": {},
   "outputs": [
    {
     "name": "stdout",
     "output_type": "stream",
     "text": [
      "Enter any character :#\n",
      "The ASCII value of  #  is  35\n"
     ]
    }
   ],
   "source": [
    "#4. Write a Python Program To Find ASCII value of a character?\n",
    "\n",
    "x=str(input('Enter any character :'))\n",
    "\n",
    "print('The ASCII value of ',x,' is ', ord(x))"
   ]
  },
  {
   "cell_type": "code",
   "execution_count": 4,
   "id": "7e36e34c",
   "metadata": {},
   "outputs": [
    {
     "name": "stdout",
     "output_type": "stream",
     "text": [
      "Select the Operation : \n",
      " 1.Addition \n",
      " 2.Subtraction \n",
      " 3.Multiplication \n",
      " 4.Division\n",
      "Enter your choice (1/2/3/4) :1\n",
      "Enter the first number :123\n",
      "Enter the second number :456\n",
      "123.0  +  456.0  =  579.0 \n",
      "\n",
      "Wanna do another calculation? (Y/N) y\n"
     ]
    }
   ],
   "source": [
    "#5. Write a Python Program to Make a Simple Calculator with 4 basic mathematical operations?\n",
    "\n",
    "print('Select the Operation :','\\n','1.Addition','\\n','2.Subtraction','\\n','3.Multiplication','\\n','4.Division')\n",
    "what_next='y'\n",
    "while what_next == 'Y' or 'y' :\n",
    "    n=int(input('Enter your choice (1/2/3/4) :'))\n",
    "    if n in range(1,5) :\n",
    "        a=float(input('Enter the first number :'))\n",
    "        b=float(input('Enter the second number :'))\n",
    "    \n",
    "        if n == 1 :\n",
    "            print(a,' + ',b,' = ',a+b,'\\n')\n",
    "        elif n == 2 :\n",
    "            print(a,' - ',b,' = ',a-b,'\\n')\n",
    "        elif n == 3 :\n",
    "            print(a,' * ',b,' = ',a*b,'\\n')\n",
    "        elif n==4 :\n",
    "            print(a,' / ',b,' = ',a/b,'\\n')\n",
    "            \n",
    "        what_next = input('Wanna do another calculation? (Y/N) ')\n",
    "        if what_next == 'N' or 'n' :\n",
    "            break\n",
    "    else :\n",
    "        print('Invalid Choice.','\\n')\n",
    "        \n",
    "    "
   ]
  }
 ],
 "metadata": {
  "kernelspec": {
   "display_name": "Python 3 (ipykernel)",
   "language": "python",
   "name": "python3"
  },
  "language_info": {
   "codemirror_mode": {
    "name": "ipython",
    "version": 3
   },
   "file_extension": ".py",
   "mimetype": "text/x-python",
   "name": "python",
   "nbconvert_exporter": "python",
   "pygments_lexer": "ipython3",
   "version": "3.9.7"
  }
 },
 "nbformat": 4,
 "nbformat_minor": 5
}
