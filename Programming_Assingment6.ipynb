{
 "cells": [
  {
   "cell_type": "code",
   "execution_count": 21,
   "id": "d5dd1e10",
   "metadata": {},
   "outputs": [
    {
     "name": "stdout",
     "output_type": "stream",
     "text": [
      "Fibonacci sequence(first  10  terms) :\n"
     ]
    },
    {
     "data": {
      "text/plain": [
       "[1, 1, 2, 3, 5, 8, 13, 21, 34, 55]"
      ]
     },
     "execution_count": 21,
     "metadata": {},
     "output_type": "execute_result"
    }
   ],
   "source": [
    "    #1. Write a Python Program to Display Fibonacci Sequence Using Recursion?\n",
    "    \n",
    "def fibonacci(n):\n",
    "        l=[1,1]\n",
    "        print('Fibonacci sequence(first ',n,' terms) :')\n",
    "        for i in range(2,n):\n",
    "            p=l[i-2]+l[i-1]\n",
    "            l.append(p)\n",
    "        return l\n",
    "    \n",
    "fibonacci(10)   "
   ]
  },
  {
   "cell_type": "code",
   "execution_count": 5,
   "id": "f344dd82",
   "metadata": {},
   "outputs": [
    {
     "data": {
      "text/plain": [
       "120"
      ]
     },
     "execution_count": 5,
     "metadata": {},
     "output_type": "execute_result"
    }
   ],
   "source": [
    "#2. Write a Python Program to Find Factorial of Number Using Recursion?\n",
    "\n",
    "def factorial(n):\n",
    "    if n == 1 :\n",
    "        return 1\n",
    "    else :\n",
    "        return n*factorial(n-1)\n",
    "\n",
    "factorial(5)"
   ]
  },
  {
   "cell_type": "code",
   "execution_count": 26,
   "id": "5a298f2b",
   "metadata": {},
   "outputs": [],
   "source": [
    "#3. Write a Python Program to calculate your Body Mass Index?\n",
    "\n",
    "def BMI() :\n",
    "    n=input('Enter your name :')\n",
    "    w=float(input('Enter your weight (in kg)'))\n",
    "    h=float(input('Enter your height (in m)'))\n",
    "    bmi=round(w/(h*h),2)\n",
    "    print('\\nDear, ',n,'\\nyour BMI = ',bmi)\n",
    "    if bmi<19 :\n",
    "        print('\\nYou are underweight.')\n",
    "    elif bmi >= 19 and bmi <25 :\n",
    "        print('\\nYou are Fit, Fine and Healthy.')\n",
    "    elif bmi>=25 and bmi<30 :\n",
    "        print('\\nYou are overweight.')\n",
    "    else :\n",
    "        print('\\nyou are suffering from obesity.')"
   ]
  },
  {
   "cell_type": "code",
   "execution_count": 27,
   "id": "e5706613",
   "metadata": {},
   "outputs": [
    {
     "name": "stdout",
     "output_type": "stream",
     "text": [
      "Enter your name :Tinku Hore\n",
      "Enter your weight (in kg)56\n",
      "Enter your height (in m)1.7\n",
      "\n",
      "Dear,  Tinku Hore \n",
      "your BMI =  19.38\n",
      "\n",
      "You are Fit, Fine and Healthy.\n"
     ]
    }
   ],
   "source": [
    "BMI()"
   ]
  },
  {
   "cell_type": "code",
   "execution_count": 2,
   "id": "554dfac3",
   "metadata": {},
   "outputs": [],
   "source": [
    "#4. Write a Python Program to calculate the natural logarithm of any number?\n",
    "\n",
    "def log(x):\n",
    "    e = 2.71828\n",
    "    ln=0\n",
    "    a=1\n",
    "    while a<10000:\n",
    "        p=round(((-1)**(a+1))*((x-1)**a)/a,4)\n",
    "        #print(p)\n",
    "        if abs(p)<0.000001:\n",
    "            print('sss',a)\n",
    "            break\n",
    "        ln+= p\n",
    "        #print(a,ln)\n",
    "        a+=1\n",
    "    return ln"
   ]
  },
  {
   "cell_type": "code",
   "execution_count": 3,
   "id": "61a32209",
   "metadata": {},
   "outputs": [
    {
     "ename": "OverflowError",
     "evalue": "integer division result too large for a float",
     "output_type": "error",
     "traceback": [
      "\u001b[0;31m---------------------------------------------------------------------------\u001b[0m",
      "\u001b[0;31mOverflowError\u001b[0m                             Traceback (most recent call last)",
      "Input \u001b[0;32mIn [3]\u001b[0m, in \u001b[0;36m<cell line: 1>\u001b[0;34m()\u001b[0m\n\u001b[0;32m----> 1\u001b[0m \u001b[43mlog\u001b[49m\u001b[43m(\u001b[49m\u001b[38;5;241;43m3\u001b[39;49m\u001b[43m)\u001b[49m\n",
      "Input \u001b[0;32mIn [2]\u001b[0m, in \u001b[0;36mlog\u001b[0;34m(x)\u001b[0m\n\u001b[1;32m      6\u001b[0m a\u001b[38;5;241m=\u001b[39m\u001b[38;5;241m1\u001b[39m\n\u001b[1;32m      7\u001b[0m \u001b[38;5;28;01mwhile\u001b[39;00m a\u001b[38;5;241m<\u001b[39m\u001b[38;5;241m10000\u001b[39m:\n\u001b[0;32m----> 8\u001b[0m     p\u001b[38;5;241m=\u001b[39m\u001b[38;5;28mround\u001b[39m(\u001b[43m(\u001b[49m\u001b[43m(\u001b[49m\u001b[38;5;241;43m-\u001b[39;49m\u001b[38;5;241;43m1\u001b[39;49m\u001b[43m)\u001b[49m\u001b[38;5;241;43m*\u001b[39;49m\u001b[38;5;241;43m*\u001b[39;49m\u001b[43m(\u001b[49m\u001b[43ma\u001b[49m\u001b[38;5;241;43m+\u001b[39;49m\u001b[38;5;241;43m1\u001b[39;49m\u001b[43m)\u001b[49m\u001b[43m)\u001b[49m\u001b[38;5;241;43m*\u001b[39;49m\u001b[43m(\u001b[49m\u001b[43m(\u001b[49m\u001b[43mx\u001b[49m\u001b[38;5;241;43m-\u001b[39;49m\u001b[38;5;241;43m1\u001b[39;49m\u001b[43m)\u001b[49m\u001b[38;5;241;43m*\u001b[39;49m\u001b[38;5;241;43m*\u001b[39;49m\u001b[43ma\u001b[49m\u001b[43m)\u001b[49m\u001b[38;5;241;43m/\u001b[39;49m\u001b[43ma\u001b[49m,\u001b[38;5;241m4\u001b[39m)\n\u001b[1;32m      9\u001b[0m     \u001b[38;5;66;03m#print(p)\u001b[39;00m\n\u001b[1;32m     10\u001b[0m     \u001b[38;5;28;01mif\u001b[39;00m \u001b[38;5;28mabs\u001b[39m(p)\u001b[38;5;241m<\u001b[39m\u001b[38;5;241m0.000001\u001b[39m:\n",
      "\u001b[0;31mOverflowError\u001b[0m: integer division result too large for a float"
     ]
    }
   ],
   "source": [
    "log(3)"
   ]
  },
  {
   "cell_type": "code",
   "execution_count": 5,
   "id": "047df764",
   "metadata": {},
   "outputs": [
    {
     "name": "stdout",
     "output_type": "stream",
     "text": [
      "How many numbers you want to add? 2\n",
      "\n",
      "Cube Sum of first  2  natural numbers =  9\n"
     ]
    }
   ],
   "source": [
    " #5. Write a Python Program for cube sum of first n natural numbers?\n",
    "    \n",
    "n=int(input('How many numbers you want to add? '))\n",
    "\n",
    "s=0\n",
    "for i in range(n+1):\n",
    "    s= s + i**3\n",
    "print('\\nCube Sum of first ',n,' natural numbers = ',s)"
   ]
  },
  {
   "cell_type": "code",
   "execution_count": null,
   "id": "e066a67d",
   "metadata": {},
   "outputs": [],
   "source": []
  },
  {
   "cell_type": "code",
   "execution_count": null,
   "id": "0936fbf8",
   "metadata": {},
   "outputs": [],
   "source": []
  }
 ],
 "metadata": {
  "kernelspec": {
   "display_name": "Python 3 (ipykernel)",
   "language": "python",
   "name": "python3"
  },
  "language_info": {
   "codemirror_mode": {
    "name": "ipython",
    "version": 3
   },
   "file_extension": ".py",
   "mimetype": "text/x-python",
   "name": "python",
   "nbconvert_exporter": "python",
   "pygments_lexer": "ipython3",
   "version": "3.9.12"
  }
 },
 "nbformat": 4,
 "nbformat_minor": 5
}
