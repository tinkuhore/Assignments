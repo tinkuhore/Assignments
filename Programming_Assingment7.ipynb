{
 "cells": [
  {
   "cell_type": "code",
   "execution_count": 4,
   "id": "9b024e7c",
   "metadata": {},
   "outputs": [
    {
     "name": "stdout",
     "output_type": "stream",
     "text": [
      "471\n"
     ]
    }
   ],
   "source": [
    "#1. Write a Python Program to find sum of array?\n",
    "\n",
    "array= [12,34,45,56,67,78,89,90]\n",
    "\n",
    "print(sum(array))"
   ]
  },
  {
   "cell_type": "code",
   "execution_count": 5,
   "id": "2e99ae2d",
   "metadata": {},
   "outputs": [
    {
     "name": "stdout",
     "output_type": "stream",
     "text": [
      "90\n"
     ]
    }
   ],
   "source": [
    "#2. Write a Python Program to find largest element in an array?\n",
    "\n",
    "print(max(array))"
   ]
  },
  {
   "cell_type": "code",
   "execution_count": 25,
   "id": "cb97c4db",
   "metadata": {},
   "outputs": [
    {
     "data": {
      "text/plain": [
       "[90, 89, 78, 67, 56, 45, 34, 12]"
      ]
     },
     "execution_count": 25,
     "metadata": {},
     "output_type": "execute_result"
    }
   ],
   "source": [
    "#3. Write a Python Program for array rotation?\n",
    "\n",
    "def reverse_array(a):\n",
    "    l=[]\n",
    "    for i in range(len(a)-1,-1,-1):\n",
    "        l.append(a[i])\n",
    "    return l\n",
    "\n",
    "a=[12,34,45,56,67,78,89,90]\n",
    "reverse_array(a)\n",
    "\n"
   ]
  },
  {
   "cell_type": "code",
   "execution_count": 29,
   "id": "b0480d13",
   "metadata": {},
   "outputs": [
    {
     "data": {
      "text/plain": [
       "[56, 67, 78, 89, 90, 12, 34, 45]"
      ]
     },
     "execution_count": 29,
     "metadata": {},
     "output_type": "execute_result"
    }
   ],
   "source": [
    "#4. Write a Python Program to Split the array and add the first part to the end?\n",
    "\n",
    "def SplitArray(a,k):\n",
    "    return (a[k::]+a[:k:])\n",
    "\n",
    "a=[12,34,45,56,67,78,89,90]\n",
    "SplitArray(a,3)"
   ]
  },
  {
   "cell_type": "code",
   "execution_count": 13,
   "id": "7315e7bb",
   "metadata": {},
   "outputs": [
    {
     "name": "stdout",
     "output_type": "stream",
     "text": [
      "True\n"
     ]
    }
   ],
   "source": [
    "#5. Write a Python Program to check if given array is Monotonic?\n",
    "\n",
    "def isMonotonic(A):\n",
    "       return (all(A[i] <= A[i + 1] for i in range(len(A) - 1)) or\n",
    "          all(A[i] >= A[i + 1] for i in range(len(A) - 1)))\n",
    "# main\n",
    "A = [11,10,9,8,7]\n",
    "print(isMonotonic(A))"
   ]
  },
  {
   "cell_type": "code",
   "execution_count": null,
   "id": "53819865",
   "metadata": {},
   "outputs": [],
   "source": []
  }
 ],
 "metadata": {
  "kernelspec": {
   "display_name": "Python 3 (ipykernel)",
   "language": "python",
   "name": "python3"
  },
  "language_info": {
   "codemirror_mode": {
    "name": "ipython",
    "version": 3
   },
   "file_extension": ".py",
   "mimetype": "text/x-python",
   "name": "python",
   "nbconvert_exporter": "python",
   "pygments_lexer": "ipython3",
   "version": "3.9.12"
  }
 },
 "nbformat": 4,
 "nbformat_minor": 5
}
