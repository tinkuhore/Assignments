{
 "cells": [
  {
   "cell_type": "code",
   "execution_count": 1,
   "id": "02be28e1",
   "metadata": {},
   "outputs": [
    {
     "name": "stdout",
     "output_type": "stream",
     "text": [
      "Enter the order of the matrics : 3\n",
      "Enter row  1  of 1st Matrix : \n",
      "1 5 9\n",
      "Enter row  2  of 1st Matrix : \n",
      "9 4 3\n",
      "Enter row  3  of 1st Matrix : \n",
      "4 6 2\n",
      "\n",
      "1st Matrix =\n",
      "              [1, 5, 9]\n",
      "              [9, 4, 3]\n",
      "              [4, 6, 2]\n",
      "\n",
      "Enter row  1  of 2nd Matrix : \n",
      "4 5 7\n",
      "\n",
      "Enter row  2  of 2nd Matrix : \n",
      "9 1 3\n",
      "\n",
      "Enter row  3  of 2nd Matrix : \n",
      "4 9 1\n",
      "\n",
      "2nd Matrix =\n",
      "              [4, 5, 7]\n",
      "              [9, 1, 3]\n",
      "              [4, 9, 1]\n",
      "\n",
      "Sum of the given matrices =\n",
      "                            [5, 10, 16]\n",
      "                            [18, 5, 6]\n",
      "                            [8, 15, 3]\n"
     ]
    }
   ],
   "source": [
    "#1. Write a Python Program to Add Two Matrices?\n",
    "\n",
    "n=int(input('Enter the order of the matrics : '))\n",
    "a=[]\n",
    "b=[]\n",
    "for i in range(n):\n",
    "    print('Enter row ',i+1,' of 1st Matrix : ')\n",
    "    x=list(map(int,input().strip().split()))\n",
    "    a.append(x)\n",
    "print('\\n1st Matrix =')\n",
    "for i in a:\n",
    "    print(' '*13,i)\n",
    "for i in range(n):\n",
    "    print('\\nEnter row ',i+1,' of 2nd Matrix : ')\n",
    "    x=list(map(int,input().strip().split()))\n",
    "    b.append(x)\n",
    "print('\\n2nd Matrix =')\n",
    "for i in b:\n",
    "    print(' '*13,i)    \n",
    "s=[]\n",
    "for i in range(n):\n",
    "    l=[]\n",
    "    for j in range(n):\n",
    "        x=a[i][j]+b[i][j]\n",
    "        l.append(x)\n",
    "    s.append(l)\n",
    "print('\\nSum of the given matrices =')\n",
    "for i in s:\n",
    "    print(' '*27,i)"
   ]
  },
  {
   "cell_type": "code",
   "execution_count": 11,
   "id": "3eb163da",
   "metadata": {},
   "outputs": [
    {
     "name": "stdout",
     "output_type": "stream",
     "text": [
      "Enter the number of rows in 1st Matrix:2\n",
      "Enter the number of columnsin 1st matrix:3\n",
      "Enter the number of rows in 2nd Matrix:3\n",
      "Enter the number of columnsin 2nd matrix:3\n",
      "Enter the entries of 1st Matrix rowwise:\n",
      "1\n",
      "2\n",
      "3\n",
      "4\n",
      "5\n",
      "6\n",
      "Enter the entries of 1st Matrix rowwise:\n",
      "7\n",
      "8\n",
      "9\n",
      "1\n",
      "2\n",
      "3\n",
      "4\n",
      "5\n",
      "0\n",
      "Product Matrix =\n",
      "                  [21, 27, 15]\n",
      "                  [57, 72, 51]\n"
     ]
    }
   ],
   "source": [
    "#2. Write a Python Program to Multiply Two Matrices?\n",
    "\n",
    "\n",
    "R1 = int(input(\"Enter the number of rows in 1st Matrix:\"))\n",
    "C1 = int(input(\"Enter the number of columnsin 1st matrix:\"))\n",
    "R2 = int(input(\"Enter the number of rows in 2nd Matrix:\"))\n",
    "C2 = int(input(\"Enter the number of columnsin 2nd matrix:\"))\n",
    "\n",
    "if C1 != R2 :\n",
    "    print(\"\\n'Matrix multiplication not possible.'\")\n",
    "else :\n",
    "    m1 = []\n",
    "    print(\"Enter the entries of 1st Matrix rowwise:\")\n",
    "    \n",
    "    for i in range(R1):\t\t # A for loop for row entries\n",
    "        a =[]\n",
    "        for j in range(C1):\t # A for loop for column entries\n",
    "            a.append(int(input()))\n",
    "        m1.append(a)\n",
    "\n",
    "    m2 = []\n",
    "    print(\"Enter the entries of 1st Matrix rowwise:\")\n",
    "\n",
    "    for i in range(R2):\t\t # A for loop for row entries\n",
    "        a =[]\n",
    "        for j in range(C2):\t # A for loop for column entries\n",
    "            a.append(int(input()))\n",
    "        m2.append(a)\n",
    "\n",
    "result=[]\n",
    "for i in range(R1):\n",
    "    p=[]\n",
    "    for j in range(C2):\n",
    "        s=0\n",
    "        \n",
    "        for k in range(C1):\n",
    "            s+=m1[i][k]*m2[k][j]\n",
    "        p.append(s)\n",
    "    result.append(p)\n",
    "\n",
    "print('Product Matrix =')\n",
    "for i in result :\n",
    "    print(' '*17,i)"
   ]
  },
  {
   "cell_type": "code",
   "execution_count": 8,
   "id": "0eae85a0",
   "metadata": {},
   "outputs": [
    {
     "name": "stdout",
     "output_type": "stream",
     "text": [
      "Enter the number of rows in Matrix:2\n",
      "Enter the number of columnsin Matrix:3\n",
      "Enter the elements rowwise :\n",
      "1\n",
      "5\n",
      "6\n",
      "4\n",
      "2\n",
      "3\n",
      "\n",
      "Given Matrix =\n",
      "                   [1, 5, 6]\n",
      "                   [4, 2, 3]\n",
      "\n",
      "Transpose of given matrix =\n",
      "                            [1, 4]\n",
      "                            [5, 2]\n",
      "                            [6, 3]\n"
     ]
    }
   ],
   "source": [
    "#3. Write a Python Program to Transpose a Matrix?\n",
    "\n",
    "R1 = int(input(\"Enter the number of rows in Matrix:\"))\n",
    "C1 = int(input(\"Enter the number of columnsin Matrix:\"))\n",
    "print('Enter the elements rowwise :')\n",
    "m=[]\n",
    "for i in range(R1):\n",
    "    a=[]\n",
    "    for j in range(C1):\n",
    "        a.append(int(input()))\n",
    "    m.append(a)\n",
    "    \n",
    "trans=[]\n",
    "for i in range(C1):\n",
    "    a=[]\n",
    "    for j in range(R1):\n",
    "        a.append(m[j][i])\n",
    "    trans.append(a)\n",
    "print('\\nGiven Matrix =')\n",
    "for i in m :\n",
    "    print(' '*18,i)\n",
    "print('\\nTranspose of given matrix =')    \n",
    "for i in trans :\n",
    "    print(' '*27,i)"
   ]
  },
  {
   "cell_type": "code",
   "execution_count": 47,
   "id": "0dcb3cd8",
   "metadata": {},
   "outputs": [
    {
     "name": "stdout",
     "output_type": "stream",
     "text": [
      "Enter all words to sort in alphabatical order :\n",
      "ask God fan Table Box club\n",
      "\n",
      "Words in Alphabatical order :\n",
      "                               1 Ask\n",
      "                               2 Box\n",
      "                               3 Club\n",
      "                               4 Fan\n",
      "                               5 God\n",
      "                               6 Table\n"
     ]
    }
   ],
   "source": [
    "#4. Write a Python Program to Sort Words in Alphabetic Order?\n",
    "\n",
    "print('Enter all words to sort in alphabatical order :')\n",
    "l_words=list(map(str,input().strip().split()))\n",
    "l_word=[i.capitalize() for i in l_words]\n",
    "l_word.sort()\n",
    "print('\\nWords in Alphabatical order :')\n",
    "for i in l_word :\n",
    "    print(' '*30,l_word.index(i)+1,i)"
   ]
  },
  {
   "cell_type": "code",
   "execution_count": 38,
   "id": "9b11b9c5",
   "metadata": {},
   "outputs": [
    {
     "name": "stdout",
     "output_type": "stream",
     "text": [
      "Enter any text to remove punctuations :Hello!!!, he said ---and went.\n",
      "\n",
      "After removing punctuations : Hello he said and went\n"
     ]
    }
   ],
   "source": [
    "#5. Write a Python Program to Remove Punctuation From a String?\n",
    "import string\n",
    "s=input('Enter any text to remove punctuations :')\n",
    "s1=''\n",
    "for i in s:\n",
    "    if i not in string.punctuation :\n",
    "        s1+=i\n",
    "\n",
    "print('\\nAfter removing punctuations :',s1)"
   ]
  },
  {
   "cell_type": "code",
   "execution_count": null,
   "id": "3378e845",
   "metadata": {},
   "outputs": [],
   "source": []
  }
 ],
 "metadata": {
  "kernelspec": {
   "display_name": "Python 3 (ipykernel)",
   "language": "python",
   "name": "python3"
  },
  "language_info": {
   "codemirror_mode": {
    "name": "ipython",
    "version": 3
   },
   "file_extension": ".py",
   "mimetype": "text/x-python",
   "name": "python",
   "nbconvert_exporter": "python",
   "pygments_lexer": "ipython3",
   "version": "3.9.12"
  }
 },
 "nbformat": 4,
 "nbformat_minor": 5
}
