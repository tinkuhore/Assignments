{
 "cells": [
  {
   "cell_type": "markdown",
   "id": "95d23766",
   "metadata": {},
   "source": [
    "1. Write a Python program to check if the given number is a Disarium Number?\n",
    "2. Write a Python program to print all disarium numbers between 1 to 100?\n",
    "3. Write a Python program to check if the given number is Happy Number?\n",
    "4. Write a Python program to print all happy numbers between 1 and 100?\n",
    "5. Write a Python program to determine whether the given number is a Harshad Number?\n",
    "6. Write a Python program to print all pronic numbers between 1 and 100?"
   ]
  },
  {
   "cell_type": "code",
   "execution_count": 10,
   "id": "7b640e3f",
   "metadata": {},
   "outputs": [],
   "source": [
    "#Q1\n",
    "def count_digits(n):\n",
    "    count=0\n",
    "    x=n\n",
    "    while x!=0 :\n",
    "        count+=1\n",
    "        x=x//10\n",
    "    return count\n",
    "\n",
    "def check_disarium_number(n):\n",
    "    m=count_digits(n)\n",
    "    x=n\n",
    "    s=0\n",
    "    while x!= 0 :\n",
    "        s+= (x%10)**m\n",
    "        m-=1\n",
    "        x=x//10\n",
    "    if s==n :\n",
    "        #print(n,' is a Disarium Number')\n",
    "        return True\n",
    "    else :\n",
    "        #print(n,' is not a Disarium Number')\n",
    "        return False"
   ]
  },
  {
   "cell_type": "code",
   "execution_count": 11,
   "id": "800db00a",
   "metadata": {},
   "outputs": [
    {
     "data": {
      "text/plain": [
       "True"
      ]
     },
     "execution_count": 11,
     "metadata": {},
     "output_type": "execute_result"
    }
   ],
   "source": [
    "check_disarium_number(89)"
   ]
  },
  {
   "cell_type": "code",
   "execution_count": 12,
   "id": "e17ef36c",
   "metadata": {},
   "outputs": [
    {
     "data": {
      "text/plain": [
       "False"
      ]
     },
     "execution_count": 12,
     "metadata": {},
     "output_type": "execute_result"
    }
   ],
   "source": [
    "check_disarium_number(123)"
   ]
  },
  {
   "cell_type": "code",
   "execution_count": 18,
   "id": "2f7b272f",
   "metadata": {},
   "outputs": [
    {
     "name": "stdout",
     "output_type": "stream",
     "text": [
      "all disarium numbers between 1 to 100 :\n",
      "                                        1\n",
      "                                        2\n",
      "                                        3\n",
      "                                        4\n",
      "                                        5\n",
      "                                        6\n",
      "                                        7\n",
      "                                        8\n",
      "                                        9\n",
      "                                        89\n"
     ]
    }
   ],
   "source": [
    "#Q2\n",
    "print('all disarium numbers between 1 to 100 :')\n",
    "for i in range(1,101):\n",
    "    if check_disarium_number(i)== True :\n",
    "        print(' '*39,i)"
   ]
  },
  {
   "cell_type": "code",
   "execution_count": 36,
   "id": "8086d430",
   "metadata": {},
   "outputs": [],
   "source": [
    "#Q3\n",
    "def square_sum(n):\n",
    "    s=0\n",
    "    while n>0 :\n",
    "        r=n%10\n",
    "        s+=r*r\n",
    "        n=n//10\n",
    "    return s\n",
    "\n",
    "def check_happy_number(n):\n",
    "        x=n\n",
    "        a=[]\n",
    "        while n!=1 :\n",
    "            s=square_sum(n)\n",
    "                      \n",
    "                \n",
    "            if s==1 :\n",
    "                return True\n",
    "            elif s in a:\n",
    "                return False\n",
    "            else :\n",
    "                a.append(s)\n",
    "                n=s\n",
    "            \n",
    "            "
   ]
  },
  {
   "cell_type": "code",
   "execution_count": 37,
   "id": "99943088",
   "metadata": {},
   "outputs": [
    {
     "data": {
      "text/plain": [
       "True"
      ]
     },
     "execution_count": 37,
     "metadata": {},
     "output_type": "execute_result"
    }
   ],
   "source": [
    "check_happy_number(97)"
   ]
  },
  {
   "cell_type": "code",
   "execution_count": 38,
   "id": "9e365d05",
   "metadata": {},
   "outputs": [
    {
     "data": {
      "text/plain": [
       "False"
      ]
     },
     "execution_count": 38,
     "metadata": {},
     "output_type": "execute_result"
    }
   ],
   "source": [
    "check_happy_number(123)"
   ]
  },
  {
   "cell_type": "code",
   "execution_count": 39,
   "id": "bd0b31f1",
   "metadata": {},
   "outputs": [
    {
     "data": {
      "text/plain": [
       "False"
      ]
     },
     "execution_count": 39,
     "metadata": {},
     "output_type": "execute_result"
    }
   ],
   "source": [
    "check_happy_number(89)"
   ]
  },
  {
   "cell_type": "code",
   "execution_count": 46,
   "id": "4e087521",
   "metadata": {},
   "outputs": [
    {
     "name": "stdout",
     "output_type": "stream",
     "text": [
      "all Happy numbers between 1 to 100 :\n",
      "                                         7\n",
      "                                         10\n",
      "                                         13\n",
      "                                         19\n",
      "                                         23\n",
      "                                         28\n",
      "                                         31\n",
      "                                         32\n",
      "                                         44\n",
      "                                         49\n",
      "                                         68\n",
      "                                         70\n",
      "                                         79\n",
      "                                         82\n",
      "                                         86\n",
      "                                         91\n",
      "                                         94\n",
      "                                         97\n",
      "                                         100\n"
     ]
    }
   ],
   "source": [
    "#Q4\n",
    "print('all Happy numbers between 1 to 100 :')\n",
    "for i in range(101):\n",
    "    if check_happy_number(i) is True:\n",
    "        print(' '*40,i)"
   ]
  },
  {
   "cell_type": "code",
   "execution_count": 40,
   "id": "342492bd",
   "metadata": {},
   "outputs": [],
   "source": [
    "#Q5\n",
    "def sum_of_digits(n):\n",
    "    s=0\n",
    "    while n>0 :\n",
    "        s+= (n%10)\n",
    "        n=n//10\n",
    "    return s"
   ]
  },
  {
   "cell_type": "code",
   "execution_count": 43,
   "id": "9c200320",
   "metadata": {},
   "outputs": [],
   "source": [
    "def harshad_number(n):\n",
    "    if n%sum_of_digits(n)==0 :\n",
    "        return True\n",
    "    else :\n",
    "        return False"
   ]
  },
  {
   "cell_type": "code",
   "execution_count": 44,
   "id": "b5b1fef4",
   "metadata": {},
   "outputs": [
    {
     "data": {
      "text/plain": [
       "True"
      ]
     },
     "execution_count": 44,
     "metadata": {},
     "output_type": "execute_result"
    }
   ],
   "source": [
    "harshad_number(111)"
   ]
  },
  {
   "cell_type": "code",
   "execution_count": 45,
   "id": "28cefb21",
   "metadata": {},
   "outputs": [
    {
     "data": {
      "text/plain": [
       "False"
      ]
     },
     "execution_count": 45,
     "metadata": {},
     "output_type": "execute_result"
    }
   ],
   "source": [
    "harshad_number(456)"
   ]
  },
  {
   "cell_type": "code",
   "execution_count": 48,
   "id": "d14201ac",
   "metadata": {},
   "outputs": [
    {
     "name": "stdout",
     "output_type": "stream",
     "text": [
      "all Harshad numbers between 1 to 100 :\n",
      "                                         1\n",
      "                                         2\n",
      "                                         3\n",
      "                                         4\n",
      "                                         5\n",
      "                                         6\n",
      "                                         7\n",
      "                                         8\n",
      "                                         9\n",
      "                                         10\n",
      "                                         12\n",
      "                                         18\n",
      "                                         20\n",
      "                                         21\n",
      "                                         24\n",
      "                                         27\n",
      "                                         30\n",
      "                                         36\n",
      "                                         40\n",
      "                                         42\n",
      "                                         45\n",
      "                                         48\n",
      "                                         50\n",
      "                                         54\n",
      "                                         60\n",
      "                                         63\n",
      "                                         70\n",
      "                                         72\n",
      "                                         80\n",
      "                                         81\n",
      "                                         84\n",
      "                                         90\n",
      "                                         100\n"
     ]
    }
   ],
   "source": [
    "#Q6\n",
    "print('all Harshad numbers between 1 to 100 :')\n",
    "for i in range(1,101):\n",
    "    if harshad_number(i) is True :\n",
    "        print(' '*40,i)\n",
    "    "
   ]
  },
  {
   "cell_type": "code",
   "execution_count": null,
   "id": "f2018aff",
   "metadata": {},
   "outputs": [],
   "source": []
  }
 ],
 "metadata": {
  "kernelspec": {
   "display_name": "Python 3 (ipykernel)",
   "language": "python",
   "name": "python3"
  },
  "language_info": {
   "codemirror_mode": {
    "name": "ipython",
    "version": 3
   },
   "file_extension": ".py",
   "mimetype": "text/x-python",
   "name": "python",
   "nbconvert_exporter": "python",
   "pygments_lexer": "ipython3",
   "version": "3.9.12"
  }
 },
 "nbformat": 4,
 "nbformat_minor": 5
}
