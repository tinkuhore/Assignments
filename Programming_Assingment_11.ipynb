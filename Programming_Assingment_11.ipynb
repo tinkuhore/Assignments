{
 "cells": [
  {
   "cell_type": "markdown",
   "id": "b06075d3",
   "metadata": {},
   "source": [
    "1. Write a Python program to find words which are greater than given length k?\n",
    "2. Write a Python program for removing i-th character from a string?\n",
    "3. Write a Python program to split and join a string?\n",
    "4. Write a Python to check if a given string is binary string or not?\n",
    "5. Write a Python program to find uncommon words from two Strings?\n",
    "6. Write a Python to find all duplicate characters in string?\n",
    "7. Write a Python Program to check if a string contains any special character?"
   ]
  },
  {
   "cell_type": "code",
   "execution_count": 1,
   "id": "e7505c1e",
   "metadata": {},
   "outputs": [
    {
     "name": "stdout",
     "output_type": "stream",
     "text": [
      "Enter the value of k = 5\n",
      "Python\n",
      "program\n",
      "greater\n",
      "length\n"
     ]
    }
   ],
   "source": [
    "#Q1\n",
    "s = 'Write a Python program to find words which are greater than given length k'\n",
    "l=list(s.split(' '))\n",
    "k=int(input('Enter the value of k = '))\n",
    "for i in l :\n",
    "    if len(i)> k:\n",
    "        print(i)"
   ]
  },
  {
   "cell_type": "code",
   "execution_count": 2,
   "id": "1b923ec1",
   "metadata": {},
   "outputs": [
    {
     "name": "stdout",
     "output_type": "stream",
     "text": [
      "Enter the value of k = 2\n",
      "Write a Python program to find words which are greater than given length k \n",
      "  Write a program to find words which are greater than given length k\n"
     ]
    }
   ],
   "source": [
    "#Q2\n",
    "s = 'Write a Python program to find words which are greater than given length k'\n",
    "l=list(s.split(' '))\n",
    "k=int(input('Enter the value of k = '))\n",
    "l.remove(l[k])\n",
    "s1=''\n",
    "for i in l:\n",
    "    s1=s1+' '+str(i)\n",
    "print(s,'\\n',s1)"
   ]
  },
  {
   "cell_type": "code",
   "execution_count": 22,
   "id": "1619d320",
   "metadata": {},
   "outputs": [],
   "source": [
    "#Q3\n",
    "s = 'Write a Python program to find words which are greater than given length k'\n",
    "def split_str(s):\n",
    "    s1=''\n",
    "    l=[]\n",
    "    for i in s:\n",
    "        if i == ' ':\n",
    "            l.append(s1)\n",
    "            s1=''\n",
    "        else :\n",
    "            s1+=i\n",
    "    l.append(s1)\n",
    "    return l\n",
    "def join_str(l):\n",
    "    s=''\n",
    "    for i in l:\n",
    "        s+=' '+i\n",
    "    return s"
   ]
  },
  {
   "cell_type": "code",
   "execution_count": 24,
   "id": "3742380b",
   "metadata": {},
   "outputs": [
    {
     "name": "stdout",
     "output_type": "stream",
     "text": [
      "Original String :  Write a Python program to find words which are greater than given length k\n",
      "\n",
      "Splited string : \n",
      " ['Write', 'a', 'Python', 'program', 'to', 'find', 'words', 'which', 'are', 'greater', 'than', 'given', 'length', 'k']\n",
      "\n",
      "Joined string : \n",
      "  Write a Python program to find words which are greater than given length k\n"
     ]
    }
   ],
   "source": [
    "s = 'Write a Python program to find words which are greater than given length k'\n",
    "print('Original String : ',s)\n",
    "print('\\nSplited string : \\n',split_str(s))\n",
    "l=split_str(s)\n",
    "print('\\nJoined string : \\n',join_str(l))"
   ]
  },
  {
   "cell_type": "code",
   "execution_count": 32,
   "id": "4b7c3180",
   "metadata": {},
   "outputs": [],
   "source": [
    "#Q4\n",
    "def isbinary_str(s):\n",
    "    x=set(s)\n",
    "    if x=={'0'} or x=={'1'} or x=={'0','1'}:\n",
    "        return True\n",
    "    else :\n",
    "        return False"
   ]
  },
  {
   "cell_type": "code",
   "execution_count": 33,
   "id": "e1e33ba3",
   "metadata": {},
   "outputs": [
    {
     "data": {
      "text/plain": [
       "True"
      ]
     },
     "execution_count": 33,
     "metadata": {},
     "output_type": "execute_result"
    }
   ],
   "source": [
    "s='01010111'\n",
    "isbinary_str(s)"
   ]
  },
  {
   "cell_type": "code",
   "execution_count": 34,
   "id": "44e83f93",
   "metadata": {},
   "outputs": [
    {
     "data": {
      "text/plain": [
       "False"
      ]
     },
     "execution_count": 34,
     "metadata": {},
     "output_type": "execute_result"
    }
   ],
   "source": [
    "s='tinku001011'\n",
    "isbinary_str(s)"
   ]
  },
  {
   "cell_type": "code",
   "execution_count": 53,
   "id": "c339660b",
   "metadata": {},
   "outputs": [],
   "source": [
    "#Q5\n",
    "\n",
    "def uncommon_words(s1,s2):\n",
    "    l1=split_str(s1.lower())\n",
    "    l2=split_str(s2.lower())\n",
    "    l3=[]\n",
    "    l4=[]\n",
    "    for i in l1:\n",
    "        if i not in l2 :\n",
    "            l3.append(i)\n",
    "    for j in l2:\n",
    "        if j not in l1:\n",
    "            l4.append(j)\n",
    "    print(l3,l4)\n",
    "       "
   ]
  },
  {
   "cell_type": "code",
   "execution_count": 54,
   "id": "6a15916a",
   "metadata": {},
   "outputs": [
    {
     "name": "stdout",
     "output_type": "stream",
     "text": [
      "['write', 'a', 'python', 'program', 'to', 'display', 'in', 'capital'] ['what', 'is', '?']\n"
     ]
    }
   ],
   "source": [
    "s1='Write a Python program to display your name in capital'\n",
    "s2='what is your name ?'\n",
    "uncommon_words(s1,s2)"
   ]
  },
  {
   "cell_type": "code",
   "execution_count": 61,
   "id": "42c7f036",
   "metadata": {},
   "outputs": [],
   "source": [
    "#Q6\n",
    "def common_words(s1,s2):\n",
    "    l=[]\n",
    "    for i in s1.lower().split():\n",
    "        for j in s2.lower().split():\n",
    "            if i==j:\n",
    "                l.append(i)\n",
    "    return l"
   ]
  },
  {
   "cell_type": "code",
   "execution_count": 62,
   "id": "35a7110b",
   "metadata": {},
   "outputs": [
    {
     "data": {
      "text/plain": [
       "['your', 'name']"
      ]
     },
     "execution_count": 62,
     "metadata": {},
     "output_type": "execute_result"
    }
   ],
   "source": [
    "common_words(s1,s2)"
   ]
  },
  {
   "cell_type": "code",
   "execution_count": 72,
   "id": "459a1880",
   "metadata": {},
   "outputs": [],
   "source": [
    "#Q7\n",
    "def checck_for_special_chr(s):\n",
    "    special_chr='@#$&%!~'\n",
    "    for i in s:\n",
    "        if i in special_chr :\n",
    "            return 'Yes'\n",
    "    return 'No'\n"
   ]
  },
  {
   "cell_type": "code",
   "execution_count": 73,
   "id": "d29c7523",
   "metadata": {},
   "outputs": [
    {
     "data": {
      "text/plain": [
       "'Yes'"
      ]
     },
     "execution_count": 73,
     "metadata": {},
     "output_type": "execute_result"
    }
   ],
   "source": [
    "checck_for_special_chr('tinku@hore#azimganj')"
   ]
  },
  {
   "cell_type": "code",
   "execution_count": 74,
   "id": "0c56cc26",
   "metadata": {},
   "outputs": [
    {
     "data": {
      "text/plain": [
       "'No'"
      ]
     },
     "execution_count": 74,
     "metadata": {},
     "output_type": "execute_result"
    }
   ],
   "source": [
    "checck_for_special_chr('tinku')"
   ]
  },
  {
   "cell_type": "code",
   "execution_count": null,
   "id": "6350e64b",
   "metadata": {},
   "outputs": [],
   "source": []
  }
 ],
 "metadata": {
  "kernelspec": {
   "display_name": "Python 3 (ipykernel)",
   "language": "python",
   "name": "python3"
  },
  "language_info": {
   "codemirror_mode": {
    "name": "ipython",
    "version": 3
   },
   "file_extension": ".py",
   "mimetype": "text/x-python",
   "name": "python",
   "nbconvert_exporter": "python",
   "pygments_lexer": "ipython3",
   "version": "3.9.12"
  }
 },
 "nbformat": 4,
 "nbformat_minor": 5
}
