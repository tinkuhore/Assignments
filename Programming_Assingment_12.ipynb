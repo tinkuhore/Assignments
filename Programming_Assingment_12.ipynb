{
 "cells": [
  {
   "cell_type": "markdown",
   "id": "fa5a5f1c",
   "metadata": {},
   "source": [
    "1. Write a Python program to Extract Unique values dictionary values?\n",
    "2. Write a Python program to find the sum of all items in a dictionary?\n",
    "3. Write a Python program to Merging two Dictionaries?\n",
    "4. Write a Python program to convert key-values list to flat dictionary?\n",
    "5. Write a Python program to insertion at the beginning in OrderedDict?\n",
    "6. Write a Python program to check order of character in string using OrderedDict()?\n",
    "7. Write a Python program to sort Python Dictionaries by Key or Value?"
   ]
  },
  {
   "cell_type": "code",
   "execution_count": 1,
   "id": "11e8fbad",
   "metadata": {},
   "outputs": [
    {
     "name": "stdout",
     "output_type": "stream",
     "text": [
      "{345, 'India', 123, 'China'}\n"
     ]
    }
   ],
   "source": [
    "#Q1\n",
    "d={'k1':123,'k2':345,'k3':'India','k4':'China','k5':123}\n",
    "l=[]\n",
    "\n",
    "for i in d.values():\n",
    "    l.append(i)\n",
    "print(set(l)) \n"
   ]
  },
  {
   "cell_type": "code",
   "execution_count": 2,
   "id": "2e4771f6",
   "metadata": {},
   "outputs": [],
   "source": [
    "#Q2\n",
    "def dict_sum(d):\n",
    "    l=[]\n",
    "    for i in d.values():\n",
    "        l.append(i)\n",
    "    return sum(l)"
   ]
  },
  {
   "cell_type": "code",
   "execution_count": 3,
   "id": "0197610e",
   "metadata": {},
   "outputs": [
    {
     "data": {
      "text/plain": [
       "703"
      ]
     },
     "execution_count": 3,
     "metadata": {},
     "output_type": "execute_result"
    }
   ],
   "source": [
    "d={'k1':123,'k2':345,'k3':34,'k4':78,'k5':123}\n",
    "dict_sum(d)"
   ]
  },
  {
   "cell_type": "code",
   "execution_count": 4,
   "id": "34f3a32f",
   "metadata": {},
   "outputs": [],
   "source": [
    "#Q3\n",
    "def merge_dict(d1,d2):\n",
    "    for i,j in d2.items():\n",
    "        d1[i]=j\n",
    "    return d1"
   ]
  },
  {
   "cell_type": "code",
   "execution_count": 5,
   "id": "444cce54",
   "metadata": {},
   "outputs": [
    {
     "data": {
      "text/plain": [
       "{'k1': 123,\n",
       " 'k2': 345,\n",
       " 'k3': 34,\n",
       " 'k4': 78,\n",
       " 'k5': 123,\n",
       " 'k6': 'India',\n",
       " 'k7': 'China'}"
      ]
     },
     "execution_count": 5,
     "metadata": {},
     "output_type": "execute_result"
    }
   ],
   "source": [
    "d1={'k1':123,'k2':345,'k3':34,'k4':78,'k5':123}\n",
    "d2={'k6':'India','k7':'China'}\n",
    "merge_dict(d1,d2)\n"
   ]
  },
  {
   "cell_type": "code",
   "execution_count": 6,
   "id": "0a098c8c",
   "metadata": {},
   "outputs": [
    {
     "name": "stdout",
     "output_type": "stream",
     "text": [
      "{'k1': 'India', 'k2': 'Bangladesh', 'k3': 'Nepal', 'k4': 'Bhutan', 'k5': 'Srilanka'}\n"
     ]
    }
   ],
   "source": [
    "#Q4\n",
    "keys=['k1','k2','k3','k4','k5']\n",
    "values=['India','Bangladesh','Nepal','Bhutan','Srilanka']\n",
    "d={}\n",
    "for i in range(len(keys)):\n",
    "    d[keys[i]]=values[i]\n",
    "print(d)"
   ]
  },
  {
   "cell_type": "code",
   "execution_count": 7,
   "id": "82702cbf",
   "metadata": {},
   "outputs": [
    {
     "name": "stdout",
     "output_type": "stream",
     "text": [
      "Enter the key :k1\n",
      "Enter the value :Srilanka\n",
      "\n",
      "List before :  OrderedDict([('k6', 'India'), ('k7', 'China'), ('k8', 'Bhutan'), ('k9', 'Nepal')])\n",
      "\n",
      "List after:  OrderedDict([('k1', 'Srilanka'), ('k6', 'India'), ('k7', 'China'), ('k8', 'Bhutan'), ('k9', 'Nepal')])\n"
     ]
    }
   ],
   "source": [
    "#Q5\n",
    "from collections import OrderedDict\n",
    "k=input('Enter the key :')\n",
    "v=input('Enter the value :')\n",
    "\n",
    "od = OrderedDict()\n",
    "od['k6'] = 'India'\n",
    "od['k7'] = 'China'\n",
    "od['k8'] = 'Bhutan'\n",
    "od['k9'] = 'Nepal'\n",
    "\n",
    "d1={}\n",
    "d1[k]=v\n",
    "print('\\nList before : ',od)\n",
    "print('\\nList after: ',OrderedDict(merge_dict(d1,od)))"
   ]
  },
  {
   "cell_type": "code",
   "execution_count": 11,
   "id": "716326fc",
   "metadata": {},
   "outputs": [],
   "source": [
    "#Q6\n",
    "def check_order(string,pattern):\n",
    "    d=OrderedDict.fromkeys(string)\n",
    "    pattern_len=0\n",
    "    for i in d.keys():\n",
    "        if i==pattern[pattern_len]:\n",
    "            pattern_len+=1\n",
    "        if pattern_len==len(pattern):\n",
    "            return True\n",
    "    return False\n",
    "\n"
   ]
  },
  {
   "cell_type": "code",
   "execution_count": 12,
   "id": "18d5a259",
   "metadata": {},
   "outputs": [
    {
     "data": {
      "text/plain": [
       "True"
      ]
     },
     "execution_count": 12,
     "metadata": {},
     "output_type": "execute_result"
    }
   ],
   "source": [
    "string='I love my INDIA'\n",
    "pattern='ley'\n",
    "check_order(string,pattern)"
   ]
  },
  {
   "cell_type": "code",
   "execution_count": 13,
   "id": "b095fb97",
   "metadata": {},
   "outputs": [
    {
     "data": {
      "text/plain": [
       "False"
      ]
     },
     "execution_count": 13,
     "metadata": {},
     "output_type": "execute_result"
    }
   ],
   "source": [
    "string='I love my INDIA'\n",
    "pattern='moy'\n",
    "check_order(string,pattern)"
   ]
  },
  {
   "cell_type": "code",
   "execution_count": null,
   "id": "650065e7",
   "metadata": {},
   "outputs": [],
   "source": [
    "#Q7\n",
    "def sort_list(l):\n",
    "    l1=[]\n",
    "    l2=[]\n",
    "    x=[]\n",
    "    for i in l:\n",
    "        if type(i)==int:\n",
    "            l1.append(i)\n",
    "        else:\n",
    "            l2.append(i)\n",
    "    l1.sort()\n",
    "    l2.sort()\n",
    "    return l1+l2\n"
   ]
  },
  {
   "cell_type": "code",
   "execution_count": null,
   "id": "179d3b0a",
   "metadata": {},
   "outputs": [],
   "source": [
    "\n",
    "def sort_dict_keys(d):\n",
    "    l=[i for i in d.keys()]\n",
    "    \n",
    "    d1={}\n",
    "    for i in sort_list(l):\n",
    "        d1[i]=d[i]\n",
    "    print('\\nSorted list w.r.t keys :\\n')\n",
    "    for i,j in d1.items():\n",
    "        print(' '*26,i,' - ',j)\n",
    "\n",
    "def sort_dict_values(d):\n",
    "    l1=[[i,j] for i,j in d.items()]\n",
    "    l2=[k for k in d.values()]\n",
    "    \n",
    "    d1={}\n",
    "    for i in sort_list(l2):\n",
    "        for j in l1:\n",
    "            if j[1]==i:\n",
    "                d1[j[0]]=i\n",
    "    print('\\nSorted list w.r.t values :\\n')\n",
    "    for i,j in d1.items():\n",
    "        print(' '*26,i,' - ',j)"
   ]
  },
  {
   "cell_type": "code",
   "execution_count": null,
   "id": "f1cf013c",
   "metadata": {},
   "outputs": [],
   "source": [
    "d1={'dk1':123,'ek2':345,'ck3':34,'bk4':78,'ak5':123,987:'zefcd',789:'differ'}\n",
    "print('\\nOriginal List :',d1)\n",
    "print(sort_dict_keys(d1))\n",
    "print(sort_dict_values(d1))"
   ]
  },
  {
   "cell_type": "code",
   "execution_count": null,
   "id": "8c1a0560",
   "metadata": {},
   "outputs": [],
   "source": []
  },
  {
   "cell_type": "code",
   "execution_count": null,
   "id": "d752546f",
   "metadata": {},
   "outputs": [],
   "source": []
  }
 ],
 "metadata": {
  "kernelspec": {
   "display_name": "Python 3 (ipykernel)",
   "language": "python",
   "name": "python3"
  },
  "language_info": {
   "codemirror_mode": {
    "name": "ipython",
    "version": 3
   },
   "file_extension": ".py",
   "mimetype": "text/x-python",
   "name": "python",
   "nbconvert_exporter": "python",
   "pygments_lexer": "ipython3",
   "version": "3.9.12"
  }
 },
 "nbformat": 4,
 "nbformat_minor": 5
}
