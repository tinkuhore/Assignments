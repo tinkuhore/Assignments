{
 "cells": [
  {
   "cell_type": "markdown",
   "id": "a908880d",
   "metadata": {},
   "source": [
    "Question 1:\n",
    "Write a program that calculates and prints the value according to the given formula:\n",
    "Q = Square root of [(2 * C * D)/H]\n",
    "Following are the fixed values of C and H:\n",
    "C is 50. H is 30.\n",
    "D is the variable whose values should be input to your program in a comma-separated\n",
    "sequence.\n",
    "\n",
    "Example\n",
    "Let us assume the following comma separated input sequence is given to the program:\n",
    "100,150,180\n",
    "The output of the program should be:\n",
    "18,22,24\n",
    "\n"
   ]
  },
  {
   "cell_type": "code",
   "execution_count": 5,
   "id": "68b47dbd",
   "metadata": {},
   "outputs": [
    {
     "name": "stdout",
     "output_type": "stream",
     "text": [
      "Enter the values of D separated by , : 100,150,180\n",
      "\n",
      "Outputs :  [18, 22, 24]\n"
     ]
    }
   ],
   "source": [
    "C,H=50,30\n",
    "D=list(map(int,input('Enter the values of D separated by , : ').split(',')))\n",
    "l=[]\n",
    "for i in D:\n",
    "    Q= int(((2*C*i)/H)**(1/2))\n",
    "    l.append(Q)\n",
    "print('\\nOutputs : ',l)"
   ]
  },
  {
   "cell_type": "markdown",
   "id": "b7787001",
   "metadata": {},
   "source": [
    "Question 2:\n",
    "Write a program which takes 2 digits, X,Y as input and generates a 2-dimensional array. The\n",
    "element value in the i-th row and j-th column of the array should be i*j.\n",
    "Note: i=0,1.., X-1; j=0,1,¡Y-1.\n",
    "Example\n",
    "Suppose the following inputs are given to the program:\n",
    "3,5\n",
    "Then, the output of the program should be:\n",
    "[[0, 0, 0, 0, 0], [0, 1, 2, 3, 4], [0, 2, 4, 6, 8]]\n",
    "\n"
   ]
  },
  {
   "cell_type": "code",
   "execution_count": 5,
   "id": "776cc46d",
   "metadata": {},
   "outputs": [
    {
     "name": "stdout",
     "output_type": "stream",
     "text": [
      "Enter the number of rows : 3\n",
      "Enter the number of columns : 5\n",
      "\n",
      "Output as 2-dimensional array :\n",
      "                                 [0, 0, 0, 0, 0]\n",
      "                                 [0, 1, 2, 3, 4]\n",
      "                                 [0, 2, 4, 6, 8]\n"
     ]
    }
   ],
   "source": [
    "x,y=int(input('Enter the number of rows : ')),int(input('Enter the number of columns : '))\n",
    "l=[]\n",
    "for i in range(x):\n",
    "    l1=[]\n",
    "    for j in range(y):\n",
    "        l1.append(i*j)\n",
    "    l.append(l1)\n",
    "print('\\nOutput as 2-dimensional array :')\n",
    "for i in l:\n",
    "    print(' '*32,i)"
   ]
  },
  {
   "cell_type": "markdown",
   "id": "df789d30",
   "metadata": {},
   "source": [
    "Question 3:\n",
    "Write a program that accepts a comma separated sequence of words as input and prints the\n",
    "words in a comma-separated sequence after sorting them alphabetically.\n",
    "Suppose the following input is supplied to the program:\n",
    "without,hello,bag,world\n",
    "Then, the output should be:\n",
    "bag,hello,without,world\n",
    "\n"
   ]
  },
  {
   "cell_type": "code",
   "execution_count": 4,
   "id": "83c86899",
   "metadata": {},
   "outputs": [
    {
     "name": "stdout",
     "output_type": "stream",
     "text": [
      "Enter coma seperated words to arrange alphabatically : without,hello,bag,world \n",
      "['bag', 'hello', 'without', 'world ']\n"
     ]
    }
   ],
   "source": [
    "l=list(map(str,input('Enter coma seperated words to arrange alphabatically : ').split(',')))\n",
    "l.sort()\n",
    "print(l)"
   ]
  },
  {
   "cell_type": "markdown",
   "id": "a74ee208",
   "metadata": {},
   "source": [
    "Question 4:\n",
    "Write a program that accepts a sequence of whitespace separated words as input and prints\n",
    "the words after removing all duplicate words and sorting them alphanumerically.\n",
    "Suppose the following input is supplied to the program:\n",
    "hello world and practice makes perfect and hello world again\n",
    "Then, the output should be:\n",
    "again and hello makes perfect practice world\n",
    "\n"
   ]
  },
  {
   "cell_type": "code",
   "execution_count": 1,
   "id": "16810864",
   "metadata": {},
   "outputs": [
    {
     "name": "stdout",
     "output_type": "stream",
     "text": [
      "Enter sentence to remove duplicate words and arrange alphanumerically : hello world and practice makes perfect and hello world again \n",
      " again and hello makes perfect practice world "
     ]
    }
   ],
   "source": [
    "l=list(map(str,input('Enter sentence to remove duplicate words and arrange alphanumerically : ').split(' ')))\n",
    "\n",
    "s=set(l)\n",
    "l=list(s)\n",
    "l.sort()\n",
    "for i in l:\n",
    "    print(i,end=' ')"
   ]
  },
  {
   "cell_type": "markdown",
   "id": "83746a98",
   "metadata": {},
   "source": [
    "Question 5:\n",
    "Write a program that accepts a sentence and calculate the number of letters and digits.\n",
    "Suppose the following input is supplied to the program:\n",
    "hello world! 123\n",
    "Then, the output should be:\n",
    "LETTERS 10\n",
    "\n",
    "DIGITS 3\n",
    "\n"
   ]
  },
  {
   "cell_type": "code",
   "execution_count": 12,
   "id": "665ee2fa",
   "metadata": {},
   "outputs": [
    {
     "name": "stdout",
     "output_type": "stream",
     "text": [
      "Enter the sentence : hello world! 123\n",
      "LETTERS  10\n"
     ]
    }
   ],
   "source": [
    "x=input('Enter the sentence : ')\n",
    "s=set(x)\n",
    "l1=[' ','!','\"','#','$','%','&',\"'\",'*','+','‑','/','<','=','>','?','@']\n",
    "count=0\n",
    "for i in s:\n",
    "    if i not in l1:\n",
    "        count+=1\n",
    "print('LETTERS ',count)"
   ]
  },
  {
   "cell_type": "markdown",
   "id": "b5c01fa4",
   "metadata": {},
   "source": [
    "Question 6:\n",
    "A website requires the users to input username and password to register. Write a program to\n",
    "check the validity of password input by users.\n",
    "Following are the criteria for checking the password:\n",
    "1. At least 1 letter between [a-z]\n",
    "2. At least 1 number between [0-9]\n",
    "1. At least 1 letter between [A-Z]\n",
    "3. At least 1 character from [$#@]\n",
    "4. Minimum length of transaction password: 6\n",
    "5. Maximum length of transaction password: 12\n",
    "\n",
    "Your program should accept a sequence of comma separated passwords and will check them\n",
    "according to the above criteria. Passwords that match the criteria are to be printed, each\n",
    "separated by a comma.\n",
    "Example\n",
    "If the following passwords are given as input to the program:\n",
    "ABd1234@1,a F1#,2w3E*,2We3345\n",
    "Then, the output of the program should be:\n",
    "ABd1234@1"
   ]
  },
  {
   "cell_type": "code",
   "execution_count": 3,
   "id": "ba8731a1",
   "metadata": {},
   "outputs": [],
   "source": [
    "def password_check(x):\n",
    "    c1=c2=c3=c4=c5=c6=False\n",
    "    for i in x:\n",
    "        if i in [chr(j) for j in range(97,123)]:\n",
    "            c1=True\n",
    "            break\n",
    "    for i in x:\n",
    "        if i in [chr(j) for j in range(48,58)]:\n",
    "            c2=True\n",
    "            break\n",
    "    for i in x:\n",
    "        if i in [chr(j) for j in range(65,91)]:\n",
    "            c3=True\n",
    "            break  \n",
    "    for i in x:\n",
    "        if i=='@' or i=='#' or i=='$':\n",
    "            c4=True\n",
    "            break\n",
    "    if len(x)>5 and len(x)<13 :\n",
    "        c5=c6=True\n",
    "    if  c1==True and c2==True and c3==True and c4==True and c5==True and c6==True :\n",
    "        return True\n",
    "    else: \n",
    "        return False"
   ]
  },
  {
   "cell_type": "code",
   "execution_count": 4,
   "id": "fdcf4b86",
   "metadata": {},
   "outputs": [
    {
     "name": "stdout",
     "output_type": "stream",
     "text": [
      "Enter coma seperated words to arrange alphabatically : ABd1234@1,a F1#,2w3E*,2We3345\n",
      "\n",
      " ABd1234@1\n"
     ]
    }
   ],
   "source": [
    "l=list(map(str,input('Enter coma seperated words to arrange alphabatically : ').split(',')))\n",
    "for i in l:\n",
    "    if password_check(i) == True:\n",
    "        print('\\n',i)"
   ]
  },
  {
   "cell_type": "code",
   "execution_count": null,
   "id": "4b2c1343",
   "metadata": {},
   "outputs": [],
   "source": []
  }
 ],
 "metadata": {
  "kernelspec": {
   "display_name": "Python 3 (ipykernel)",
   "language": "python",
   "name": "python3"
  },
  "language_info": {
   "codemirror_mode": {
    "name": "ipython",
    "version": 3
   },
   "file_extension": ".py",
   "mimetype": "text/x-python",
   "name": "python",
   "nbconvert_exporter": "python",
   "pygments_lexer": "ipython3",
   "version": "3.9.12"
  }
 },
 "nbformat": 4,
 "nbformat_minor": 5
}
