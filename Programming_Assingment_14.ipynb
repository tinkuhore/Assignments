{
 "cells": [
  {
   "cell_type": "markdown",
   "id": "5dd766fb",
   "metadata": {},
   "source": [
    "Question 1:\n",
    "Define a class with a generator which can iterate the numbers, which are divisible by\n",
    "7, between a given range 0 and n.\n",
    "\n"
   ]
  },
  {
   "cell_type": "code",
   "execution_count": 1,
   "id": "1f3e7171",
   "metadata": {},
   "outputs": [],
   "source": [
    "def divby7(a,n):\n",
    "    for i in range(a,n+1):\n",
    "        if i%7==0:\n",
    "            yield i"
   ]
  },
  {
   "cell_type": "code",
   "execution_count": 2,
   "id": "2b682cee",
   "metadata": {},
   "outputs": [
    {
     "data": {
      "text/plain": [
       "<generator object divby7 at 0x7f0b38424120>"
      ]
     },
     "execution_count": 2,
     "metadata": {},
     "output_type": "execute_result"
    }
   ],
   "source": [
    "divby7(1,100)"
   ]
  },
  {
   "cell_type": "code",
   "execution_count": 4,
   "id": "783700d9",
   "metadata": {
    "scrolled": true
   },
   "outputs": [
    {
     "data": {
      "text/plain": [
       "[7, 14, 21, 28, 35, 42, 49, 56, 63, 70, 77, 84, 91, 98]"
      ]
     },
     "execution_count": 4,
     "metadata": {},
     "output_type": "execute_result"
    }
   ],
   "source": [
    "list(divby7(1,100))"
   ]
  },
  {
   "cell_type": "markdown",
   "id": "e91534be",
   "metadata": {},
   "source": [
    "Question 2:\n",
    "Write a program to compute the frequency of the words from the input. The output\n",
    "should output after sorting the key alphanumerically.\n",
    "Suppose the following input is supplied to the program:\n",
    "New to Python or choosing between Python 2 and Python 3? Read Python 2 or\n",
    "Python 3.\n",
    "Then, the output should be:\n",
    "2:2\n",
    "3.:1\n",
    "3?:1\n",
    "New:1\n",
    "Python:5\n",
    "Read:1\n",
    "and:1\n",
    "between:1\n",
    "choosing:1\n",
    "or:2\n",
    "to:1\n",
    "\n"
   ]
  },
  {
   "cell_type": "code",
   "execution_count": 1,
   "id": "9408bb74",
   "metadata": {},
   "outputs": [
    {
     "name": "stdout",
     "output_type": "stream",
     "text": [
      "Enter the line : New to Python or choosing between Python 2 and Python 3? Read Python 2 or Python 3.\n",
      "2  :  2\n",
      "3.  :  1\n",
      "3?  :  1\n",
      "New  :  1\n",
      "Python  :  5\n",
      "Read  :  1\n",
      "and  :  1\n",
      "between  :  1\n",
      "choosing  :  1\n",
      "or  :  2\n",
      "to  :  1\n"
     ]
    }
   ],
   "source": [
    "l=list(input('Enter the line : ').split(' '))\n",
    "\n",
    "s=list(set(l))\n",
    "s.sort()\n",
    "for i in s:\n",
    "    print(i,' : ',l.count(i))\n"
   ]
  },
  {
   "cell_type": "markdown",
   "id": "382cb074",
   "metadata": {},
   "source": [
    "Question 3:\n",
    "\n",
    "Define a class Person and its two child classes: Male and Female. All classes have a\n",
    "method &quot;getGender&quot; which can print &quot;Male&quot; for Male class and &quot;Female&quot; for Female\n",
    "class.\n",
    "\n"
   ]
  },
  {
   "cell_type": "code",
   "execution_count": 24,
   "id": "342f4ece",
   "metadata": {},
   "outputs": [
    {
     "name": "stdout",
     "output_type": "stream",
     "text": [
      "Male\n",
      "Female\n"
     ]
    }
   ],
   "source": [
    "class Person(object):\n",
    "    def getGender( self ):\n",
    "        return \"Unknown\"\n",
    "\n",
    "class Male( Person ):\n",
    "    def getGender( self ):\n",
    "        return \"Male\"\n",
    "\n",
    "class Female( Person ):\n",
    "    def getGender( self ):\n",
    "        return \"Female\"\n",
    "\n",
    "aMale = Male()\n",
    "aFemale= Female()\n",
    "print( aMale.getGender())\n",
    "print (aFemale.getGender())"
   ]
  },
  {
   "cell_type": "markdown",
   "id": "9d2fe310",
   "metadata": {},
   "source": [
    "Question 4:\n",
    "Please write a program to generate all sentences where subject is in [&quot;I&quot;, &quot;You&quot;] and\n",
    "verb is in [&quot;Play&quot;, &quot;Love&quot;] and the object is in [&quot;Hockey&quot;,&quot;Football&quot;].\n",
    "\n"
   ]
  },
  {
   "cell_type": "code",
   "execution_count": 3,
   "id": "6cfe995c",
   "metadata": {},
   "outputs": [
    {
     "name": "stdout",
     "output_type": "stream",
     "text": [
      "I   Play   Hockey .\n",
      "I   Play   Football .\n",
      "I   Love   Hockey .\n",
      "I   Love   Football .\n",
      "You   Play   Hockey .\n",
      "You   Play   Football .\n",
      "You   Love   Hockey .\n",
      "You   Love   Football .\n"
     ]
    }
   ],
   "source": [
    "l1= [\"I\", \"You\"] \n",
    "l2=[\"Play\", \"Love\"]\n",
    "l3=[\"Hockey\",\"Football\"]\n",
    "for i in l1:\n",
    "    for j in l2:\n",
    "        for k in l3:\n",
    "            print(i,' ',j,' ',k,'.')"
   ]
  },
  {
   "cell_type": "markdown",
   "id": "4a0786f0",
   "metadata": {},
   "source": [
    "Question 5:\n",
    "Please write a program to compress and decompress the string &quot;hello world!hello\n",
    "world!hello world!hello world!&quot;.\n",
    "\n"
   ]
  },
  {
   "cell_type": "code",
   "execution_count": 16,
   "id": "07911724",
   "metadata": {},
   "outputs": [
    {
     "name": "stdout",
     "output_type": "stream",
     "text": [
      "original text :  b'hello world!hello world!hello world!hello world!' \n",
      "Length :  48\n",
      "\n",
      "Compressed:  b'x\\x9c\\xcbH\\xcd\\xc9\\xc9W(\\xcf/\\xcaIQ\\xcc \\x82\\r\\x00\\xbd[\\x11\\xf5' \n",
      "Length :  23\n",
      "\n",
      "Decompressed:  b'hello world!hello world!hello world!hello world!' \n",
      "Length :  48\n"
     ]
    }
   ],
   "source": [
    "import zlib\n",
    "text=b\"hello world!hello world!hello world!hello world!\"\n",
    "print('original text : ',text,'\\nLength : ',len(text))\n",
    "comp=zlib.compress(text)\n",
    "print(\"\\nCompressed: \", comp,'\\nLength : ',len(comp))\n",
    "decomp=zlib.decompress(comp)\n",
    "print(\"\\nDecompressed: \", decomp,'\\nLength : ',len(decomp))"
   ]
  },
  {
   "cell_type": "markdown",
   "id": "974f542b",
   "metadata": {},
   "source": [
    "Question 6:\n",
    "Please write a binary search function which searches an item in a sorted list. The\n",
    "function should return the index of element to be searched in the list."
   ]
  },
  {
   "cell_type": "code",
   "execution_count": 23,
   "id": "24702b1b",
   "metadata": {},
   "outputs": [],
   "source": [
    "def search_index(x,l):\n",
    "    '''x : Enter the element you wanr to search\n",
    "        l: Enter the list where tou want to search'''\n",
    "    for i in l:\n",
    "        if i == x:\n",
    "            index=l.index(i)\n",
    "            return index\n",
    "    return 'Not found'"
   ]
  },
  {
   "cell_type": "code",
   "execution_count": 24,
   "id": "0bee6c0a",
   "metadata": {},
   "outputs": [
    {
     "data": {
      "text/plain": [
       "1"
      ]
     },
     "execution_count": 24,
     "metadata": {},
     "output_type": "execute_result"
    }
   ],
   "source": [
    "l=[12,34,56,67,'America','Las Vegas']\n",
    "x=34\n",
    "search_index(x,l)"
   ]
  },
  {
   "cell_type": "code",
   "execution_count": 25,
   "id": "33353115",
   "metadata": {},
   "outputs": [
    {
     "data": {
      "text/plain": [
       "'Not found'"
      ]
     },
     "execution_count": 25,
     "metadata": {},
     "output_type": "execute_result"
    }
   ],
   "source": [
    "search_index(23,l)"
   ]
  },
  {
   "cell_type": "code",
   "execution_count": 26,
   "id": "74f338f6",
   "metadata": {},
   "outputs": [
    {
     "data": {
      "text/plain": [
       "4"
      ]
     },
     "execution_count": 26,
     "metadata": {},
     "output_type": "execute_result"
    }
   ],
   "source": [
    "search_index('America',l)"
   ]
  },
  {
   "cell_type": "code",
   "execution_count": 27,
   "id": "1cecba9d",
   "metadata": {},
   "outputs": [
    {
     "data": {
      "text/plain": [
       "'Not found'"
      ]
     },
     "execution_count": 27,
     "metadata": {},
     "output_type": "execute_result"
    }
   ],
   "source": [
    "search_index('america',l)"
   ]
  },
  {
   "cell_type": "code",
   "execution_count": 1,
   "id": "0b73bb0f",
   "metadata": {},
   "outputs": [],
   "source": [
    "import bisect"
   ]
  },
  {
   "cell_type": "code",
   "execution_count": 4,
   "id": "2325c9b6",
   "metadata": {},
   "outputs": [
    {
     "name": "stdout",
     "output_type": "stream",
     "text": [
      "0\n"
     ]
    }
   ],
   "source": [
    "l=[12,24,35,43,67,89]\n",
    "print(bisect.bisect_left(l,3))"
   ]
  },
  {
   "cell_type": "code",
   "execution_count": 5,
   "id": "3b9f3240",
   "metadata": {},
   "outputs": [
    {
     "name": "stdout",
     "output_type": "stream",
     "text": [
      "6\n"
     ]
    }
   ],
   "source": [
    "print(bisect.bisect_right(l,99))"
   ]
  },
  {
   "cell_type": "code",
   "execution_count": null,
   "id": "39259234",
   "metadata": {},
   "outputs": [],
   "source": []
  }
 ],
 "metadata": {
  "kernelspec": {
   "display_name": "Python 3 (ipykernel)",
   "language": "python",
   "name": "python3"
  },
  "language_info": {
   "codemirror_mode": {
    "name": "ipython",
    "version": 3
   },
   "file_extension": ".py",
   "mimetype": "text/x-python",
   "name": "python",
   "nbconvert_exporter": "python",
   "pygments_lexer": "ipython3",
   "version": "3.9.12"
  }
 },
 "nbformat": 4,
 "nbformat_minor": 5
}
