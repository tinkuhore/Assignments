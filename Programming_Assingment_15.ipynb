{
 "cells": [
  {
   "cell_type": "markdown",
   "id": "5939bb99",
   "metadata": {},
   "source": [
    "Question 1:\n",
    "Please write a program using generator to print the numbers which can be divisible by 5 and\n",
    "7 between 0 and n in comma separated form while n is input by console.\n",
    "Example:\n",
    "If the following n is given as input to the program:\n",
    "100\n",
    "Then, the output of the program should be:\n",
    "0,35,70\n",
    "\n"
   ]
  },
  {
   "cell_type": "code",
   "execution_count": 6,
   "id": "7c44eec0",
   "metadata": {},
   "outputs": [],
   "source": [
    "def divBy5and7(a,b):\n",
    "    for i in range(a,b+1):\n",
    "        if i%5==0 and i%7==0:\n",
    "            yield i"
   ]
  },
  {
   "cell_type": "code",
   "execution_count": 8,
   "id": "8d79cccc",
   "metadata": {},
   "outputs": [
    {
     "name": "stdout",
     "output_type": "stream",
     "text": [
      "[0, 35, 70]\n"
     ]
    }
   ],
   "source": [
    "print(list(divBy5and7(0,100)))"
   ]
  },
  {
   "cell_type": "markdown",
   "id": "70235e6c",
   "metadata": {},
   "source": [
    "Question 2:\n",
    "Please write a program using generator to print the even numbers between 0 and n in comma\n",
    "separated form while n is input by console.\n",
    "Example:\n",
    "If the following n is given as input to the program:\n",
    "10\n",
    "Then, the output of the program should be:\n",
    "0,2,4,6,8,10\n",
    "\n"
   ]
  },
  {
   "cell_type": "code",
   "execution_count": 9,
   "id": "7aa6d333",
   "metadata": {},
   "outputs": [],
   "source": [
    "def even(a,n):\n",
    "    for i in range(a,n+1):\n",
    "        if i%2==0:\n",
    "            yield i"
   ]
  },
  {
   "cell_type": "code",
   "execution_count": 13,
   "id": "e72296cb",
   "metadata": {},
   "outputs": [
    {
     "name": "stdout",
     "output_type": "stream",
     "text": [
      "0,2,4,6,8,10,"
     ]
    }
   ],
   "source": [
    "a=0\n",
    "n=10\n",
    "for i in list(even(a,n)):\n",
    "    print(i ,end=',')"
   ]
  },
  {
   "cell_type": "markdown",
   "id": "b7b0fce8",
   "metadata": {},
   "source": [
    "Question 3:\n",
    "The Fibonacci Sequence is computed based on the following formula:\n",
    "f(n)=0 if n=0\n",
    "f(n)=1 if n=1\n",
    "f(n)=f(n-1)+f(n-2) if n&gt;1\n",
    "Please write a program using list comprehension to print the Fibonacci Sequence in comma\n",
    "separated form with a given n input by console.\n",
    "Example:\n",
    "If the following n is given as input to the program:\n",
    "7\n",
    "\n",
    "Then, the output of the program should be:\n",
    "0,1,1,2,3,5,8,13\n",
    "\n"
   ]
  },
  {
   "cell_type": "code",
   "execution_count": 20,
   "id": "56313c73",
   "metadata": {},
   "outputs": [],
   "source": [
    "def getFibonacci(n):\n",
    "    a,b=0,1\n",
    "    for i in range(n+1):\n",
    "        yield a\n",
    "        a,b=b,a+b\n",
    "        \n",
    "    "
   ]
  },
  {
   "cell_type": "code",
   "execution_count": 21,
   "id": "e876d6bd",
   "metadata": {},
   "outputs": [
    {
     "name": "stdout",
     "output_type": "stream",
     "text": [
      "[0, 1, 1, 2, 3, 5, 8, 13]\n"
     ]
    }
   ],
   "source": [
    "n=7\n",
    "print(list(getFibonacci(n)))"
   ]
  },
  {
   "cell_type": "markdown",
   "id": "47f1ec3e",
   "metadata": {},
   "source": [
    "Question 4:\n",
    "Assuming that we have some email addresses in the &quot;username@companyname.com&quot; format,\n",
    "please write program to print the user name of a given email address. Both user names and\n",
    "company names are composed of letters only.\n",
    "Example:\n",
    "If the following email address is given as input to the program:\n",
    "john@google.com\n",
    "Then, the output of the program should be:\n",
    "john\n",
    "\n"
   ]
  },
  {
   "cell_type": "code",
   "execution_count": 22,
   "id": "28d3ef83",
   "metadata": {},
   "outputs": [
    {
     "name": "stdout",
     "output_type": "stream",
     "text": [
      "Enter your email in the format username@companyname.com : john@google.com\n",
      "john\n"
     ]
    }
   ],
   "source": [
    "email=input('Enter your email in the format username@companyname.com : ')\n",
    "l=list(email.split('@'))\n",
    "print(l[0])"
   ]
  },
  {
   "cell_type": "markdown",
   "id": "c2503e4d",
   "metadata": {},
   "source": [
    "Question 5:\n",
    "Define a class named Shape and its subclass Square. The Square class has an init function\n",
    "which takes a length as argument. Both classes have a area function which can print the area\n",
    "of the shape where Shape&#39;s area is 0 by default."
   ]
  },
  {
   "cell_type": "code",
   "execution_count": 29,
   "id": "84b977ce",
   "metadata": {},
   "outputs": [],
   "source": [
    "class shape:\n",
    "    \n",
    "    def __init__(self):\n",
    "        pass\n",
    "    \n",
    "    def area(self):\n",
    "        return 0\n",
    "    \n",
    "class square(shape):\n",
    "    \n",
    "    def __init__(self,length=0):\n",
    "        self.length=length\n",
    "            \n",
    "    def area(self):\n",
    "        try:\n",
    "            area=(self.length)**2\n",
    "            print('area of the square with side ',self.length,' = ',area)\n",
    "        except Exception as e:\n",
    "            print(e)"
   ]
  },
  {
   "cell_type": "code",
   "execution_count": 30,
   "id": "435c8be0",
   "metadata": {},
   "outputs": [],
   "source": [
    "square1=square(12)"
   ]
  },
  {
   "cell_type": "code",
   "execution_count": 31,
   "id": "52bfa6ee",
   "metadata": {},
   "outputs": [
    {
     "name": "stdout",
     "output_type": "stream",
     "text": [
      "area of the square with side  12  =  144\n"
     ]
    }
   ],
   "source": [
    "square1.area()"
   ]
  },
  {
   "cell_type": "code",
   "execution_count": 32,
   "id": "eef0f173",
   "metadata": {},
   "outputs": [
    {
     "name": "stdout",
     "output_type": "stream",
     "text": [
      "area of the square with side  0  =  0\n"
     ]
    }
   ],
   "source": [
    "square().area()"
   ]
  },
  {
   "cell_type": "code",
   "execution_count": null,
   "id": "5def7ca7",
   "metadata": {},
   "outputs": [],
   "source": []
  }
 ],
 "metadata": {
  "kernelspec": {
   "display_name": "Python 3 (ipykernel)",
   "language": "python",
   "name": "python3"
  },
  "language_info": {
   "codemirror_mode": {
    "name": "ipython",
    "version": 3
   },
   "file_extension": ".py",
   "mimetype": "text/x-python",
   "name": "python",
   "nbconvert_exporter": "python",
   "pygments_lexer": "ipython3",
   "version": "3.9.12"
  }
 },
 "nbformat": 4,
 "nbformat_minor": 5
}
