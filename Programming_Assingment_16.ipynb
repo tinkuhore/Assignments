{
 "cells": [
  {
   "cell_type": "markdown",
   "id": "474e04bd",
   "metadata": {},
   "source": [
    "Question1. Write a function that stutters a word as if someone is struggling to read it. The first two letters are repeated twice with an ellipsis ... and space after each, and then the word is pronounced with a question mark ?.\n",
    "Examples\n",
    "stutter(&quot;incredible&quot;) ➞ &quot;in... in... incredible?&quot;\n",
    "stutter(&quot;enthusiastic&quot;) ➞ &quot;en... en... enthusiastic?&quot;\n",
    "stutter(&quot;outstanding&quot;) ➞ &quot;ou... ou... outstanding?&quot;\n",
    "\n",
    "Hint :- Assume all input is in lower case and at least two characters long.\n",
    "\n",
    "Question 2.Create a function that takes an angle in radians and returns the corresponding angle in degrees rounded to one decimal place.\n",
    "Examples\n",
    "radians_to_degrees(1) ➞ 57.3\n",
    "radians_to_degrees(20) ➞ 1145.9\n",
    "radians_to_degrees(50) ➞ 2864.8\n",
    "\n",
    "Question 3. In this challenge, establish if a given integer num is a Curzon number. If 1 plus\n",
    "2 elevated to num is exactly divisible by 1 plus 2 multiplied by num, then num is a Curzon\n",
    "number.\n",
    "Given a non-negative integer num, implement a function that returns True if num is a Curzon\n",
    "number, or False otherwise.\n",
    "Examples\n",
    "is_curzon(5) ➞ True\n",
    "2 ** 5 + 1 = 33\n",
    " 2 * 5 + 1 = 11\n",
    " 33 is a multiple of 11\n",
    "is_curzon(10) ➞ False\n",
    " 2 ** 10 + 1 = 1025\n",
    " 2 * 10 + 1 = 21\n",
    " 1025 is not a multiple of 21\n",
    "is_curzon(14) ➞ True\n",
    " 2 ** 14 + 1 = 16385\n",
    " 2 * 14 + 1 = 29\n",
    " 16385 is a multiple of 29\n",
    "\n",
    "Question 4.Given the side length x find the area of a hexagon.\n",
    "\n",
    "Examples\n",
    "area_of_hexagon(1) ➞ 2.6\n",
    "area_of_hexagon(2) ➞ 10.4\n",
    "area_of_hexagon(3) ➞ 23.4\n",
    "\n",
    "Question 5. Create a function that returns a base-2 (binary) representation of a base-10\n",
    "(decimal) string number. To convert is simple: ((2) means base-2 and (10) means base-10)\n",
    "010101001(2) = 1 + 8 + 32 + 128.\n",
    "Going from right to left, the value of the most right bit is 1, now from that every bit to the left\n",
    "will be x2 the value, value of an 8 bit binary numbers are (256, 128, 64, 32, 16, 8, 4, 2, 1).\n",
    "Examples\n",
    "binary(1) ➞ &quot;1&quot;\n",
    " 1*1 = 1\n",
    "binary(5) ➞ &quot;101&quot;\n",
    " 1*1 + 1*4 = 5\n",
    "binary(10) ➞ &quot;1010&quot;\n",
    " 1*2 + 1*8 = 10"
   ]
  },
  {
   "cell_type": "code",
   "execution_count": 1,
   "id": "32711a02",
   "metadata": {},
   "outputs": [],
   "source": [
    "#Q1\n",
    "\n",
    "def sttuter(word):\n",
    "    print((word[0:2]+'...')*2,word,'?')"
   ]
  },
  {
   "cell_type": "code",
   "execution_count": 3,
   "id": "406aef89",
   "metadata": {},
   "outputs": [
    {
     "name": "stdout",
     "output_type": "stream",
     "text": [
      "in...in... incredible ?\n",
      "en...en... enthusiastic ?\n",
      "ou...ou... outstanding ?\n"
     ]
    }
   ],
   "source": [
    "sttuter('incredible')\n",
    "sttuter('enthusiastic')\n",
    "sttuter('outstanding')"
   ]
  },
  {
   "cell_type": "code",
   "execution_count": 17,
   "id": "c79d2344",
   "metadata": {},
   "outputs": [],
   "source": [
    "#Q2\n",
    "from math import pi\n",
    "def radians_to_degrees(rad):\n",
    "    return round((180/pi)*rad,2)"
   ]
  },
  {
   "cell_type": "code",
   "execution_count": 19,
   "id": "95ca0556",
   "metadata": {},
   "outputs": [
    {
     "data": {
      "text/plain": [
       "57.3"
      ]
     },
     "execution_count": 19,
     "metadata": {},
     "output_type": "execute_result"
    }
   ],
   "source": [
    "radians_to_degrees(1)\n"
   ]
  },
  {
   "cell_type": "code",
   "execution_count": 20,
   "id": "80b928b7",
   "metadata": {},
   "outputs": [
    {
     "data": {
      "text/plain": [
       "1145.92"
      ]
     },
     "execution_count": 20,
     "metadata": {},
     "output_type": "execute_result"
    }
   ],
   "source": [
    "radians_to_degrees(20)\n"
   ]
  },
  {
   "cell_type": "code",
   "execution_count": 21,
   "id": "c61e5048",
   "metadata": {},
   "outputs": [
    {
     "data": {
      "text/plain": [
       "2864.79"
      ]
     },
     "execution_count": 21,
     "metadata": {},
     "output_type": "execute_result"
    }
   ],
   "source": [
    "radians_to_degrees(50)"
   ]
  },
  {
   "cell_type": "code",
   "execution_count": 25,
   "id": "03501184",
   "metadata": {},
   "outputs": [],
   "source": [
    "#Q3\n",
    "\n",
    "def isCurzonNumber(n):\n",
    "    try:\n",
    "        if n<0 :\n",
    "            return 'invalid input'\n",
    "        else :\n",
    "            x=2**n + 1\n",
    "            y=2*n + 1\n",
    "            if x%y ==0 :\n",
    "                return True\n",
    "            else:\n",
    "                return False\n",
    "    except Exception as e:\n",
    "        print('this is the error msg :',e)\n"
   ]
  },
  {
   "cell_type": "code",
   "execution_count": 26,
   "id": "b9c6fb0a",
   "metadata": {},
   "outputs": [
    {
     "data": {
      "text/plain": [
       "True"
      ]
     },
     "execution_count": 26,
     "metadata": {},
     "output_type": "execute_result"
    }
   ],
   "source": [
    "isCurzonNumber(5)"
   ]
  },
  {
   "cell_type": "code",
   "execution_count": 27,
   "id": "3320fa1d",
   "metadata": {},
   "outputs": [
    {
     "data": {
      "text/plain": [
       "False"
      ]
     },
     "execution_count": 27,
     "metadata": {},
     "output_type": "execute_result"
    }
   ],
   "source": [
    "isCurzonNumber(7)"
   ]
  },
  {
   "cell_type": "code",
   "execution_count": 28,
   "id": "bd5fa20c",
   "metadata": {},
   "outputs": [
    {
     "data": {
      "text/plain": [
       "True"
      ]
     },
     "execution_count": 28,
     "metadata": {},
     "output_type": "execute_result"
    }
   ],
   "source": [
    "isCurzonNumber(14)"
   ]
  },
  {
   "cell_type": "code",
   "execution_count": 35,
   "id": "451d2d25",
   "metadata": {},
   "outputs": [],
   "source": [
    "#Q4\n",
    "\n",
    "def area_hexagon(side):\n",
    "    '''can find the area of a regular hexagon'''\n",
    "    try:\n",
    "        area= (((3)**(3/2))/2)*(side**2)\n",
    "        return round(area,1)\n",
    "    except Exception as e:\n",
    "        print('this is the error msg:',e)"
   ]
  },
  {
   "cell_type": "code",
   "execution_count": 36,
   "id": "225bb29e",
   "metadata": {},
   "outputs": [
    {
     "data": {
      "text/plain": [
       "2.6"
      ]
     },
     "execution_count": 36,
     "metadata": {},
     "output_type": "execute_result"
    }
   ],
   "source": [
    "area_hexagon(1)"
   ]
  },
  {
   "cell_type": "code",
   "execution_count": 37,
   "id": "91c4fcf1",
   "metadata": {},
   "outputs": [
    {
     "data": {
      "text/plain": [
       "10.4"
      ]
     },
     "execution_count": 37,
     "metadata": {},
     "output_type": "execute_result"
    }
   ],
   "source": [
    "area_hexagon(2)"
   ]
  },
  {
   "cell_type": "code",
   "execution_count": 38,
   "id": "2b9bc0cb",
   "metadata": {},
   "outputs": [
    {
     "data": {
      "text/plain": [
       "23.4"
      ]
     },
     "execution_count": 38,
     "metadata": {},
     "output_type": "execute_result"
    }
   ],
   "source": [
    "area_hexagon(3)"
   ]
  },
  {
   "cell_type": "code",
   "execution_count": 69,
   "id": "f8dbada0",
   "metadata": {},
   "outputs": [],
   "source": [
    "#Q5\n",
    "\n",
    "def binary_to_decimal(n):\n",
    "    '''Enter any binary number to get converted into its decimal form'''\n",
    "    try:\n",
    "        x,decimal=0,0\n",
    "        while n>0:\n",
    "            y=n%10\n",
    "            decimal+= y*(2**x)\n",
    "            n=n//10\n",
    "            x+=1\n",
    "        return decimal\n",
    "    except Exception as e:\n",
    "        print('this is my error msg : ',e)\n",
    "        \n",
    "def decimal_to_binary(n):\n",
    "    try:\n",
    "        l=[]\n",
    "        while n!= 0 :\n",
    "            l.append(n%2)\n",
    "            n=int(n/2)\n",
    "        l.reverse()\n",
    "        for i in l:\n",
    "            print(i,end='')\n",
    "    except Exception as e:\n",
    "        print('this is my error msg : ',e)"
   ]
  },
  {
   "cell_type": "code",
   "execution_count": 70,
   "id": "06588034",
   "metadata": {},
   "outputs": [
    {
     "data": {
      "text/plain": [
       "5"
      ]
     },
     "execution_count": 70,
     "metadata": {},
     "output_type": "execute_result"
    }
   ],
   "source": [
    "binary_to_decimal(101)"
   ]
  },
  {
   "cell_type": "code",
   "execution_count": 71,
   "id": "f6105dd3",
   "metadata": {},
   "outputs": [
    {
     "name": "stdout",
     "output_type": "stream",
     "text": [
      "1010"
     ]
    }
   ],
   "source": [
    "decimal_to_binary(10)"
   ]
  },
  {
   "cell_type": "code",
   "execution_count": 72,
   "id": "072c9246",
   "metadata": {},
   "outputs": [
    {
     "name": "stdout",
     "output_type": "stream",
     "text": [
      "101"
     ]
    }
   ],
   "source": [
    "decimal_to_binary(5)"
   ]
  },
  {
   "cell_type": "code",
   "execution_count": 73,
   "id": "7f5a9d08",
   "metadata": {},
   "outputs": [
    {
     "name": "stdout",
     "output_type": "stream",
     "text": [
      "1"
     ]
    }
   ],
   "source": [
    "decimal_to_binary(1)"
   ]
  },
  {
   "cell_type": "code",
   "execution_count": 77,
   "id": "f0058210",
   "metadata": {},
   "outputs": [
    {
     "data": {
      "text/plain": [
       "43"
      ]
     },
     "execution_count": 77,
     "metadata": {},
     "output_type": "execute_result"
    }
   ],
   "source": [
    "binary_to_decimal(101011)"
   ]
  },
  {
   "cell_type": "code",
   "execution_count": 78,
   "id": "795cd017",
   "metadata": {},
   "outputs": [
    {
     "name": "stdout",
     "output_type": "stream",
     "text": [
      "101011"
     ]
    }
   ],
   "source": [
    "decimal_to_binary(43)"
   ]
  },
  {
   "cell_type": "code",
   "execution_count": null,
   "id": "7307921e",
   "metadata": {},
   "outputs": [],
   "source": []
  }
 ],
 "metadata": {
  "kernelspec": {
   "display_name": "Python 3 (ipykernel)",
   "language": "python",
   "name": "python3"
  },
  "language_info": {
   "codemirror_mode": {
    "name": "ipython",
    "version": 3
   },
   "file_extension": ".py",
   "mimetype": "text/x-python",
   "name": "python",
   "nbconvert_exporter": "python",
   "pygments_lexer": "ipython3",
   "version": "3.9.12"
  }
 },
 "nbformat": 4,
 "nbformat_minor": 5
}
