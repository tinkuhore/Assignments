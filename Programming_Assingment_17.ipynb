{
 "cells": [
  {
   "cell_type": "markdown",
   "id": "2afc1302",
   "metadata": {},
   "source": [
    "# Question1. Create a function that takes three arguments a, b, c and returns the sum of the numbers that are evenly divided by c from the range a, b inclusive.\n",
    "Examples\n",
    "evenly_divisible(1, 10, 20) ➞ 0\n",
    "No number between 1 and 10 can be evenly divided by 20.\n",
    "evenly_divisible(1, 10, 2) ➞ 30\n",
    "2 + 4 + 6 + 8 + 10 = 30\n",
    "evenly_divisible(1, 10, 3) ➞ 18\n",
    "3 + 6 + 9 = 18"
   ]
  },
  {
   "cell_type": "code",
   "execution_count": 3,
   "id": "853a564f",
   "metadata": {},
   "outputs": [],
   "source": [
    "def find_multiple_and_sum(a,b,c):\n",
    "    '''This function returns all the multiples of c in the range of a to b'''\n",
    "    try :\n",
    "        count,sum=0,0\n",
    "        l=[]\n",
    "        \n",
    "        for i in range(a,b+1):\n",
    "            if i%c == 0:\n",
    "                count+=1\n",
    "                l.append(i)\n",
    "                sum+=i\n",
    "        print('number of multiples of ',c,' in between ',a,' and ',b,' are ',count)\n",
    "        if count>0:\n",
    "            \n",
    "            print('All those multiples are : ',l)\n",
    "            print('Sum of all those multiples = ',sum)\n",
    "    except Exception as e:\n",
    "        print('this is my error msg : ',e)"
   ]
  },
  {
   "cell_type": "code",
   "execution_count": 4,
   "id": "acadcfd1",
   "metadata": {},
   "outputs": [
    {
     "name": "stdout",
     "output_type": "stream",
     "text": [
      "number of multiples of  20  in between  1  and  10  are  0\n"
     ]
    }
   ],
   "source": [
    "find_multiple_and_sum(1,10,20)"
   ]
  },
  {
   "cell_type": "code",
   "execution_count": 5,
   "id": "aa4c7f2f",
   "metadata": {},
   "outputs": [
    {
     "name": "stdout",
     "output_type": "stream",
     "text": [
      "number of multiples of  2  in between  1  and  10  are  5\n",
      "All those multiples are :  [2, 4, 6, 8, 10]\n",
      "Sum of all those multiples =  30\n"
     ]
    }
   ],
   "source": [
    "find_multiple_and_sum(1,10,2)"
   ]
  },
  {
   "cell_type": "code",
   "execution_count": 6,
   "id": "32aee079",
   "metadata": {},
   "outputs": [
    {
     "name": "stdout",
     "output_type": "stream",
     "text": [
      "number of multiples of  3  in between  1  and  10  are  3\n",
      "All those multiples are :  [3, 6, 9]\n",
      "Sum of all those multiples =  18\n"
     ]
    }
   ],
   "source": [
    "find_multiple_and_sum(1,10,3)"
   ]
  },
  {
   "cell_type": "markdown",
   "id": "a0337646",
   "metadata": {},
   "source": [
    "# Question2. Create a function that returns True if a given inequality expression is correct and False otherwise.\n",
    "Examples\n",
    "correct_signs(&quot;3 &lt; 7 &lt; 11&quot;) ➞ True\n",
    "correct_signs(&quot;13 &gt; 44 &gt; 33 &gt; 1&quot;) ➞ False\n",
    "correct_signs(&quot;1 &lt; 2 &lt; 6 &lt; 9 &gt; 3&quot;) ➞ True"
   ]
  },
  {
   "cell_type": "code",
   "execution_count": 62,
   "id": "3f9f022c",
   "metadata": {},
   "outputs": [],
   "source": [
    "def check_inequality(s):\n",
    "    '''Check any Inequality Statement : Correct or not'''\n",
    "    try:    \n",
    "        l=list(s.split(' '))\n",
    "        for i in range(0,len(l)-2,2):\n",
    "            if l[i+1]=='>':    \n",
    "                if int(l[i]) < int(l[i+2]) :\n",
    "                    return False\n",
    "            if l[i+1]=='<':\n",
    "                if int(l[i]) > int(l[i+2]):\n",
    "                    return False\n",
    "        return True\n",
    "    except Exception as e:\n",
    "        print('this is my error msg : ',e)"
   ]
  },
  {
   "cell_type": "code",
   "execution_count": 63,
   "id": "b36f2659",
   "metadata": {},
   "outputs": [
    {
     "data": {
      "text/plain": [
       "True"
      ]
     },
     "execution_count": 63,
     "metadata": {},
     "output_type": "execute_result"
    }
   ],
   "source": [
    "check_inequality('1 < 2 < 6 < 9 > 3')"
   ]
  },
  {
   "cell_type": "code",
   "execution_count": 64,
   "id": "05496afc",
   "metadata": {},
   "outputs": [
    {
     "data": {
      "text/plain": [
       "False"
      ]
     },
     "execution_count": 64,
     "metadata": {},
     "output_type": "execute_result"
    }
   ],
   "source": [
    "check_inequality('13 > 44 > 33 > 1')"
   ]
  },
  {
   "cell_type": "code",
   "execution_count": 65,
   "id": "1cb1cc51",
   "metadata": {},
   "outputs": [
    {
     "data": {
      "text/plain": [
       "True"
      ]
     },
     "execution_count": 65,
     "metadata": {},
     "output_type": "execute_result"
    }
   ],
   "source": [
    "check_inequality('3 < 7 < 11')"
   ]
  },
  {
   "cell_type": "code",
   "execution_count": 66,
   "id": "82c59958",
   "metadata": {},
   "outputs": [
    {
     "name": "stdout",
     "output_type": "stream",
     "text": [
      "this is my error msg :  invalid literal for int() with base 10: 'as'\n"
     ]
    }
   ],
   "source": [
    "check_inequality('as > hi < i9u')"
   ]
  },
  {
   "cell_type": "code",
   "execution_count": 67,
   "id": "caff7a61",
   "metadata": {},
   "outputs": [
    {
     "name": "stdout",
     "output_type": "stream",
     "text": [
      "this is my error msg :  invalid literal for int() with base 10: 'ijh'\n"
     ]
    }
   ],
   "source": [
    "check_inequality('21 < 45 > ijh ')"
   ]
  },
  {
   "cell_type": "code",
   "execution_count": 68,
   "id": "db109c8f",
   "metadata": {},
   "outputs": [
    {
     "data": {
      "text/plain": [
       "False"
      ]
     },
     "execution_count": 68,
     "metadata": {},
     "output_type": "execute_result"
    }
   ],
   "source": [
    "check_inequality('2 < 4 > 5')"
   ]
  },
  {
   "cell_type": "markdown",
   "id": "b37299bd",
   "metadata": {},
   "source": [
    "# Question3. Create a function that replaces all the vowels in a string with a specified character.\n",
    "Examples\n",
    "replace_vowels(&quot;the aardvark&quot;, &quot;#&quot;) ➞ &quot;th# ##rdv#rk&quot;\n",
    "replace_vowels(&quot;minnie mouse&quot;, &quot;?&quot;) ➞ &quot;m?nn?? m??s?&quot;\n",
    "replace_vowels(&quot;shakespeare&quot;, &quot;*&quot;) ➞ &quot;sh*k*sp**r*&quot;"
   ]
  },
  {
   "cell_type": "code",
   "execution_count": 97,
   "id": "2aa6ac3d",
   "metadata": {},
   "outputs": [],
   "source": [
    "def replace_vowels(text,character):\n",
    "    '''this function can find and replace all the vowels \n",
    "    in your provided text with the character given by you'''\n",
    "    try:\n",
    "        print('Your original text : ',text)\n",
    "        l=['a','e','i','o','u','A','E','I','O','U']\n",
    "        for i in range(len(text)):\n",
    "            if text[i] in l:\n",
    "                text=text[:i]+character+text[i+1:]\n",
    "        return 'After replacement : '+text    \n",
    "                \n",
    "    except Exception as e:\n",
    "        print('thiss is my error msg : ',e)"
   ]
  },
  {
   "cell_type": "code",
   "execution_count": 98,
   "id": "55ae583c",
   "metadata": {},
   "outputs": [
    {
     "name": "stdout",
     "output_type": "stream",
     "text": [
      "Your original text :  the aardvark\n"
     ]
    },
    {
     "data": {
      "text/plain": [
       "'After replacement : th# ##rdv#rk'"
      ]
     },
     "execution_count": 98,
     "metadata": {},
     "output_type": "execute_result"
    }
   ],
   "source": [
    "replace_vowels('the aardvark','#')"
   ]
  },
  {
   "cell_type": "code",
   "execution_count": 99,
   "id": "4d6ab568",
   "metadata": {},
   "outputs": [
    {
     "name": "stdout",
     "output_type": "stream",
     "text": [
      "Your original text :  minnie mouse\n"
     ]
    },
    {
     "data": {
      "text/plain": [
       "'After replacement : m?nn?? m??s?'"
      ]
     },
     "execution_count": 99,
     "metadata": {},
     "output_type": "execute_result"
    }
   ],
   "source": [
    "replace_vowels('minnie mouse','?')"
   ]
  },
  {
   "cell_type": "code",
   "execution_count": 100,
   "id": "56f2506e",
   "metadata": {},
   "outputs": [
    {
     "name": "stdout",
     "output_type": "stream",
     "text": [
      "Your original text :  shakespeare\n"
     ]
    },
    {
     "data": {
      "text/plain": [
       "'After replacement : sh*k*sp**r*'"
      ]
     },
     "execution_count": 100,
     "metadata": {},
     "output_type": "execute_result"
    }
   ],
   "source": [
    "replace_vowels('shakespeare','*')"
   ]
  },
  {
   "cell_type": "markdown",
   "id": "af068c88",
   "metadata": {},
   "source": [
    "# Question4. Write a function that calculates the factorial of a number recursively.\n",
    "Examples\n",
    "factorial(5) ➞ 120\n",
    "factorial(3) ➞ 6\n",
    "factorial(1) ➞ 1\n",
    "factorial(0) ➞ 1"
   ]
  },
  {
   "cell_type": "code",
   "execution_count": 106,
   "id": "31fd6627",
   "metadata": {},
   "outputs": [],
   "source": [
    "def factorial(n):\n",
    "    if n<=1:\n",
    "        return 1\n",
    "    if n>1:\n",
    "        return n*factorial(n-1)"
   ]
  },
  {
   "cell_type": "code",
   "execution_count": 107,
   "id": "81796b65",
   "metadata": {},
   "outputs": [
    {
     "data": {
      "text/plain": [
       "6"
      ]
     },
     "execution_count": 107,
     "metadata": {},
     "output_type": "execute_result"
    }
   ],
   "source": [
    "factorial(3)"
   ]
  },
  {
   "cell_type": "code",
   "execution_count": 108,
   "id": "1be4b5e6",
   "metadata": {},
   "outputs": [
    {
     "data": {
      "text/plain": [
       "1"
      ]
     },
     "execution_count": 108,
     "metadata": {},
     "output_type": "execute_result"
    }
   ],
   "source": [
    "factorial(1)"
   ]
  },
  {
   "cell_type": "code",
   "execution_count": 109,
   "id": "1604bdd2",
   "metadata": {},
   "outputs": [
    {
     "data": {
      "text/plain": [
       "120"
      ]
     },
     "execution_count": 109,
     "metadata": {},
     "output_type": "execute_result"
    }
   ],
   "source": [
    "factorial(5)"
   ]
  },
  {
   "cell_type": "code",
   "execution_count": 110,
   "id": "3e63677a",
   "metadata": {},
   "outputs": [
    {
     "data": {
      "text/plain": [
       "1"
      ]
     },
     "execution_count": 110,
     "metadata": {},
     "output_type": "execute_result"
    }
   ],
   "source": [
    "factorial(0)"
   ]
  },
  {
   "cell_type": "markdown",
   "id": "3623e39a",
   "metadata": {},
   "source": [
    "# Question 5\n",
    "Hamming distance is the number of characters that differ between two strings.\n",
    "To illustrate:\n",
    "String1: &quot;abcbba&quot;\n",
    "String2: &quot;abcbda&quot;\n",
    "Hamming Distance: 1 - &quot;b&quot; vs. &quot;d&quot; is the only difference.\n",
    "Create a function that computes the hamming distance between two strings.\n",
    "Examples\n",
    "hamming_distance(&quot;abcde&quot;, &quot;bcdef&quot;) ➞ 5\n",
    "hamming_distance(&quot;abcde&quot;, &quot;abcde&quot;) ➞ 0\n",
    "hamming_distance(&quot;strong&quot;, &quot;strung&quot;) ➞ 1"
   ]
  },
  {
   "cell_type": "code",
   "execution_count": 113,
   "id": "fbcb13e8",
   "metadata": {},
   "outputs": [],
   "source": [
    "def hamming_distance(s1,s2):\n",
    "    try: \n",
    "        count=0\n",
    "        if len(s1)!=len(s2):\n",
    "            return 'Length of two strings is not same.'\n",
    "        else :\n",
    "            for i in range(len(s1)):\n",
    "                if s1[i]!=s2[i]:\n",
    "                    count+=1\n",
    "        return 'Hamming Distance = '+str(count)\n",
    "    except Exception as e:\n",
    "        print('this is the error msg : ',e)"
   ]
  },
  {
   "cell_type": "code",
   "execution_count": 114,
   "id": "da5d1e8d",
   "metadata": {},
   "outputs": [
    {
     "data": {
      "text/plain": [
       "'Hamming Distance = 0'"
      ]
     },
     "execution_count": 114,
     "metadata": {},
     "output_type": "execute_result"
    }
   ],
   "source": [
    "hamming_distance(\"abcde\", \"abcde\")"
   ]
  },
  {
   "cell_type": "code",
   "execution_count": 115,
   "id": "dfa6216d",
   "metadata": {},
   "outputs": [
    {
     "data": {
      "text/plain": [
       "'Hamming Distance = 1'"
      ]
     },
     "execution_count": 115,
     "metadata": {},
     "output_type": "execute_result"
    }
   ],
   "source": [
    "hamming_distance(\"strong\", \"strung\")"
   ]
  },
  {
   "cell_type": "code",
   "execution_count": 116,
   "id": "165297cb",
   "metadata": {},
   "outputs": [
    {
     "data": {
      "text/plain": [
       "'Hamming Distance = 5'"
      ]
     },
     "execution_count": 116,
     "metadata": {},
     "output_type": "execute_result"
    }
   ],
   "source": [
    "hamming_distance(\"abcde\", \"bcdef\")"
   ]
  },
  {
   "cell_type": "code",
   "execution_count": null,
   "id": "24cd9b96",
   "metadata": {},
   "outputs": [],
   "source": []
  }
 ],
 "metadata": {
  "kernelspec": {
   "display_name": "Python 3 (ipykernel)",
   "language": "python",
   "name": "python3"
  },
  "language_info": {
   "codemirror_mode": {
    "name": "ipython",
    "version": 3
   },
   "file_extension": ".py",
   "mimetype": "text/x-python",
   "name": "python",
   "nbconvert_exporter": "python",
   "pygments_lexer": "ipython3",
   "version": "3.9.12"
  }
 },
 "nbformat": 4,
 "nbformat_minor": 5
}
