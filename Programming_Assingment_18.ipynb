{
 "cells": [
  {
   "cell_type": "markdown",
   "id": "8a366d60",
   "metadata": {},
   "source": [
    "# Question 1\n",
    "Create a function that takes a list of non-negative integers and strings and return a new list without the strings.\n",
    "Examples\n",
    "filter_list([1, 2, &quot;a&quot;, &quot;b&quot;]) ➞ [1, 2]\n",
    "filter_list([1, &quot;a&quot;, &quot;b&quot;, 0, 15]) ➞ [1, 0, 15]\n",
    "filter_list([1, 2, &quot;aasf&quot;, &quot;1&quot;, &quot;123&quot;, 123]) ➞ [1, 2, 123]"
   ]
  },
  {
   "cell_type": "code",
   "execution_count": 3,
   "id": "76c86b9b",
   "metadata": {},
   "outputs": [],
   "source": [
    "def filter_list(l):\n",
    "    '''Eliminate any string elements from a list'''\n",
    "    try: \n",
    "        i=0\n",
    "        while i<len(l):\n",
    "            if type(l[i])==int:\n",
    "                i+=1\n",
    "            else:\n",
    "                l.remove(l[i])\n",
    "        return l\n",
    "    except Exception as e:\n",
    "        print('this is the error msg : ',e)"
   ]
  },
  {
   "cell_type": "code",
   "execution_count": 4,
   "id": "7df8dfe4",
   "metadata": {},
   "outputs": [
    {
     "data": {
      "text/plain": [
       "[1, 2]"
      ]
     },
     "execution_count": 4,
     "metadata": {},
     "output_type": "execute_result"
    }
   ],
   "source": [
    "filter_list([1, 2, \"a\", \"b\"])"
   ]
  },
  {
   "cell_type": "code",
   "execution_count": 5,
   "id": "001902b0",
   "metadata": {},
   "outputs": [
    {
     "data": {
      "text/plain": [
       "[1, 0, 15]"
      ]
     },
     "execution_count": 5,
     "metadata": {},
     "output_type": "execute_result"
    }
   ],
   "source": [
    "filter_list([1, \"a\", \"b\", 0, 15])"
   ]
  },
  {
   "cell_type": "code",
   "execution_count": 6,
   "id": "cc9f7d39",
   "metadata": {},
   "outputs": [
    {
     "data": {
      "text/plain": [
       "[1, 2, 123]"
      ]
     },
     "execution_count": 6,
     "metadata": {},
     "output_type": "execute_result"
    }
   ],
   "source": [
    "filter_list([1, 2, \"aasf\", \"1\", \"123\", 123])"
   ]
  },
  {
   "cell_type": "markdown",
   "id": "effa664a",
   "metadata": {},
   "source": [
    "# Question 2\n",
    "The &quot;Reverser&quot; takes a string as input and returns that string in reverse order, with the opposite case.\n",
    "Examples\n",
    "reverse(&quot;Hello World&quot;) ➞ &quot;DLROw OLLEh&quot;\n",
    "reverse(&quot;ReVeRsE&quot;) ➞ &quot;eSrEvEr&quot;\n",
    "reverse(&quot;Radar&quot;) ➞ &quot;RADAr&quot;"
   ]
  },
  {
   "cell_type": "code",
   "execution_count": 24,
   "id": "77f77216",
   "metadata": {},
   "outputs": [],
   "source": [
    "def reverser(string):\n",
    "    try:\n",
    "        s=string.swapcase()\n",
    "        l=list(s)\n",
    "        l.reverse()\n",
    "        for i in l:\n",
    "            print(i,end='')\n",
    "    except Exception as e:\n",
    "        print('this is the error msg : ',e)"
   ]
  },
  {
   "cell_type": "code",
   "execution_count": 25,
   "id": "cc926eee",
   "metadata": {},
   "outputs": [
    {
     "name": "stdout",
     "output_type": "stream",
     "text": [
      "DLROw OLLEh"
     ]
    }
   ],
   "source": [
    "reverser(\"Hello World\") "
   ]
  },
  {
   "cell_type": "code",
   "execution_count": 26,
   "id": "584cc69d",
   "metadata": {},
   "outputs": [
    {
     "name": "stdout",
     "output_type": "stream",
     "text": [
      "eSrEvEr"
     ]
    }
   ],
   "source": [
    "reverser(\"ReVeRsE\")"
   ]
  },
  {
   "cell_type": "code",
   "execution_count": 28,
   "id": "3df92df0",
   "metadata": {},
   "outputs": [
    {
     "name": "stdout",
     "output_type": "stream",
     "text": [
      "RADAr"
     ]
    }
   ],
   "source": [
    "reverser(\"Radar\")"
   ]
  },
  {
   "cell_type": "markdown",
   "id": "fc21d082",
   "metadata": {},
   "source": [
    "# Question 3\n",
    "You can assign variables from lists like this:\n",
    "lst = [1, 2, 3, 4, 5, 6]\n",
    "first = lst[0]\n",
    "middle = lst[1:-1]\n",
    "last = lst[-1]\n",
    "print(first) ➞ outputs 1\n",
    "print(middle) ➞ outputs [2, 3, 4, 5]\n",
    "print(last) ➞ outputs 6\n",
    "With Python 3, you can assign variables from lists in a much more succinct way. Create\n",
    "variables first, middle and last from the given list using destructuring assignment\n",
    "(check the Resources tab for some examples), where:\n",
    "first ➞ 1\n",
    "middle ➞ [2, 3, 4, 5]\n",
    "last ➞ 6"
   ]
  },
  {
   "cell_type": "code",
   "execution_count": 32,
   "id": "f57886e3",
   "metadata": {},
   "outputs": [],
   "source": [
    "def list_comprehension(l):\n",
    "    print('First = ',l[0])\n",
    "    print('Middle = ', l[1:-1])\n",
    "    print('Last = ',l[-1])"
   ]
  },
  {
   "cell_type": "code",
   "execution_count": 33,
   "id": "b9e16b76",
   "metadata": {},
   "outputs": [
    {
     "name": "stdout",
     "output_type": "stream",
     "text": [
      "First =  1\n",
      "Middle =  [2, 3, 4, 5]\n",
      "Last =  6\n"
     ]
    }
   ],
   "source": [
    "list_comprehension( [1, 2, 3, 4, 5, 6] )"
   ]
  },
  {
   "cell_type": "code",
   "execution_count": null,
   "id": "ab82a0a1",
   "metadata": {},
   "outputs": [],
   "source": []
  }
 ],
 "metadata": {
  "kernelspec": {
   "display_name": "Python 3 (ipykernel)",
   "language": "python",
   "name": "python3"
  },
  "language_info": {
   "codemirror_mode": {
    "name": "ipython",
    "version": 3
   },
   "file_extension": ".py",
   "mimetype": "text/x-python",
   "name": "python",
   "nbconvert_exporter": "python",
   "pygments_lexer": "ipython3",
   "version": "3.9.12"
  }
 },
 "nbformat": 4,
 "nbformat_minor": 5
}
