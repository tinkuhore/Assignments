{
 "cells": [
  {
   "cell_type": "markdown",
   "id": "545b8a10",
   "metadata": {},
   "source": [
    "# Question 1\n",
    "Create a function that takes a number as an argument and returns True or False depending\n",
    "on whether the number is symmetrical or not. A number is symmetrical when it is the same as\n",
    "its reverse.\n",
    "\n",
    "Examples\n",
    "\n",
    "is_symmetrical(7227) ➞ True\n",
    "\n",
    "is_symmetrical(12567) ➞ False\n",
    "\n",
    "is_symmetrical(44444444) ➞ True\n",
    "\n",
    "is_symmetrical(9939) ➞ False\n",
    "\n",
    "is_symmetrical(1112111) ➞ True"
   ]
  },
  {
   "cell_type": "code",
   "execution_count": 2,
   "id": "c8b6d7af",
   "metadata": {},
   "outputs": [],
   "source": [
    "def is_symmetrical(n):\n",
    "    '''takes a number as an argument and returns True or False depending on \n",
    "    whether the number is symmetrical or not.'''\n",
    "    try:\n",
    "        s=str(n)\n",
    "        x=int(s[::-1])\n",
    "        if x==n:\n",
    "            return True\n",
    "        else:\n",
    "            return False\n",
    "    except Exception as e:\n",
    "        print('Error msg : ',e)"
   ]
  },
  {
   "cell_type": "code",
   "execution_count": 3,
   "id": "bb673d3b",
   "metadata": {},
   "outputs": [
    {
     "data": {
      "text/plain": [
       "True"
      ]
     },
     "execution_count": 3,
     "metadata": {},
     "output_type": "execute_result"
    }
   ],
   "source": [
    "is_symmetrical(7227)"
   ]
  },
  {
   "cell_type": "code",
   "execution_count": 4,
   "id": "9b968752",
   "metadata": {},
   "outputs": [
    {
     "data": {
      "text/plain": [
       "False"
      ]
     },
     "execution_count": 4,
     "metadata": {},
     "output_type": "execute_result"
    }
   ],
   "source": [
    "is_symmetrical(12567)"
   ]
  },
  {
   "cell_type": "code",
   "execution_count": 5,
   "id": "09cfe2eb",
   "metadata": {},
   "outputs": [
    {
     "data": {
      "text/plain": [
       "True"
      ]
     },
     "execution_count": 5,
     "metadata": {},
     "output_type": "execute_result"
    }
   ],
   "source": [
    "is_symmetrical(44444444)"
   ]
  },
  {
   "cell_type": "code",
   "execution_count": 6,
   "id": "88d9febb",
   "metadata": {},
   "outputs": [
    {
     "data": {
      "text/plain": [
       "False"
      ]
     },
     "execution_count": 6,
     "metadata": {},
     "output_type": "execute_result"
    }
   ],
   "source": [
    "is_symmetrical(9939)"
   ]
  },
  {
   "cell_type": "code",
   "execution_count": 7,
   "id": "31863d1d",
   "metadata": {},
   "outputs": [
    {
     "data": {
      "text/plain": [
       "True"
      ]
     },
     "execution_count": 7,
     "metadata": {},
     "output_type": "execute_result"
    }
   ],
   "source": [
    "is_symmetrical(1112111)"
   ]
  },
  {
   "cell_type": "markdown",
   "id": "92da9684",
   "metadata": {},
   "source": [
    "# Question 2\n",
    "Given a string of numbers separated by a comma and space, return the product of the\n",
    "numbers.\n",
    "\n",
    "Examples\n",
    "\n",
    "multiply_nums(&quot;2, 3&quot;) ➞ 6\n",
    "\n",
    "multiply_nums(&quot;1, 2, 3, 4&quot;) ➞ 24\n",
    "\n",
    "multiply_nums(&quot;54, 75, 453, 0&quot;) ➞ 0\n",
    "\n",
    "multiply_nums(&quot;10, -2&quot;) ➞ -20# "
   ]
  },
  {
   "cell_type": "code",
   "execution_count": 11,
   "id": "8d323ea1",
   "metadata": {},
   "outputs": [],
   "source": [
    "def multiply_nums(s):\n",
    "    '''Given a string of numbers separated by a comma and space, \n",
    "    return the product of the numbers.'''\n",
    "    try:\n",
    "        l=list(s.split(','))\n",
    "        product=1\n",
    "        for i in l:\n",
    "            product *= int(i)\n",
    "        return product\n",
    "    except Exception as e:\n",
    "        print('Error msg : ',e)"
   ]
  },
  {
   "cell_type": "code",
   "execution_count": 12,
   "id": "42071bff",
   "metadata": {},
   "outputs": [
    {
     "data": {
      "text/plain": [
       "6"
      ]
     },
     "execution_count": 12,
     "metadata": {},
     "output_type": "execute_result"
    }
   ],
   "source": [
    "multiply_nums(\"2, 3\") "
   ]
  },
  {
   "cell_type": "code",
   "execution_count": 13,
   "id": "6e9818ba",
   "metadata": {},
   "outputs": [
    {
     "data": {
      "text/plain": [
       "24"
      ]
     },
     "execution_count": 13,
     "metadata": {},
     "output_type": "execute_result"
    }
   ],
   "source": [
    "multiply_nums(\"1, 2, 3, 4\") "
   ]
  },
  {
   "cell_type": "code",
   "execution_count": 14,
   "id": "62199129",
   "metadata": {},
   "outputs": [
    {
     "data": {
      "text/plain": [
       "0"
      ]
     },
     "execution_count": 14,
     "metadata": {},
     "output_type": "execute_result"
    }
   ],
   "source": [
    "multiply_nums(\"54, 75, 453, 0\") "
   ]
  },
  {
   "cell_type": "code",
   "execution_count": 15,
   "id": "d3daa238",
   "metadata": {},
   "outputs": [
    {
     "data": {
      "text/plain": [
       "-20"
      ]
     },
     "execution_count": 15,
     "metadata": {},
     "output_type": "execute_result"
    }
   ],
   "source": [
    "multiply_nums(\"10, -2\")"
   ]
  },
  {
   "cell_type": "markdown",
   "id": "c2c98e41",
   "metadata": {},
   "source": [
    "# Question 3\n",
    "Create a function that squares every digit of a number.\n",
    "\n",
    "Examples\n",
    "\n",
    "square_digits(9119) ➞ 811181\n",
    "\n",
    "square_digits(2483) ➞ 416649\n",
    "\n",
    "square_digits(3212) ➞ 9414\n",
    "\n",
    "Notes\n",
    "\n",
    "The function receives an integer and must return an integer."
   ]
  },
  {
   "cell_type": "code",
   "execution_count": 22,
   "id": "a548b0e4",
   "metadata": {},
   "outputs": [],
   "source": [
    "def square_digits(n):\n",
    "    try:\n",
    "        result=''\n",
    "        while n>0:\n",
    "            r=n%10\n",
    "            result= str(r**2)+result\n",
    "            n=n//10\n",
    "        return int(result)\n",
    "    except Exception as e:\n",
    "        print('Error msg : ',e)"
   ]
  },
  {
   "cell_type": "code",
   "execution_count": 23,
   "id": "726b55a6",
   "metadata": {},
   "outputs": [
    {
     "data": {
      "text/plain": [
       "811181"
      ]
     },
     "execution_count": 23,
     "metadata": {},
     "output_type": "execute_result"
    }
   ],
   "source": [
    "square_digits(9119)"
   ]
  },
  {
   "cell_type": "code",
   "execution_count": 24,
   "id": "feabbe64",
   "metadata": {},
   "outputs": [
    {
     "data": {
      "text/plain": [
       "416649"
      ]
     },
     "execution_count": 24,
     "metadata": {},
     "output_type": "execute_result"
    }
   ],
   "source": [
    "square_digits(2483)"
   ]
  },
  {
   "cell_type": "code",
   "execution_count": 25,
   "id": "d860059a",
   "metadata": {},
   "outputs": [
    {
     "data": {
      "text/plain": [
       "9414"
      ]
     },
     "execution_count": 25,
     "metadata": {},
     "output_type": "execute_result"
    }
   ],
   "source": [
    "square_digits(3212)"
   ]
  },
  {
   "cell_type": "markdown",
   "id": "d02ad15d",
   "metadata": {},
   "source": [
    "# Question 4\n",
    "Create a function that sorts a list and removes all duplicate items from it.\n",
    "\n",
    "Examples\n",
    "\n",
    "setify([1, 3, 3, 5, 5]) ➞ [1, 3, 5]\n",
    "\n",
    "setify([4, 4, 4, 4]) ➞ [4]\n",
    "\n",
    "setify([5, 7, 8, 9, 10, 15]) ➞ [5, 7, 8, 9, 10, 15]\n",
    "\n",
    "setify([3, 3, 3, 2, 1]) ➞ [1, 2, 3]"
   ]
  },
  {
   "cell_type": "code",
   "execution_count": 26,
   "id": "e824e7cc",
   "metadata": {},
   "outputs": [],
   "source": [
    "def setify(l):\n",
    "    try:\n",
    "        s=set(l)\n",
    "        l=list(s)\n",
    "        l.sort()\n",
    "        return l\n",
    "    except Exception as e:\n",
    "        print('Error msg : ',e)"
   ]
  },
  {
   "cell_type": "code",
   "execution_count": 27,
   "id": "1759477e",
   "metadata": {},
   "outputs": [
    {
     "data": {
      "text/plain": [
       "[1, 3, 5]"
      ]
     },
     "execution_count": 27,
     "metadata": {},
     "output_type": "execute_result"
    }
   ],
   "source": [
    "setify([1, 3, 3, 5, 5])"
   ]
  },
  {
   "cell_type": "code",
   "execution_count": 28,
   "id": "21019406",
   "metadata": {},
   "outputs": [
    {
     "data": {
      "text/plain": [
       "[4]"
      ]
     },
     "execution_count": 28,
     "metadata": {},
     "output_type": "execute_result"
    }
   ],
   "source": [
    "setify([4, 4, 4, 4])"
   ]
  },
  {
   "cell_type": "code",
   "execution_count": 29,
   "id": "7407c433",
   "metadata": {},
   "outputs": [
    {
     "data": {
      "text/plain": [
       "[5, 7, 8, 9, 10, 15]"
      ]
     },
     "execution_count": 29,
     "metadata": {},
     "output_type": "execute_result"
    }
   ],
   "source": [
    "setify([5, 7, 8, 9, 10, 15])"
   ]
  },
  {
   "cell_type": "code",
   "execution_count": 30,
   "id": "28db7bdc",
   "metadata": {},
   "outputs": [
    {
     "data": {
      "text/plain": [
       "[1, 2, 3]"
      ]
     },
     "execution_count": 30,
     "metadata": {},
     "output_type": "execute_result"
    }
   ],
   "source": [
    "setify([3, 3, 3, 2, 1])"
   ]
  },
  {
   "cell_type": "markdown",
   "id": "a0e4ba6f",
   "metadata": {},
   "source": [
    "# Question 5\n",
    "Create a function that returns the mean of all digits.\n",
    "\n",
    "Examples\n",
    "\n",
    "mean(42) ➞ 3\n",
    "\n",
    "mean(12345) ➞ 3\n",
    "\n",
    "mean(666) ➞ 6\n",
    "\n",
    "Notes\n",
    "\n",
    " The mean of all digits is the sum of digits / how many digits there are (e.g. mean of digits in\n",
    "512 is (5+1+2)/3(number of digits) = 8/3=2).\n",
    "\n",
    " The mean will always be an integer."
   ]
  },
  {
   "cell_type": "code",
   "execution_count": null,
   "id": "acfde235",
   "metadata": {},
   "outputs": [],
   "source": [
    "def mean(n):\n",
    "    '''returns the mean of all digits.'''\n",
    "    try:\n",
    "        l=list(str(n))\n",
    "        sum=0\n",
    "        for i in l:\n",
    "            sum \n",
    "    except Exception as e:\n",
    "        print('Error msg : ',e)"
   ]
  },
  {
   "cell_type": "code",
   "execution_count": null,
   "id": "ef9cfc72",
   "metadata": {},
   "outputs": [],
   "source": []
  }
 ],
 "metadata": {
  "kernelspec": {
   "display_name": "Python 3 (ipykernel)",
   "language": "python",
   "name": "python3"
  },
  "language_info": {
   "codemirror_mode": {
    "name": "ipython",
    "version": 3
   },
   "file_extension": ".py",
   "mimetype": "text/x-python",
   "name": "python",
   "nbconvert_exporter": "python",
   "pygments_lexer": "ipython3",
   "version": "3.9.12"
  }
 },
 "nbformat": 4,
 "nbformat_minor": 5
}
