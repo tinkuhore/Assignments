{
 "cells": [
  {
   "cell_type": "code",
   "execution_count": null,
   "id": "1cdb7974",
   "metadata": {},
   "outputs": [],
   "source": [
    "Todays task :\n",
    "    q1 : Try to print a prime number in between 1 to 1000\n",
    "    q2 : Try to write a function which  is equivalent  to print function in python\n",
    "    q3 : Try to write a function which is a replica of list append , extend and pop function \n",
    "    q4 : Try to write a lambda function which can return a concatination of all the string that we will pass\n",
    "    q5 : Try to write a lambda function which can return list of square of all the data between 1-100 \n",
    "    q6 : Try to write a 10 Different different example of lambda function with a choice of your taks \n",
    "    q7 : Try to wwrite a funtion whihc can perform a read operation from .txt file \n",
    "        \n",
    "        shivan@ineuron.ai\n",
    "        sudhashu@ineuron.ai"
   ]
  },
  {
   "cell_type": "code",
   "execution_count": 8,
   "id": "5735a995",
   "metadata": {},
   "outputs": [
    {
     "name": "stdout",
     "output_type": "stream",
     "text": [
      "\n",
      "List of all Prime numbers less than 1000 :\n",
      "\n",
      " [2, 3, 5, 7, 11, 13, 17, 19, 23, 29, 31, 37, 41, 43, 47, 53, 59, 61, 67, 71, 73, 79, 83, 89, 97, 101, 103, 107, 109, 113, 127, 131, 137, 139, 149, 151, 157, 163, 167, 173, 179, 181, 191, 193, 197, 199, 211, 223, 227, 229, 233, 239, 241, 251, 257, 263, 269, 271, 277, 281, 283, 293, 307, 311, 313, 317, 331, 337, 347, 349, 353, 359, 367, 373, 379, 383, 389, 397, 401, 409, 419, 421, 431, 433, 439, 443, 449, 457, 461, 463, 467, 479, 487, 491, 499, 503, 509, 521, 523, 541, 547, 557, 563, 569, 571, 577, 587, 593, 599, 601, 607, 613, 617, 619, 631, 641, 643, 647, 653, 659, 661, 673, 677, 683, 691, 701, 709, 719, 727, 733, 739, 743, 751, 757, 761, 769, 773, 787, 797, 809, 811, 821, 823, 827, 829, 839, 853, 857, 859, 863, 877, 881, 883, 887, 907, 911, 919, 929, 937, 941, 947, 953, 967, 971, 977, 983, 991, 997]\n"
     ]
    }
   ],
   "source": [
    "#Q1\n",
    "l_prime=[]\n",
    "a=2\n",
    "while a <= 1000 :\n",
    "    flag=False\n",
    "    for i in range(2,a):\n",
    "        if a%i == 0 :\n",
    "            flag= True\n",
    "            #break\n",
    "    if flag == False :\n",
    "        l_prime.append(a)\n",
    "    a+=1\n",
    "    \n",
    "print('\\nList of all Prime numbers less than 1000 :\\n\\n',l_prime)\n",
    "        "
   ]
  },
  {
   "cell_type": "code",
   "execution_count": 29,
   "id": "d892117b",
   "metadata": {},
   "outputs": [],
   "source": [
    "#Q2\n",
    "def Print(*a) :\n",
    "    p=''\n",
    "    for i in a:\n",
    "        p=p+str(i)\n",
    "        \n",
    "    return p"
   ]
  },
  {
   "cell_type": "code",
   "execution_count": 33,
   "id": "75c1841e",
   "metadata": {},
   "outputs": [
    {
     "data": {
      "text/plain": [
       "'My phone number is 9614929765 .\\n'"
      ]
     },
     "execution_count": 33,
     "metadata": {},
     "output_type": "execute_result"
    }
   ],
   "source": [
    "no=9614929765\n",
    "Print('My phone number is ',no ,' .')"
   ]
  },
  {
   "cell_type": "code",
   "execution_count": 79,
   "id": "38d6196f",
   "metadata": {},
   "outputs": [],
   "source": [
    "#Q3\n",
    "def list_append(l,e):\n",
    "    '''l= Enter a list first and e= the element you want to append'''\n",
    "    l=l+[e]\n",
    "    return l\n",
    "\n",
    "def list_extend(l,s):\n",
    "    '''l= Enter the list and s= the string you want to extend inside the list'''\n",
    "    for i in range(len(s)):\n",
    "        l+=s[i]\n",
    "    return l\n",
    "\n",
    "def list_pop(l,i):\n",
    "    '''Enter the list and index of the element that you want to remove'''\n",
    "    remove=l[i]\n",
    "    l=l[:i]+l[i+1:]\n",
    "    return remove,l\n",
    "    "
   ]
  },
  {
   "cell_type": "code",
   "execution_count": 80,
   "id": "7b05e000",
   "metadata": {},
   "outputs": [
    {
     "name": "stdout",
     "output_type": "stream",
     "text": [
      "[0, 1, 2, 3, 4, 5, 6, 7, 8, 9]\n"
     ]
    }
   ],
   "source": [
    "l2=[]\n",
    "for i in range(10):\n",
    "    l2=list_append(l2,i)\n",
    "print(l2)"
   ]
  },
  {
   "cell_type": "code",
   "execution_count": 81,
   "id": "dcab9a41",
   "metadata": {},
   "outputs": [
    {
     "data": {
      "text/plain": [
       "[0, 1, 2, 3, 4, 5, 6, 7, 8, 9, 'I', 'N', 'D', 'I', 'A']"
      ]
     },
     "execution_count": 81,
     "metadata": {},
     "output_type": "execute_result"
    }
   ],
   "source": [
    "list_extend(l2,'INDIA')"
   ]
  },
  {
   "cell_type": "code",
   "execution_count": 82,
   "id": "76cc5d81",
   "metadata": {},
   "outputs": [
    {
     "data": {
      "text/plain": [
       "('I', [0, 1, 2, 3, 4, 5, 6, 7, 8, 9, 'N', 'D', 'I', 'A'])"
      ]
     },
     "execution_count": 82,
     "metadata": {},
     "output_type": "execute_result"
    }
   ],
   "source": [
    "list_pop(l2,10)"
   ]
  },
  {
   "cell_type": "code",
   "execution_count": 96,
   "id": "e67d268e",
   "metadata": {},
   "outputs": [],
   "source": [
    "#Q4\n",
    " \n",
    "def concatenate_str(*a):\n",
    "    s=''\n",
    "    for i in a :\n",
    "        s+=  str(i)+' '\n",
    "    return s"
   ]
  },
  {
   "cell_type": "code",
   "execution_count": 98,
   "id": "c5029779",
   "metadata": {},
   "outputs": [
    {
     "data": {
      "text/plain": [
       "'my name is tinku hore '"
      ]
     },
     "execution_count": 98,
     "metadata": {},
     "output_type": "execute_result"
    }
   ],
   "source": [
    "concatenate_str('my','name','is','tinku','hore')"
   ]
  },
  {
   "cell_type": "code",
   "execution_count": 114,
   "id": "e4471043",
   "metadata": {},
   "outputs": [
    {
     "data": {
      "text/plain": [
       "['my ', 'name ', 'is ', 'tinku ', 'hore ']"
      ]
     },
     "execution_count": 114,
     "metadata": {},
     "output_type": "execute_result"
    }
   ],
   "source": [
    "a= lambda *a :[str(i)+' ' for i in a]\n",
    "a('my','name','is','tinku','hore')"
   ]
  },
  {
   "cell_type": "code",
   "execution_count": 115,
   "id": "a5e84584",
   "metadata": {},
   "outputs": [
    {
     "data": {
      "text/plain": [
       "[1,\n",
       " 4,\n",
       " 9,\n",
       " 16,\n",
       " 25,\n",
       " 36,\n",
       " 49,\n",
       " 64,\n",
       " 81,\n",
       " 100,\n",
       " 121,\n",
       " 144,\n",
       " 169,\n",
       " 196,\n",
       " 225,\n",
       " 256,\n",
       " 289,\n",
       " 324,\n",
       " 361,\n",
       " 400,\n",
       " 441,\n",
       " 484,\n",
       " 529,\n",
       " 576,\n",
       " 625,\n",
       " 676,\n",
       " 729,\n",
       " 784,\n",
       " 841,\n",
       " 900,\n",
       " 961,\n",
       " 1024,\n",
       " 1089,\n",
       " 1156,\n",
       " 1225,\n",
       " 1296,\n",
       " 1369,\n",
       " 1444,\n",
       " 1521,\n",
       " 1600,\n",
       " 1681,\n",
       " 1764,\n",
       " 1849,\n",
       " 1936,\n",
       " 2025,\n",
       " 2116,\n",
       " 2209,\n",
       " 2304,\n",
       " 2401,\n",
       " 2500,\n",
       " 2601,\n",
       " 2704,\n",
       " 2809,\n",
       " 2916,\n",
       " 3025,\n",
       " 3136,\n",
       " 3249,\n",
       " 3364,\n",
       " 3481,\n",
       " 3600,\n",
       " 3721,\n",
       " 3844,\n",
       " 3969,\n",
       " 4096,\n",
       " 4225,\n",
       " 4356,\n",
       " 4489,\n",
       " 4624,\n",
       " 4761,\n",
       " 4900,\n",
       " 5041,\n",
       " 5184,\n",
       " 5329,\n",
       " 5476,\n",
       " 5625,\n",
       " 5776,\n",
       " 5929,\n",
       " 6084,\n",
       " 6241,\n",
       " 6400,\n",
       " 6561,\n",
       " 6724,\n",
       " 6889,\n",
       " 7056,\n",
       " 7225,\n",
       " 7396,\n",
       " 7569,\n",
       " 7744,\n",
       " 7921,\n",
       " 8100,\n",
       " 8281,\n",
       " 8464,\n",
       " 8649,\n",
       " 8836,\n",
       " 9025,\n",
       " 9216,\n",
       " 9409,\n",
       " 9604,\n",
       " 9801,\n",
       " 10000]"
      ]
     },
     "execution_count": 115,
     "metadata": {},
     "output_type": "execute_result"
    }
   ],
   "source": [
    "#Q5\n",
    "\n",
    "f= lambda :[i**2 for i in range(1,101)]\n",
    "f()"
   ]
  },
  {
   "cell_type": "code",
   "execution_count": 110,
   "id": "c20fd217",
   "metadata": {},
   "outputs": [
    {
     "ename": "SyntaxError",
     "evalue": "invalid syntax (1068337233.py, line 1)",
     "output_type": "error",
     "traceback": [
      "\u001b[0;36m  Input \u001b[0;32mIn [110]\u001b[0;36m\u001b[0m\n\u001b[0;31m    even = lambda a,b : [i if i%2==0 for i in range(a,b+1)]\u001b[0m\n\u001b[0m                                     ^\u001b[0m\n\u001b[0;31mSyntaxError\u001b[0m\u001b[0;31m:\u001b[0m invalid syntax\n"
     ]
    }
   ],
   "source": [
    "even = lambda a,b : [i if i%2==0 for i in range(a,b+1)]\n",
    "even(1,50)"
   ]
  },
  {
   "cell_type": "code",
   "execution_count": 8,
   "id": "183de07c",
   "metadata": {},
   "outputs": [],
   "source": [
    "#Q7\n",
    "\n",
    "#f = open(\"test.txt\", mode='r', encoding='utf-8')"
   ]
  },
  {
   "cell_type": "code",
   "execution_count": 5,
   "id": "0bb46f3f",
   "metadata": {},
   "outputs": [
    {
     "name": "stdout",
     "output_type": "stream",
     "text": [
      "\n",
      "My name is Tinku Hore.\n",
      "I'm from Azimganj, MSD, WB.\n",
      "I love Python.\n",
      "I love Python.\n",
      "\n"
     ]
    }
   ],
   "source": [
    "with open(\"test.txt\",'r') as f:\n",
    "    content=f.read()\n",
    "    print(content)"
   ]
  },
  {
   "cell_type": "code",
   "execution_count": null,
   "id": "41837099",
   "metadata": {},
   "outputs": [],
   "source": []
  }
 ],
 "metadata": {
  "kernelspec": {
   "display_name": "Python 3 (ipykernel)",
   "language": "python",
   "name": "python3"
  },
  "language_info": {
   "codemirror_mode": {
    "name": "ipython",
    "version": 3
   },
   "file_extension": ".py",
   "mimetype": "text/x-python",
   "name": "python",
   "nbconvert_exporter": "python",
   "pygments_lexer": "ipython3",
   "version": "3.9.12"
  }
 },
 "nbformat": 4,
 "nbformat_minor": 5
}
